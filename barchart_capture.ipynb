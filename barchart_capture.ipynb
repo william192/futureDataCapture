{
 "cells": [
  {
   "cell_type": "code",
   "execution_count": 1,
   "metadata": {
    "collapsed": true
   },
   "outputs": [
    {
     "data": {
      "text/plain": "'C:\\\\Users\\\\mcbri\\\\PycharmProjects\\\\futureDataCapture\\\\chromedriver.exe'"
     },
     "metadata": {},
     "output_type": "display_data"
    },
    {
     "data": {
      "text/plain": "'2023-03-22'"
     },
     "execution_count": 1,
     "metadata": {},
     "output_type": "execute_result"
    }
   ],
   "source": [
    "from selenium import webdriver\n",
    "import os\n",
    "from selenium.webdriver.common.by import By\n",
    "import time\n",
    "import pandas as pd\n",
    "import numpy as np\n",
    "from datetime import datetime\n",
    "import db_multiproc_calc_neutral2 as dmc\n",
    "\n",
    "rf_rate = 0.0475\n",
    "k_do_download = False\n",
    "\n",
    "cwd = os.getcwd()\n",
    "\n",
    "executable_path = os.path.join(cwd,'chromedriver.exe')\n",
    "display(executable_path)\n",
    "\n",
    "date_str = datetime.now().strftime(\"%Y-%m-%d\")\n",
    "#date_str = '2023-03-22'\n",
    "file_date_str = date_str\n",
    "\n",
    "download_path = os.path.join(cwd, 'local_download', file_date_str)\n",
    "file_date_str"
   ]
  },
  {
   "cell_type": "code",
   "execution_count": 2,
   "outputs": [],
   "source": [
    "def get_iv_data_set(sym, file_date_str, barchart_datestr):\n",
    "\n",
    "    exp_iv_date = pd.read_csv(os.path.join('local_download',file_date_str, f'{sym}_{file_date_str}.txt'))\n",
    "    exp_date_str = exp_iv_date.index.values[0]\n",
    "    exp_file_date_str = pd.to_datetime(exp_date_str).strftime('%m_%d_%y')\n",
    "\n",
    "    iv_str = exp_iv_date.values[0][0]\n",
    "    all_iv = pd.to_numeric(iv_str.replace('%',''))/100\n",
    "\n",
    "    px_data_path = os.path.join('local_download', file_date_str, f'{sym}_daily_historical-data-{barchart_datestr}.csv')\n",
    "    opx_data_path = os.path.join('local_download', file_date_str, f'{sym}-options-american-options-exp-{exp_file_date_str}-show-all-%futuresoptionsview%-daily-{barchart_datestr}.csv')\n",
    "    gr_data_path = os.path.join('local_download', file_date_str, f'{sym}-volatility-greeks-exp-{exp_file_date_str}-show-all-{barchart_datestr}.csv')\n",
    "\n",
    "    # read the options price data\n",
    "    fpx = pd.read_csv(px_data_path, parse_dates=['Time']).dropna()\n",
    "    fpx['date'] = fpx['Time'].map(lambda x:pd.to_datetime(x))\n",
    "    fpx = fpx.drop(columns=['Time'])\n",
    "    fpx=fpx.set_index(['date']).sort_index()\n",
    "    close_px = fpx.loc[barchart_datestr, :]['Last']\n",
    "\n",
    "    # read in the option prices and transform\n",
    "    opx = pd.read_csv(opx_data_path)\n",
    "    opx = opx.iloc[:-1,:]\n",
    "    opx['call_put']=opx['Strike'].map(lambda x:x[-1])\n",
    "    opx['num_strike']=opx['Strike'].map(lambda x:pd.to_numeric(x[:-1].replace('-','.').replace(',','')))\n",
    "    opx=opx.drop(labels=['Strike', 'Delta', 'Prev Open', 'Prev High', 'Prev Low', 'Prev Change', 'Premium'], axis=1)\n",
    "    opx = opx.rename(columns={'num_strike': 'Strike',\n",
    "                              'Prev Volume':'Volume',\n",
    "                              'Open Interest':'open_interest',\n",
    "                              'Last':'mean_price'})\n",
    "    opx = opx.set_index(['Strike', 'call_put'])\n",
    "\n",
    "    # read in the greeks and transform\n",
    "    gr = pd.read_csv(gr_data_path)\n",
    "    gr = gr.iloc[:-1,:]\n",
    "\n",
    "    gr['symbol']=sym\n",
    "    gr['option_expiration']=pd.to_datetime(exp_date_str)\n",
    "    gr['Strike']=gr['Strike'].map(lambda x:pd.to_numeric(x))\n",
    "    gr['IV']=pd.to_numeric(gr['IV'].str[:-1])/100\n",
    "    #RWM gr['IV']=all_iv\n",
    "    gr['Type'] = gr['Type'].map({'Put':'P', 'Call':'C'})\n",
    "    gr=gr.drop(labels=['IV Skew', 'Time', 'Last'], axis=1)\n",
    "    gr=gr.rename(columns={'Type':'call_put'})\n",
    "    gr=gr.set_index(['Strike', 'call_put'])\n",
    "\n",
    "    # concat and make columns lowercase\n",
    "    t=pd.concat([opx, gr], axis=1)\n",
    "    t['close_px'] = close_px\n",
    "    t = t.reset_index()\n",
    "    t.columns = map(str.lower, t.columns)\n",
    "\n",
    "    return t\n",
    "\n",
    "def generate_neutral_futures(sym, file_date_str, barchart_datestr):\n",
    "\n",
    "    t = get_iv_data_set(sym, file_date_str, barchart_datestr)\n",
    "\n",
    "    df_iv = t.dropna()\n",
    "    query_date = barchart_datestr\n",
    "    root_symbol = sym\n",
    "    #RWM df_iv['iv'] = all_iv\n",
    "\n",
    "    unique_strikes = sorted(t['strike'])\n",
    "    spot_prices = np.array(dmc.calc_spot_price_levels(unique_strikes), dtype=float)\n",
    "\n",
    "    agg_neutral, df_greeks_by_strike, exp_neutral = \\\n",
    "        dmc.calc_daily_neutral_values( \\\n",
    "            df_iv,\n",
    "            query_date,\n",
    "            rf_rate,\n",
    "            root_symbol,\n",
    "            spot_prices)\n",
    "\n",
    "    agg_neutral['Close'] = t['close_px'].values[0]\n",
    "    agg_neutral['Symbol'] = sym\n",
    "    return [agg_neutral, df_greeks_by_strike, exp_neutral]"
   ],
   "metadata": {
    "collapsed": false,
    "pycharm": {
     "name": "#%%\n"
    }
   }
  },
  {
   "cell_type": "code",
   "execution_count": 3,
   "outputs": [],
   "source": [
    "def bar_chart_get_driver(executable_path, download_path):\n",
    "    chromeOptions = webdriver.ChromeOptions()\n",
    "    chromeOptions.add_experimental_option(\"prefs\", {\n",
    "        \"download.default_directory\": download_path,\n",
    "        \"download.prompt_for_download\": False,\n",
    "        \"download.directory_upgrade\": True,\n",
    "        \"safebrowsing.enabled\": True\n",
    "    })\n",
    "\n",
    "    driver = webdriver.Chrome(executable_path=executable_path, options=chromeOptions)\n",
    "    return driver\n",
    "\n",
    "def bar_chart_login(driver):\n",
    "    driver.get(\"https://www.barchart.com/login\")\n",
    "    driver.find_element(By.NAME, \"email\").click()\n",
    "    driver.find_element(By.NAME, \"email\").send_keys(\"mcbride1689@gmail.com\")\n",
    "    driver.find_element(By.NAME, \"password\").click()\n",
    "    driver.find_element(By.NAME, \"password\").send_keys(\"d5nJSz57A8C5\")\n",
    "    driver.find_element_by_class_name('login-button').click()\n",
    "    return\n",
    "\n",
    "def bar_chart_download(driver, date_str, sym, download=False):\n",
    "\n",
    "    option_price_url = f\"https://www.barchart.com/futures/quotes/{sym}/options?futuresOptionsTime=daily&moneyness=allRows\"\n",
    "    option_greek_url = f'https://www.barchart.com/futures/quotes/{sym}/volatility-greeks?moneyness=allRows'\n",
    "    future_price_url = f'https://www.barchart.com/futures/quotes/{sym}/historical-download'\n",
    "    driver.get(future_price_url)\n",
    "\n",
    "    # download the price history\n",
    "    time.sleep(2)\n",
    "    driver.find_element(By.CSS_SELECTOR, \".bc-price-history-checkboxes .checkbox\").click()\n",
    "    time.sleep(1)\n",
    "    if download:\n",
    "        driver.find_element(By.CSS_SELECTOR, \".add\").click()\n",
    "        time.sleep(2)\n",
    "\n",
    "    # download the options prices\n",
    "    driver.get(option_price_url)\n",
    "    time.sleep(2)\n",
    "\n",
    "    # get the expiration of the contract from the option price page\n",
    "    temp_name = \"#main-content-column > div > div:nth-child(4) > div > div:nth-child(1) > div > strong:nth-child(2)\"\n",
    "    expiration = driver.find_element(By.CSS_SELECTOR, temp_name).text\n",
    "    temp_name = \"#main-content-column > div > div:nth-child(4) > div > div.column.small-12.medium-4.text-medium-up-center > div > strong\"\n",
    "    iv_all = driver.find_element(By.CSS_SELECTOR, temp_name).text\n",
    "    expiration = 'expiration,iv\\n'+expiration+','+iv_all\n",
    "\n",
    "    filename=os.path.join(download_path, f\"{sym}_{date_str}.txt\")\n",
    "    with open(filename, \"w\") as text_file:\n",
    "        print(expiration, file=text_file)\n",
    "\n",
    "    time.sleep(2)\n",
    "    if download:\n",
    "        driver.find_element(By.CSS_SELECTOR, \".toolbar-button > span\").click()\n",
    "        time.sleep(2)\n",
    "\n",
    "    # Get the option greeks\n",
    "    time.sleep(2)\n",
    "    driver.get(option_greek_url)\n",
    "    time.sleep(3)\n",
    "    if download:\n",
    "        driver.find_element(By.CSS_SELECTOR, \".toolbar-button > span\").click()\n",
    "        time.sleep(3)\n",
    "    return"
   ],
   "metadata": {
    "collapsed": false,
    "pycharm": {
     "name": "#%%\n"
    }
   }
  },
  {
   "cell_type": "code",
   "execution_count": 4,
   "outputs": [],
   "source": [
    "all_sym = ['GCJ23', 'CLK23', 'NGJ23', 'ZCK23', 'ZWK23', 'XSK23', 'E6M23', 'ZNM23']\n",
    "if k_do_download:\n",
    "    driver = bar_chart_get_driver(executable_path, download_path, k_do_download)\n",
    "    bar_chart_login(driver)\n",
    "    for sym in all_sym:\n",
    "        bar_chart_download(driver, date_str, sym)\n",
    "    driver.quit()"
   ],
   "metadata": {
    "collapsed": false,
    "pycharm": {
     "name": "#%%\n"
    }
   }
  },
  {
   "cell_type": "code",
   "execution_count": 5,
   "outputs": [],
   "source": [
    "barchart_datestr = pd.to_datetime(file_date_str).strftime('%m-%d-%Y')"
   ],
   "metadata": {
    "collapsed": false,
    "pycharm": {
     "name": "#%%\n"
    }
   }
  },
  {
   "cell_type": "code",
   "execution_count": 6,
   "outputs": [
    {
     "name": "stdout",
     "output_type": "stream",
     "text": [
      "GCJ23\n"
     ]
    },
    {
     "ename": "ValueError",
     "evalue": "Unable to parse string \"03/28/23\" at position 0",
     "output_type": "error",
     "traceback": [
      "\u001B[1;31m---------------------------------------------------------------------------\u001B[0m",
      "\u001B[1;31mValueError\u001B[0m                                Traceback (most recent call last)",
      "\u001B[1;32m~\\anaconda3\\envs\\gamma\\lib\\site-packages\\pandas\\_libs\\lib.pyx\u001B[0m in \u001B[0;36mpandas._libs.lib.maybe_convert_numeric\u001B[1;34m()\u001B[0m\n",
      "\u001B[1;31mValueError\u001B[0m: Unable to parse string \"03/28/23\"",
      "\nDuring handling of the above exception, another exception occurred:\n",
      "\u001B[1;31mValueError\u001B[0m                                Traceback (most recent call last)",
      "\u001B[1;32m<ipython-input-6-2669adda9d43>\u001B[0m in \u001B[0;36m<module>\u001B[1;34m\u001B[0m\n\u001B[0;32m      2\u001B[0m \u001B[1;32mfor\u001B[0m \u001B[0msym\u001B[0m \u001B[1;32min\u001B[0m \u001B[0mall_sym\u001B[0m\u001B[1;33m:\u001B[0m\u001B[1;33m\u001B[0m\u001B[1;33m\u001B[0m\u001B[0m\n\u001B[0;32m      3\u001B[0m     \u001B[0mprint\u001B[0m\u001B[1;33m(\u001B[0m\u001B[0msym\u001B[0m\u001B[1;33m)\u001B[0m\u001B[1;33m\u001B[0m\u001B[1;33m\u001B[0m\u001B[0m\n\u001B[1;32m----> 4\u001B[1;33m     \u001B[0mtemp\u001B[0m\u001B[1;33m.\u001B[0m\u001B[0mappend\u001B[0m\u001B[1;33m(\u001B[0m\u001B[0mgenerate_neutral_futures\u001B[0m\u001B[1;33m(\u001B[0m\u001B[0msym\u001B[0m\u001B[1;33m,\u001B[0m \u001B[0mfile_date_str\u001B[0m\u001B[1;33m,\u001B[0m \u001B[0mbarchart_datestr\u001B[0m\u001B[1;33m)\u001B[0m\u001B[1;33m)\u001B[0m\u001B[1;33m\u001B[0m\u001B[1;33m\u001B[0m\u001B[0m\n\u001B[0m",
      "\u001B[1;32m<ipython-input-2-3223156a5ccb>\u001B[0m in \u001B[0;36mgenerate_neutral_futures\u001B[1;34m(sym, file_date_str, barchart_datestr)\u001B[0m\n\u001B[0;32m     55\u001B[0m \u001B[1;32mdef\u001B[0m \u001B[0mgenerate_neutral_futures\u001B[0m\u001B[1;33m(\u001B[0m\u001B[0msym\u001B[0m\u001B[1;33m,\u001B[0m \u001B[0mfile_date_str\u001B[0m\u001B[1;33m,\u001B[0m \u001B[0mbarchart_datestr\u001B[0m\u001B[1;33m)\u001B[0m\u001B[1;33m:\u001B[0m\u001B[1;33m\u001B[0m\u001B[1;33m\u001B[0m\u001B[0m\n\u001B[0;32m     56\u001B[0m \u001B[1;33m\u001B[0m\u001B[0m\n\u001B[1;32m---> 57\u001B[1;33m     \u001B[0mt\u001B[0m \u001B[1;33m=\u001B[0m \u001B[0mget_iv_data_set\u001B[0m\u001B[1;33m(\u001B[0m\u001B[0msym\u001B[0m\u001B[1;33m,\u001B[0m \u001B[0mfile_date_str\u001B[0m\u001B[1;33m,\u001B[0m \u001B[0mbarchart_datestr\u001B[0m\u001B[1;33m)\u001B[0m\u001B[1;33m\u001B[0m\u001B[1;33m\u001B[0m\u001B[0m\n\u001B[0m\u001B[0;32m     58\u001B[0m \u001B[1;33m\u001B[0m\u001B[0m\n\u001B[0;32m     59\u001B[0m     \u001B[0mdf_iv\u001B[0m \u001B[1;33m=\u001B[0m \u001B[0mt\u001B[0m\u001B[1;33m.\u001B[0m\u001B[0mdropna\u001B[0m\u001B[1;33m(\u001B[0m\u001B[1;33m)\u001B[0m\u001B[1;33m\u001B[0m\u001B[1;33m\u001B[0m\u001B[0m\n",
      "\u001B[1;32m<ipython-input-2-3223156a5ccb>\u001B[0m in \u001B[0;36mget_iv_data_set\u001B[1;34m(sym, file_date_str, barchart_datestr)\u001B[0m\n\u001B[0;32m      6\u001B[0m \u001B[1;33m\u001B[0m\u001B[0m\n\u001B[0;32m      7\u001B[0m     \u001B[0miv_str\u001B[0m \u001B[1;33m=\u001B[0m \u001B[0mexp_iv_date\u001B[0m\u001B[1;33m.\u001B[0m\u001B[0mvalues\u001B[0m\u001B[1;33m[\u001B[0m\u001B[1;36m0\u001B[0m\u001B[1;33m]\u001B[0m\u001B[1;33m[\u001B[0m\u001B[1;36m0\u001B[0m\u001B[1;33m]\u001B[0m\u001B[1;33m\u001B[0m\u001B[1;33m\u001B[0m\u001B[0m\n\u001B[1;32m----> 8\u001B[1;33m     \u001B[0mall_iv\u001B[0m \u001B[1;33m=\u001B[0m \u001B[0mpd\u001B[0m\u001B[1;33m.\u001B[0m\u001B[0mto_numeric\u001B[0m\u001B[1;33m(\u001B[0m\u001B[0miv_str\u001B[0m\u001B[1;33m.\u001B[0m\u001B[0mreplace\u001B[0m\u001B[1;33m(\u001B[0m\u001B[1;34m'%'\u001B[0m\u001B[1;33m,\u001B[0m\u001B[1;34m''\u001B[0m\u001B[1;33m)\u001B[0m\u001B[1;33m)\u001B[0m\u001B[1;33m/\u001B[0m\u001B[1;36m100\u001B[0m\u001B[1;33m\u001B[0m\u001B[1;33m\u001B[0m\u001B[0m\n\u001B[0m\u001B[0;32m      9\u001B[0m \u001B[1;33m\u001B[0m\u001B[0m\n\u001B[0;32m     10\u001B[0m     \u001B[0mpx_data_path\u001B[0m \u001B[1;33m=\u001B[0m \u001B[0mos\u001B[0m\u001B[1;33m.\u001B[0m\u001B[0mpath\u001B[0m\u001B[1;33m.\u001B[0m\u001B[0mjoin\u001B[0m\u001B[1;33m(\u001B[0m\u001B[1;34m'local_download'\u001B[0m\u001B[1;33m,\u001B[0m \u001B[0mfile_date_str\u001B[0m\u001B[1;33m,\u001B[0m \u001B[1;34mf'{sym}_daily_historical-data-{barchart_datestr}.csv'\u001B[0m\u001B[1;33m)\u001B[0m\u001B[1;33m\u001B[0m\u001B[1;33m\u001B[0m\u001B[0m\n",
      "\u001B[1;32m~\\anaconda3\\envs\\gamma\\lib\\site-packages\\pandas\\core\\tools\\numeric.py\u001B[0m in \u001B[0;36mto_numeric\u001B[1;34m(arg, errors, downcast)\u001B[0m\n\u001B[0;32m    182\u001B[0m         \u001B[1;32mtry\u001B[0m\u001B[1;33m:\u001B[0m\u001B[1;33m\u001B[0m\u001B[1;33m\u001B[0m\u001B[0m\n\u001B[0;32m    183\u001B[0m             values, _ = lib.maybe_convert_numeric(\n\u001B[1;32m--> 184\u001B[1;33m                 \u001B[0mvalues\u001B[0m\u001B[1;33m,\u001B[0m \u001B[0mset\u001B[0m\u001B[1;33m(\u001B[0m\u001B[1;33m)\u001B[0m\u001B[1;33m,\u001B[0m \u001B[0mcoerce_numeric\u001B[0m\u001B[1;33m=\u001B[0m\u001B[0mcoerce_numeric\u001B[0m\u001B[1;33m\u001B[0m\u001B[1;33m\u001B[0m\u001B[0m\n\u001B[0m\u001B[0;32m    185\u001B[0m             )\n\u001B[0;32m    186\u001B[0m         \u001B[1;32mexcept\u001B[0m \u001B[1;33m(\u001B[0m\u001B[0mValueError\u001B[0m\u001B[1;33m,\u001B[0m \u001B[0mTypeError\u001B[0m\u001B[1;33m)\u001B[0m\u001B[1;33m:\u001B[0m\u001B[1;33m\u001B[0m\u001B[1;33m\u001B[0m\u001B[0m\n",
      "\u001B[1;32m~\\anaconda3\\envs\\gamma\\lib\\site-packages\\pandas\\_libs\\lib.pyx\u001B[0m in \u001B[0;36mpandas._libs.lib.maybe_convert_numeric\u001B[1;34m()\u001B[0m\n",
      "\u001B[1;31mValueError\u001B[0m: Unable to parse string \"03/28/23\" at position 0"
     ]
    }
   ],
   "source": [
    "temp = []\n",
    "for sym in all_sym:\n",
    "    print(sym)\n",
    "    temp.append(generate_neutral_futures(sym, file_date_str, barchart_datestr))"
   ],
   "metadata": {
    "collapsed": false,
    "pycharm": {
     "name": "#%%\n"
    }
   }
  },
  {
   "cell_type": "code",
   "execution_count": null,
   "outputs": [],
   "source": [
    "agg = [x[1] for x in temp]\n",
    "temp_out = pd.concat(agg)\n",
    "oi_delta = temp_out['open_interest_delta']\n",
    "oi_put_call_ratio = oi_delta.groupby(['date', 'symbol', 'call_put']).sum().unstack('call_put')\n",
    "oi_put_call_ratio['Delta-adj-Put-call-Ratio']= np.abs(oi_put_call_ratio['P'] / oi_put_call_ratio['C'])"
   ],
   "metadata": {
    "collapsed": false,
    "pycharm": {
     "name": "#%%\n"
    }
   }
  },
  {
   "cell_type": "code",
   "execution_count": null,
   "outputs": [],
   "source": [
    "pcr = oi_put_call_ratio.reset_index()[['symbol', 'Delta-adj-Put-call-Ratio']].set_index('symbol')"
   ],
   "metadata": {
    "collapsed": false,
    "pycharm": {
     "name": "#%%\n"
    }
   }
  },
  {
   "cell_type": "code",
   "execution_count": null,
   "outputs": [],
   "source": [
    "temp_iv_data = []\n",
    "for sym in all_sym:\n",
    "    df_iv = get_iv_data_set(sym, file_date_str, barchart_datestr)\n",
    "    df_iv_temp = df_iv[['symbol', 'option_expiration', 'close_px']].tail(1)\n",
    "    temp_iv_data.append(df_iv_temp)\n",
    "closepx_table = pd.concat(temp_iv_data).set_index('symbol')\n",
    "closepx_table = closepx_table.rename(columns={'close_px':'Futures Close', 'option_expiration':'Opex Date'})"
   ],
   "metadata": {
    "collapsed": false,
    "pycharm": {
     "name": "#%%\n"
    }
   }
  },
  {
   "cell_type": "code",
   "execution_count": null,
   "outputs": [],
   "source": [
    "expn = [x[0] for x in temp]\n",
    "final_output = pd.concat(expn).loc[-1,['date', 'symbol', 'delta_neutral', 'gamma_neutral' ]].set_index('symbol')\n",
    "final_output = pd.concat([closepx_table, final_output, pcr], axis=1)\n",
    "final_output"
   ],
   "metadata": {
    "collapsed": false,
    "pycharm": {
     "name": "#%%\n"
    }
   }
  },
  {
   "cell_type": "code",
   "execution_count": null,
   "outputs": [],
   "source": [
    "final_output.to_csv('finalout.csv')\n",
    "final_output"
   ],
   "metadata": {
    "collapsed": false,
    "pycharm": {
     "name": "#%%\n"
    }
   }
  }
 ],
 "metadata": {
  "kernelspec": {
   "name": "gamma",
   "language": "python",
   "display_name": "gamma"
  },
  "language_info": {
   "codemirror_mode": {
    "name": "ipython",
    "version": 2
   },
   "file_extension": ".py",
   "mimetype": "text/x-python",
   "name": "python",
   "nbconvert_exporter": "python",
   "pygments_lexer": "ipython2",
   "version": "2.7.6"
  }
 },
 "nbformat": 4,
 "nbformat_minor": 0
}