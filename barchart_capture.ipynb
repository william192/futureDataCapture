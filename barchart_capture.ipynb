{
 "cells": [
  {
   "cell_type": "code",
   "execution_count": 1,
   "outputs": [
    {
     "data": {
      "text/plain": "'C:\\\\Users\\\\mcbri\\\\PycharmProjects\\\\futureDataCapture\\\\chromedriver.exe'"
     },
     "metadata": {},
     "output_type": "display_data"
    },
    {
     "name": "stdout",
     "output_type": "stream",
     "text": [
      "processing futures options:2023-03-29\n",
      "C:\\Users\\mcbri\\PycharmProjects\\futureDataCapture\\local_download\\2023-03-29 exists\n"
     ]
    }
   ],
   "source": [
    "from selenium import webdriver\n",
    "import os\n",
    "from selenium.webdriver.common.by import By\n",
    "import time\n",
    "import pandas as pd\n",
    "import numpy as np\n",
    "from datetime import datetime\n",
    "import db_multiproc_calc_neutral2 as dmc\n",
    "from bs4 import BeautifulSoup\n",
    "import requests\n",
    "from random import *\n",
    "import glob\n",
    "\n",
    "k_do_download = False\n",
    "#all_sym = ['GCJ23']\n",
    "#all_sym = ['CLK23', 'NGJ23', 'ZCK23', 'ZWK23', 'ZSK23', 'E6M23', 'ZNM23',\n",
    "#           'NGK23', 'SIK23', 'HGK23']\n",
    "\n",
    "# For a given option\n",
    "\n",
    "cwd = os.getcwd()\n",
    "\n",
    "executable_path = os.path.join(cwd,'chromedriver.exe')\n",
    "display(executable_path)\n",
    "\n",
    "date_value = datetime.now()\n",
    "date_str = date_value.strftime(\"%Y-%m-%d\")\n",
    "\n",
    "#date_str = '2023-03-24'\n",
    "output_date_str = datetime.now().strftime(\"%Y%m%d\")\n",
    "file_date_str = date_str\n",
    "barchart_datestr = pd.to_datetime(file_date_str).strftime('%m-%d-%Y')\n",
    "\n",
    "download_path = os.path.join(cwd, 'local_download', file_date_str)\n",
    "\n",
    "print(f'processing futures options:{file_date_str}')\n",
    "\n",
    "try:\n",
    "    os.mkdir(download_path)\n",
    "except:\n",
    "    print(f'{download_path} exists')\n"
   ],
   "metadata": {
    "collapsed": false
   }
  },
  {
   "cell_type": "code",
   "execution_count": 2,
   "outputs": [],
   "source": [
    "def get_nearest_contract(date_value):\n",
    "    fut_con = pd.read_csv(os.path.join(cwd, 'local_download', 'futures_contract_dates.csv'), parse_dates=['first_notice','expiration'])\n",
    "    # extract the symbol root which is the first two characters of the contract\n",
    "    fut_con['symbol_root'] = fut_con['futures_contract'].map(lambda x:x[0:2])\n",
    "    # get the contracts which are still valid\n",
    "    idx_valid = fut_con['first_notice'] > date_value\n",
    "    fut_con_valid = fut_con.loc[idx_valid]\n",
    "    # extract the nearest\n",
    "    df_ret = fut_con_valid.sort_values(['first_notice'], ascending=True).groupby('symbol_root').head(1).sort_values('futures_contract')\n",
    "    return df_ret\n",
    "\n",
    "def find_all_downloaded_contracts(download_path):\n",
    "    df_all_ctr = find_all_downloaded_contracts(download_path)\n",
    "    return df_all_ctr['futures_contract'].unique()\n",
    "\n",
    "def find_all_downloaded_details(download_path):\n",
    "    all_df = []\n",
    "    for filename in glob.glob(os.path.join(download_path, '*.txt')):\n",
    "        all_df.append(pd.read_csv(filename))\n",
    "    df_all_ctr = pd.concat(all_df, axis=0)\n",
    "    return df_all_ctr\n",
    "\n",
    "def get_treasury_data(start_date):\n",
    "\n",
    "    start_date_str = start_date.strftime(\"%Y%m\")\n",
    "    url='https://home.treasury.gov/resource-center/data-chart-center/interest-rates/pages/xml?data=daily_treasury_yield_curve&field_tdr_date_value_month='+start_date_str\n",
    "    soup = BeautifulSoup(requests.get(url).text,'lxml')\n",
    "    table = soup.find_all('m:properties')\n",
    "    tbondvalues = []\n",
    "    for i in table:\n",
    "        tbondvalues.append([i.find('d:new_date').text[:10],i.find('d:bc_1month').text,i.find('d:bc_2month').text,i.find('d:bc_3month').text,i.find('d:bc_6month').text,i.find('d:bc_1year').text,i.find('d:bc_2year').text,i.find('d:bc_3year').text,i.find('d:bc_5year').text,i.find('d:bc_10year').text,i.find('d:bc_20year').text,i.find('d:bc_30year').text])\n",
    "    ustcurve = pd.DataFrame(tbondvalues,columns=['date','1m','2m','3m','6m','1y','2y','3y','5y','10y','20y','30y'])\n",
    "    ustcurve.iloc[:,1:] = ustcurve.iloc[:,1:].apply(pd.to_numeric)/100\n",
    "    ustcurve['date'] = pd.to_datetime(ustcurve['date'])\n",
    "    tbl_daily = ustcurve.sort_values(['date'])\n",
    "    tbl_daily = tbl_daily.set_index('date').stack(level=0).reset_index()\n",
    "    tbl_daily.columns = ['date', 'tenor', 'rate']\n",
    "\n",
    "    return tbl_daily\n",
    "\n",
    "def get_put_call_ratio(df_iv):\n",
    "    # This takes the IV datafrmae and calcs both the delta adjusted put call and\n",
    "    # natural put call ratio from the barcharts data\n",
    "    df_iv = df_iv.dropna().copy()\n",
    "    df_iv = df_iv.loc[:, ['strike', 'call_put', 'open_interest', 'delta']]\n",
    "    df_iv['Delta-Adj-Put-Call-Ratio'] = df_iv['open_interest'] * df_iv['delta']\n",
    "    df_iv = df_iv.drop(columns=['delta'])\n",
    "    df_iv = df_iv.set_index(['strike', 'call_put']).groupby('call_put').sum()\n",
    "    df_iv = df_iv.rename(columns={'open_interest':'Put-Call-Ratio'})\n",
    "    pc_temp = df_iv.T\n",
    "    return (pc_temp.loc[:,'P'] / pc_temp.loc[:,'C'])\n",
    "\n",
    "def get_iv_data_set(sym, option_expiration, file_date_str, barchart_datestr):\n",
    "    # compile the implied vol dataframe from the files downloaded from barcharts\n",
    "\n",
    "    exp_date_str = option_expiration\n",
    "    exp_file_date_str = pd.to_datetime(exp_date_str).strftime('%m_%d_%y')\n",
    "\n",
    "    #iv_str = df_exp_data.values[0][1]\n",
    "    #all_iv = pd.to_numeric(iv_str.replace('%',''))/100\n",
    "\n",
    "    px_data_path = os.path.join('local_download', file_date_str, f'{sym}_daily_historical-data-{barchart_datestr}.csv')\n",
    "    opx_data_path = os.path.join('local_download', file_date_str, f'{sym}-options-american-options-exp-{exp_file_date_str}-show-all-%futuresoptionsview%-daily-{barchart_datestr}.csv')\n",
    "    gr_data_path = os.path.join('local_download', file_date_str, f'{sym}-volatility-greeks-exp-{exp_file_date_str}-show-all-{barchart_datestr}.csv')\n",
    "\n",
    "    # read the options price data\n",
    "    fpx = pd.read_csv(px_data_path, parse_dates=['Time']).dropna()\n",
    "    fpx['date'] = fpx['Time'].map(lambda x:pd.to_datetime(x))\n",
    "    fpx = fpx.drop(columns=['Time'])\n",
    "    fpx=fpx.set_index(['date']).sort_index()\n",
    "    close_px = fpx.loc[barchart_datestr, :]['Last']\n",
    "\n",
    "    # read in the option prices and transform\n",
    "    opx = pd.read_csv(opx_data_path)\n",
    "    opx = opx.iloc[:-1,:]\n",
    "    opx['call_put']=opx['Strike'].map(lambda x:x[-1])\n",
    "    opx['num_strike']=opx['Strike'].map(lambda x:pd.to_numeric(x[:-1].replace('-','.').replace(',','')))\n",
    "    if 'Prev Low' in opx.columns:\n",
    "        opx=opx.drop(labels=['Strike', 'Delta', 'Prev Open', 'Prev High', 'Prev Low', 'Prev Change', 'Premium'], axis=1)\n",
    "        opx = opx.rename(columns={'num_strike': 'Strike',\n",
    "                              'Prev Volume':'Volume',\n",
    "                              'Open Interest':'open_interest',\n",
    "                              'Last':'mean_price'})\n",
    "    else:\n",
    "        opx=opx.drop(labels=['Strike', 'High', 'Low', 'Change', 'Premium'], axis=1)\n",
    "        opx = opx.rename(columns={'num_strike': 'Strike',\n",
    "                              'Open Int':'open_interest',\n",
    "                              'Last':'mean_price'})\n",
    "    opx = opx.set_index(['Strike', 'call_put'])\n",
    "\n",
    "    # read in the greeks and transform\n",
    "    gr = pd.read_csv(gr_data_path)\n",
    "    gr = gr.iloc[:-1,:]\n",
    "\n",
    "    gr['symbol']=sym\n",
    "    gr['option_expiration']=pd.to_datetime(exp_date_str)\n",
    "    gr['Strike']=gr['Strike'].map(lambda x:pd.to_numeric(x))\n",
    "    gr['IV']=pd.to_numeric(gr['IV'].str[:-1])/100\n",
    "    #RWMgr['IV']=all_iv\n",
    "    gr['Type'] = gr['Type'].map({'Put':'P', 'Call':'C'})\n",
    "    gr=gr.drop(labels=['IV Skew', 'Time', 'Last'], axis=1)\n",
    "    gr=gr.rename(columns={'Type':'call_put'})\n",
    "    gr=gr.set_index(['Strike', 'call_put'])\n",
    "\n",
    "    # concat and make columns lowercase\n",
    "    t=pd.concat([opx, gr], axis=1)\n",
    "    t['close_px'] = close_px\n",
    "    t = t.reset_index()\n",
    "    t.columns = map(str.lower, t.columns)\n",
    "    return t\n",
    "\n",
    "def clean_implied_vol(df_iv_file):\n",
    "    x = df_iv_file.set_index(['strike', 'call_put']).sort_index().copy()\n",
    "    y = x['iv'].unstack('call_put')\n",
    "    idx_put_zero = y['P']==0\n",
    "    idx_call_zero = y['C']==0\n",
    "\n",
    "    idx_call_zero_replace = idx_call_zero * ~idx_put_zero\n",
    "    idx_put_zero_replace = idx_put_zero * ~idx_call_zero\n",
    "    y.loc[idx_call_zero_replace, 'C'] = y.loc[idx_call_zero_replace, 'P']\n",
    "    y.loc[idx_put_zero_replace, 'P'] = y.loc[idx_put_zero_replace, 'C']\n",
    "    y = y.rolling(3, center=True, min_periods=0).median()\n",
    "    y = y.stack('call_put')\n",
    "    y.name = 'clean_iv'\n",
    "    x1 = pd.concat([x,y],axis=1)\n",
    "    x1['iv'] = x1['clean_iv']\n",
    "    x1.drop(columns='clean_iv', inplace=True)\n",
    "    return x1\n",
    "\n",
    "def generate_neutral_futures(sym, option_expiration, file_date_str, barchart_datestr):\n",
    "\n",
    "    t = get_iv_data_set(sym, option_expiration, file_date_str, barchart_datestr)\n",
    "    df_iv = clean_implied_vol(t).dropna().reset_index()\n",
    "\n",
    "    query_date = barchart_datestr\n",
    "    root_symbol = sym\n",
    "\n",
    "    unique_strikes = sorted(t['strike'])\n",
    "    spot_prices = np.array(dmc.calc_spot_price_levels(unique_strikes), dtype=float)\n",
    "\n",
    "    agg_neutral, df_greeks_by_strike, exp_neutral = \\\n",
    "        dmc.calc_daily_neutral_values( \\\n",
    "            df_iv,\n",
    "            query_date,\n",
    "            rf_rate,\n",
    "            root_symbol,\n",
    "            spot_prices)\n",
    "\n",
    "    agg_neutral['Close'] = t['close_px'].values[0]\n",
    "    agg_neutral['Symbol'] = sym\n",
    "    return [agg_neutral, df_greeks_by_strike, exp_neutral]"
   ],
   "metadata": {
    "collapsed": false
   }
  },
  {
   "cell_type": "code",
   "execution_count": 3,
   "outputs": [
    {
     "data": {
      "text/plain": "0.0434"
     },
     "execution_count": 3,
     "metadata": {},
     "output_type": "execute_result"
    }
   ],
   "source": [
    "rate_filename = os.path.join(download_path,'rate.csv')\n",
    "\n",
    "if k_do_download:\n",
    "    df_rate = get_treasury_data(pd.to_datetime(date_str))\n",
    "    df_rate.to_csv(rate_filename, index=False)\n",
    "\n",
    "df_rate = pd.read_csv(rate_filename)\n",
    "rf_rate = df_rate.set_index(['date', 'tenor']).loc[date_str,'1m'].values[0]\n",
    "rf_rate"
   ],
   "metadata": {
    "collapsed": false
   }
  },
  {
   "cell_type": "code",
   "execution_count": 4,
   "outputs": [],
   "source": [
    "def bar_chart_get_driver(executable_path, download_path):\n",
    "    chromeOptions = webdriver.ChromeOptions()\n",
    "    chromeOptions.add_experimental_option(\"prefs\", {\n",
    "        \"download.default_directory\": download_path,\n",
    "        \"download.prompt_for_download\": False,\n",
    "        \"download.directory_upgrade\": True,\n",
    "        \"safebrowsing.enabled\": True\n",
    "    })\n",
    "\n",
    "    driver = webdriver.Chrome(executable_path=executable_path, options=chromeOptions)\n",
    "    return driver\n",
    "\n",
    "def bar_chart_login(driver):\n",
    "    driver.get(\"https://www.barchart.com/login\")\n",
    "    driver.find_element(By.NAME, \"email\").click()\n",
    "    driver.find_element(By.NAME, \"email\").send_keys(\"mcbride1689@gmail.com\")\n",
    "    driver.find_element(By.NAME, \"password\").click()\n",
    "    driver.find_element(By.NAME, \"password\").send_keys(\"d5nJSz57A8C5\")\n",
    "    driver.find_element_by_class_name('login-button').click()\n",
    "    return\n",
    "\n",
    "def bar_chart_download(driver, date_str, sym, download=False):\n",
    "\n",
    "    def on_current_page_download_near_next(driver, download):\n",
    "        # Get the list of options in the dropdown\n",
    "        driver.find_element(By.ID, \"bc-options-toolbar__dropdown-month\").click()\n",
    "        dropdown = driver.find_element(By.ID, \"bc-options-toolbar__dropdown-month\")\n",
    "        options = dropdown.text\n",
    "        options = options.split('\\n')\n",
    "        options = [x.lstrip() for x in options]\n",
    "        mon_expr=[]\n",
    "        option_expiration=[]\n",
    "        iv_all=[]\n",
    "\n",
    "        # iterate through the options and get the expiration\n",
    "        num_downloaded = 0\n",
    "        check_loop_counter = 0\n",
    "        while num_downloaded < 2:\n",
    "            time.sleep(random()*3)\n",
    "\n",
    "            try:\n",
    "                driver.find_element(By.ID, \"bc-options-toolbar__dropdown-month\").click()\n",
    "                time.sleep(random()*2)\n",
    "                dropdown = driver.find_element(By.ID, \"bc-options-toolbar__dropdown-month\")\n",
    "                dropdown.find_element(By.XPATH, f\"//option[. = '{options[check_loop_counter]}']\").click()\n",
    "\n",
    "                #click all expiries and daily\n",
    "                time.sleep(random()*0.5)\n",
    "                driver.find_element(By.NAME, \"moneyness\").click()\n",
    "                time.sleep(random()*0.5)\n",
    "                dropdown = driver.find_element(By.NAME, \"moneyness\")\n",
    "                dropdown.find_element(By.XPATH, \"//option[. = 'Show All']\").click()\n",
    "                time.sleep(random()*0.5)\n",
    "                driver.find_element(By.CSS_SELECTOR, \".bc-datatable-toolbar:nth-child(3)\").click()\n",
    "                time.sleep(random()*0.5)\n",
    "                try:\n",
    "                    driver.find_element(By.NAME, \"futuresOptionsTime\").click()\n",
    "                    time.sleep(random()*0.5)\n",
    "                    dropdown = driver.find_element(By.NAME, \"futuresOptionsTime\")\n",
    "                    dropdown.find_element(By.XPATH, \"//option[. = 'Daily']\").click()\n",
    "                except:\n",
    "                    print('')\n",
    "\n",
    "                # Get the option expiration date\n",
    "                temp_name = \"#main-content-column > div > div:nth-child(4) > div > div:nth-child(1) > div > strong:nth-child(2)\"\n",
    "                expiration_date = driver.find_element(By.CSS_SELECTOR, temp_name).text\n",
    "\n",
    "                if pd.to_datetime(expiration_date) > pd.to_datetime(date_str):\n",
    "                    option_expiration.append(expiration_date)\n",
    "                    # Get the contract associated with the month\n",
    "                    temp_name = \"#main-content-column > div > div.page-title.symbol-header-info.ng-scope > div.symbol-name > div > span:nth-child(2)\"\n",
    "                    # note we remove ( and ) by removing the first and last character\n",
    "                    mon_expr.append(driver.find_element(By.CSS_SELECTOR, temp_name).text[1:-1])\n",
    "                    # Get the IV of all options\n",
    "                    temp_name = \"#main-content-column > div > div:nth-child(4) > div > div.column.small-12.medium-4.text-medium-up-center > div > strong\"\n",
    "                    iv_all.append(driver.find_element(By.CSS_SELECTOR, temp_name).text)\n",
    "\n",
    "\n",
    "                    if download:\n",
    "                        time.sleep(random()*3)\n",
    "                        print(f'downloading {mon_expr[-1]}')\n",
    "                        driver.find_element(By.CSS_SELECTOR, \".toolbar-button > span\").click()\n",
    "                        time.sleep(3)\n",
    "                        num_downloaded = num_downloaded + 1\n",
    "\n",
    "                # make sure we don't loop endlessly\n",
    "                check_loop_counter = check_loop_counter + 1\n",
    "                if check_loop_counter > 10:\n",
    "                    break\n",
    "            except:\n",
    "                print(sym+\":\"+options[check_loop_counter] + \" not found\")\n",
    "\n",
    "        return pd.DataFrame(zip(mon_expr, option_expiration, iv_all), columns=['futures_contract', 'option_expiration', 'iv'])\n",
    "\n",
    "    option_price_url = f\"https://www.barchart.com/futures/quotes/{sym}/options?futuresOptionsTime=daily&moneyness=allRows\"\n",
    "    option_greek_url = f'https://www.barchart.com/futures/quotes/{sym}/volatility-greeks?moneyness=allRows'\n",
    "\n",
    "    #-------------------\n",
    "    # download the options prices\n",
    "    time.sleep(2*random())\n",
    "    driver.get(option_price_url)\n",
    "    time.sleep(2)\n",
    "\n",
    "    df_price_data = on_current_page_download_near_next(driver, download)\n",
    "\n",
    "    # Get the option greeks\n",
    "    time.sleep(2*random())\n",
    "    driver.get(option_greek_url)\n",
    "    time.sleep(2)\n",
    "\n",
    "    df_greek_data = on_current_page_download_near_next(driver, download)\n",
    "\n",
    "    df_price_data['source'] = 'price_page'\n",
    "    df_greek_data['source'] = 'greeks_page'\n",
    "    df_all = pd.concat([df_price_data, df_greek_data], axis=0)\n",
    "    filename=os.path.join(download_path, f\"{sym}_{date_str}.txt\")\n",
    "    df_all.to_csv(filename)\n",
    "\n",
    "    # download all pricing files needed\n",
    "    for ctr in df_all['futures_contract'].unique():\n",
    "        future_price_url = f'https://www.barchart.com/futures/quotes/{ctr}/historical-download'\n",
    "\n",
    "        # download the futures prices\n",
    "        driver.get(future_price_url)\n",
    "\n",
    "        # download the price history\n",
    "        time.sleep(2*random())\n",
    "        driver.find_element(By.CSS_SELECTOR, \".bc-price-history-checkboxes .checkbox\").click()\n",
    "        time.sleep(2)\n",
    "\n",
    "        if download:\n",
    "            driver.find_element(By.CSS_SELECTOR, \".add\").click()\n",
    "            time.sleep(3)\n",
    "    return"
   ],
   "metadata": {
    "collapsed": false
   }
  },
  {
   "cell_type": "code",
   "execution_count": 5,
   "outputs": [],
   "source": [
    "df_contract_list = get_nearest_contract(date_value)"
   ],
   "metadata": {
    "collapsed": false
   }
  },
  {
   "cell_type": "code",
   "execution_count": 6,
   "outputs": [
    {
     "data": {
      "text/plain": "array(['CLK23', 'GCJ23', 'HGK23', 'NGJ23', 'SIK23', 'ZCK23', 'ZNM23',\n       'ZSK23', 'ZWK23'], dtype=object)"
     },
     "execution_count": 6,
     "metadata": {},
     "output_type": "execute_result"
    }
   ],
   "source": [
    "all_sym = df_contract_list['futures_contract'].values\n",
    "all_sym"
   ],
   "metadata": {
    "collapsed": false
   }
  },
  {
   "cell_type": "code",
   "execution_count": 7,
   "outputs": [],
   "source": [
    "if k_do_download:\n",
    "    driver = bar_chart_get_driver(executable_path, download_path)\n",
    "    bar_chart_login(driver)\n",
    "    for sym in all_sym:\n",
    "        print(f'download {sym}')\n",
    "        bar_chart_download(driver, date_str, sym, k_do_download)\n",
    "    driver.quit()"
   ],
   "metadata": {
    "collapsed": false
   }
  },
  {
   "cell_type": "code",
   "execution_count": 8,
   "outputs": [
    {
     "data": {
      "text/plain": "  futures_contract option_expiration      iv\n0            CLK23          04/17/23  40.86%\n1            CLM23          05/17/23  42.16%\n0            GCM23          05/25/23  17.00%\n1            GCQ23          06/27/23  16.70%\n0            HGK23          04/25/23  24.11%\n1            HGN23          05/25/23  26.31%\n0            NGM23          05/25/23  84.69%\n1            NGN23          06/27/23  73.21%\n0            SIK23          04/25/23  28.48%\n1            SIN23          05/25/23  29.01%\n0            ZCK23          04/21/23  22.62%\n1            ZCN23          05/26/23  24.11%\n0            ZNM23          04/21/23   8.99%\n1            ZNM23          05/26/23   8.99%\n0            ZSK23          04/21/23  18.25%\n1            ZSN23          05/26/23  19.28%\n0            ZWK23          04/21/23  31.09%\n1            ZWN23          05/26/23  31.11%",
      "text/html": "<div>\n<style scoped>\n    .dataframe tbody tr th:only-of-type {\n        vertical-align: middle;\n    }\n\n    .dataframe tbody tr th {\n        vertical-align: top;\n    }\n\n    .dataframe thead th {\n        text-align: right;\n    }\n</style>\n<table border=\"1\" class=\"dataframe\">\n  <thead>\n    <tr style=\"text-align: right;\">\n      <th></th>\n      <th>futures_contract</th>\n      <th>option_expiration</th>\n      <th>iv</th>\n    </tr>\n  </thead>\n  <tbody>\n    <tr>\n      <th>0</th>\n      <td>CLK23</td>\n      <td>04/17/23</td>\n      <td>40.86%</td>\n    </tr>\n    <tr>\n      <th>1</th>\n      <td>CLM23</td>\n      <td>05/17/23</td>\n      <td>42.16%</td>\n    </tr>\n    <tr>\n      <th>0</th>\n      <td>GCM23</td>\n      <td>05/25/23</td>\n      <td>17.00%</td>\n    </tr>\n    <tr>\n      <th>1</th>\n      <td>GCQ23</td>\n      <td>06/27/23</td>\n      <td>16.70%</td>\n    </tr>\n    <tr>\n      <th>0</th>\n      <td>HGK23</td>\n      <td>04/25/23</td>\n      <td>24.11%</td>\n    </tr>\n    <tr>\n      <th>1</th>\n      <td>HGN23</td>\n      <td>05/25/23</td>\n      <td>26.31%</td>\n    </tr>\n    <tr>\n      <th>0</th>\n      <td>NGM23</td>\n      <td>05/25/23</td>\n      <td>84.69%</td>\n    </tr>\n    <tr>\n      <th>1</th>\n      <td>NGN23</td>\n      <td>06/27/23</td>\n      <td>73.21%</td>\n    </tr>\n    <tr>\n      <th>0</th>\n      <td>SIK23</td>\n      <td>04/25/23</td>\n      <td>28.48%</td>\n    </tr>\n    <tr>\n      <th>1</th>\n      <td>SIN23</td>\n      <td>05/25/23</td>\n      <td>29.01%</td>\n    </tr>\n    <tr>\n      <th>0</th>\n      <td>ZCK23</td>\n      <td>04/21/23</td>\n      <td>22.62%</td>\n    </tr>\n    <tr>\n      <th>1</th>\n      <td>ZCN23</td>\n      <td>05/26/23</td>\n      <td>24.11%</td>\n    </tr>\n    <tr>\n      <th>0</th>\n      <td>ZNM23</td>\n      <td>04/21/23</td>\n      <td>8.99%</td>\n    </tr>\n    <tr>\n      <th>1</th>\n      <td>ZNM23</td>\n      <td>05/26/23</td>\n      <td>8.99%</td>\n    </tr>\n    <tr>\n      <th>0</th>\n      <td>ZSK23</td>\n      <td>04/21/23</td>\n      <td>18.25%</td>\n    </tr>\n    <tr>\n      <th>1</th>\n      <td>ZSN23</td>\n      <td>05/26/23</td>\n      <td>19.28%</td>\n    </tr>\n    <tr>\n      <th>0</th>\n      <td>ZWK23</td>\n      <td>04/21/23</td>\n      <td>31.09%</td>\n    </tr>\n    <tr>\n      <th>1</th>\n      <td>ZWN23</td>\n      <td>05/26/23</td>\n      <td>31.11%</td>\n    </tr>\n  </tbody>\n</table>\n</div>"
     },
     "execution_count": 8,
     "metadata": {},
     "output_type": "execute_result"
    }
   ],
   "source": [
    "all_sym = find_all_downloaded_details(download_path)\n",
    "all_contracts = all_sym[['futures_contract', 'option_expiration', 'iv']].drop_duplicates()\n",
    "all_contracts"
   ],
   "metadata": {
    "collapsed": false
   }
  },
  {
   "cell_type": "code",
   "execution_count": 9,
   "outputs": [
    {
     "name": "stdout",
     "output_type": "stream",
     "text": [
      "futures_contract        CLK23\n",
      "option_expiration    04/17/23\n",
      "iv                     40.86%\n",
      "Name: 0, dtype: object\n",
      "futures_contract        CLM23\n",
      "option_expiration    05/17/23\n",
      "iv                     42.16%\n",
      "Name: 1, dtype: object\n",
      "futures_contract        GCM23\n",
      "option_expiration    05/25/23\n",
      "iv                     17.00%\n",
      "Name: 0, dtype: object\n",
      "futures_contract        GCQ23\n",
      "option_expiration    06/27/23\n",
      "iv                     16.70%\n",
      "Name: 1, dtype: object\n",
      "futures_contract        HGK23\n",
      "option_expiration    04/25/23\n",
      "iv                     24.11%\n",
      "Name: 0, dtype: object\n",
      "futures_contract        HGN23\n",
      "option_expiration    05/25/23\n",
      "iv                     26.31%\n",
      "Name: 1, dtype: object\n",
      "futures_contract        NGM23\n",
      "option_expiration    05/25/23\n",
      "iv                     84.69%\n",
      "Name: 0, dtype: object\n",
      "futures_contract        NGN23\n",
      "option_expiration    06/27/23\n",
      "iv                     73.21%\n",
      "Name: 1, dtype: object\n",
      "futures_contract        SIK23\n",
      "option_expiration    04/25/23\n",
      "iv                     28.48%\n",
      "Name: 0, dtype: object\n",
      "futures_contract        SIN23\n",
      "option_expiration    05/25/23\n",
      "iv                     29.01%\n",
      "Name: 1, dtype: object\n",
      "futures_contract        ZCK23\n",
      "option_expiration    04/21/23\n",
      "iv                     22.62%\n",
      "Name: 0, dtype: object\n",
      "futures_contract        ZCN23\n",
      "option_expiration    05/26/23\n",
      "iv                     24.11%\n",
      "Name: 1, dtype: object\n",
      "futures_contract        ZNM23\n",
      "option_expiration    04/21/23\n",
      "iv                      8.99%\n",
      "Name: 0, dtype: object\n",
      "futures_contract        ZNM23\n",
      "option_expiration    05/26/23\n",
      "iv                      8.99%\n",
      "Name: 1, dtype: object\n",
      "futures_contract        ZSK23\n",
      "option_expiration    04/21/23\n",
      "iv                     18.25%\n",
      "Name: 0, dtype: object\n",
      "futures_contract        ZSN23\n",
      "option_expiration    05/26/23\n",
      "iv                     19.28%\n",
      "Name: 1, dtype: object\n",
      "futures_contract        ZWK23\n",
      "option_expiration    04/21/23\n",
      "iv                     31.09%\n",
      "Name: 0, dtype: object\n",
      "futures_contract        ZWN23\n",
      "option_expiration    05/26/23\n",
      "iv                     31.11%\n",
      "Name: 1, dtype: object\n"
     ]
    }
   ],
   "source": [
    "temp = []\n",
    "for idx, row in all_contracts.iterrows():\n",
    "    sym = row[0]\n",
    "    option_expiration = row[1]\n",
    "    #print(row)\n",
    "    temp.append(generate_neutral_futures(sym, option_expiration, file_date_str, barchart_datestr))"
   ],
   "metadata": {
    "collapsed": false
   }
  },
  {
   "cell_type": "code",
   "execution_count": 10,
   "outputs": [],
   "source": [
    "# Pull the data together and get the delta put call ratio from the files\n",
    "temp_iv_data = []\n",
    "for idx, row in all_contracts.iterrows():\n",
    "    sym = row[0]\n",
    "    option_expiration = row[1]\n",
    "\n",
    "    df_iv = get_iv_data_set(sym, option_expiration, file_date_str, barchart_datestr)\n",
    "    df_pcr = get_put_call_ratio(df_iv)\n",
    "    df_iv['Put-Call-Ratio'] = df_pcr['Put-Call-Ratio']\n",
    "    df_iv['Delta-Adj-Put-Call-Ratio'] = np.abs(df_pcr['Delta-Adj-Put-Call-Ratio'])\n",
    "    df_iv = df_iv[['symbol', 'option_expiration', 'close_px', 'Put-Call-Ratio', 'Delta-Adj-Put-Call-Ratio']].tail(1)\n",
    "    temp_iv_data.append(df_iv)\n",
    "closepx_table = pd.concat(temp_iv_data).set_index('symbol')\n",
    "closepx_table = closepx_table.rename(columns={'close_px':'Futures Close', 'option_expiration':'Opex Date'})"
   ],
   "metadata": {
    "collapsed": false
   }
  },
  {
   "cell_type": "code",
   "execution_count": 11,
   "outputs": [
    {
     "data": {
      "text/plain": "        Opex Date  Futures Close  delta_neutral  gamma_neutral  \\\nsymbol                                                           \nCLK23  2023-04-17       72.97000      71.933481      69.390376   \nCLM23  2023-05-17       73.12000      73.102835      71.607750   \nGCM23  2023-05-25     1984.50000    1882.631859    1870.264790   \nGCQ23  2023-06-27     2002.10000    1883.634312    1847.616735   \nHGK23  2023-04-25        4.08650       3.974943       3.960039   \nHGN23  2023-05-25        4.09300       3.880718       3.806462   \nNGM23  2023-05-25        2.44800       2.223431            NaN   \nNGN23  2023-06-27        2.72600            NaN            NaN   \nSIK23  2023-04-25       23.46600      22.097398      22.301599   \nSIN23  2023-05-25       23.65800      22.186160      22.377357   \nZCK23  2023-04-21      650.50000     643.113891     642.189198   \nZCN23  2023-05-26      630.50000     620.726677     624.758771   \nZNM23  2023-04-21      114.53125     113.995424     114.541057   \nZNM23  2023-05-26      114.53125     111.762139     109.784421   \nZSK23  2023-04-21     1477.25000    1504.897507    1526.962658   \nZSN23  2023-05-26     1450.75000    1440.264143    1414.581275   \nZWK23  2023-04-21      704.75000     697.140277     682.865317   \nZWN23  2023-05-26      716.25000     657.433928     629.831659   \n\n        Put-Call-Ratio  Delta-Adj-Put-Call-Ratio  \nsymbol                                            \nCLK23         0.742086                  0.832137  \nCLM23         0.756744                  1.103269  \nGCM23         0.572439                  0.246674  \nGCQ23         0.419549                  0.262004  \nHGK23         0.692263                  0.483586  \nHGN23         0.319952                  0.324020  \nNGM23         0.296200                  0.520773  \nNGN23         0.091262                  0.118643  \nSIK23         1.145976                  0.258645  \nSIN23         0.917808                  0.337754  \nZCK23         1.081994                  0.780336  \nZCN23         1.047816                  0.842245  \nZNM23         1.052035                  0.879899  \nZNM23         0.666733                  0.454152  \nZSK23         1.147401                  2.133650  \nZSN23         0.756650                  0.991054  \nZWK23         0.545912                  0.857448  \nZWN23         0.458745                  0.273993  ",
      "text/html": "<div>\n<style scoped>\n    .dataframe tbody tr th:only-of-type {\n        vertical-align: middle;\n    }\n\n    .dataframe tbody tr th {\n        vertical-align: top;\n    }\n\n    .dataframe thead th {\n        text-align: right;\n    }\n</style>\n<table border=\"1\" class=\"dataframe\">\n  <thead>\n    <tr style=\"text-align: right;\">\n      <th></th>\n      <th>Opex Date</th>\n      <th>Futures Close</th>\n      <th>delta_neutral</th>\n      <th>gamma_neutral</th>\n      <th>Put-Call-Ratio</th>\n      <th>Delta-Adj-Put-Call-Ratio</th>\n    </tr>\n    <tr>\n      <th>symbol</th>\n      <th></th>\n      <th></th>\n      <th></th>\n      <th></th>\n      <th></th>\n      <th></th>\n    </tr>\n  </thead>\n  <tbody>\n    <tr>\n      <th>CLK23</th>\n      <td>2023-04-17</td>\n      <td>72.97000</td>\n      <td>71.933481</td>\n      <td>69.390376</td>\n      <td>0.742086</td>\n      <td>0.832137</td>\n    </tr>\n    <tr>\n      <th>CLM23</th>\n      <td>2023-05-17</td>\n      <td>73.12000</td>\n      <td>73.102835</td>\n      <td>71.607750</td>\n      <td>0.756744</td>\n      <td>1.103269</td>\n    </tr>\n    <tr>\n      <th>GCM23</th>\n      <td>2023-05-25</td>\n      <td>1984.50000</td>\n      <td>1882.631859</td>\n      <td>1870.264790</td>\n      <td>0.572439</td>\n      <td>0.246674</td>\n    </tr>\n    <tr>\n      <th>GCQ23</th>\n      <td>2023-06-27</td>\n      <td>2002.10000</td>\n      <td>1883.634312</td>\n      <td>1847.616735</td>\n      <td>0.419549</td>\n      <td>0.262004</td>\n    </tr>\n    <tr>\n      <th>HGK23</th>\n      <td>2023-04-25</td>\n      <td>4.08650</td>\n      <td>3.974943</td>\n      <td>3.960039</td>\n      <td>0.692263</td>\n      <td>0.483586</td>\n    </tr>\n    <tr>\n      <th>HGN23</th>\n      <td>2023-05-25</td>\n      <td>4.09300</td>\n      <td>3.880718</td>\n      <td>3.806462</td>\n      <td>0.319952</td>\n      <td>0.324020</td>\n    </tr>\n    <tr>\n      <th>NGM23</th>\n      <td>2023-05-25</td>\n      <td>2.44800</td>\n      <td>2.223431</td>\n      <td>NaN</td>\n      <td>0.296200</td>\n      <td>0.520773</td>\n    </tr>\n    <tr>\n      <th>NGN23</th>\n      <td>2023-06-27</td>\n      <td>2.72600</td>\n      <td>NaN</td>\n      <td>NaN</td>\n      <td>0.091262</td>\n      <td>0.118643</td>\n    </tr>\n    <tr>\n      <th>SIK23</th>\n      <td>2023-04-25</td>\n      <td>23.46600</td>\n      <td>22.097398</td>\n      <td>22.301599</td>\n      <td>1.145976</td>\n      <td>0.258645</td>\n    </tr>\n    <tr>\n      <th>SIN23</th>\n      <td>2023-05-25</td>\n      <td>23.65800</td>\n      <td>22.186160</td>\n      <td>22.377357</td>\n      <td>0.917808</td>\n      <td>0.337754</td>\n    </tr>\n    <tr>\n      <th>ZCK23</th>\n      <td>2023-04-21</td>\n      <td>650.50000</td>\n      <td>643.113891</td>\n      <td>642.189198</td>\n      <td>1.081994</td>\n      <td>0.780336</td>\n    </tr>\n    <tr>\n      <th>ZCN23</th>\n      <td>2023-05-26</td>\n      <td>630.50000</td>\n      <td>620.726677</td>\n      <td>624.758771</td>\n      <td>1.047816</td>\n      <td>0.842245</td>\n    </tr>\n    <tr>\n      <th>ZNM23</th>\n      <td>2023-04-21</td>\n      <td>114.53125</td>\n      <td>113.995424</td>\n      <td>114.541057</td>\n      <td>1.052035</td>\n      <td>0.879899</td>\n    </tr>\n    <tr>\n      <th>ZNM23</th>\n      <td>2023-05-26</td>\n      <td>114.53125</td>\n      <td>111.762139</td>\n      <td>109.784421</td>\n      <td>0.666733</td>\n      <td>0.454152</td>\n    </tr>\n    <tr>\n      <th>ZSK23</th>\n      <td>2023-04-21</td>\n      <td>1477.25000</td>\n      <td>1504.897507</td>\n      <td>1526.962658</td>\n      <td>1.147401</td>\n      <td>2.133650</td>\n    </tr>\n    <tr>\n      <th>ZSN23</th>\n      <td>2023-05-26</td>\n      <td>1450.75000</td>\n      <td>1440.264143</td>\n      <td>1414.581275</td>\n      <td>0.756650</td>\n      <td>0.991054</td>\n    </tr>\n    <tr>\n      <th>ZWK23</th>\n      <td>2023-04-21</td>\n      <td>704.75000</td>\n      <td>697.140277</td>\n      <td>682.865317</td>\n      <td>0.545912</td>\n      <td>0.857448</td>\n    </tr>\n    <tr>\n      <th>ZWN23</th>\n      <td>2023-05-26</td>\n      <td>716.25000</td>\n      <td>657.433928</td>\n      <td>629.831659</td>\n      <td>0.458745</td>\n      <td>0.273993</td>\n    </tr>\n  </tbody>\n</table>\n</div>"
     },
     "execution_count": 11,
     "metadata": {},
     "output_type": "execute_result"
    }
   ],
   "source": [
    "# Get the delta neutral and gamma neutral values and combine with final table\n",
    "expn = [x[0] for x in temp]\n",
    "final_output = pd.concat(expn).loc[-1,['symbol', 'delta_neutral', 'gamma_neutral' ]].set_index('symbol')\n",
    "final_output = pd.concat([closepx_table, final_output], axis=1)\n",
    "final_output = final_output.loc[:,['Opex Date', 'Futures Close', 'delta_neutral', 'gamma_neutral', 'Put-Call-Ratio', 'Delta-Adj-Put-Call-Ratio']]\n",
    "final_output"
   ],
   "metadata": {
    "collapsed": false
   }
  },
  {
   "cell_type": "code",
   "execution_count": 12,
   "outputs": [],
   "source": [
    "final_output.to_csv(os.path.join(download_path,f'{output_date_str}.futures.neutrals.csv'))"
   ],
   "metadata": {
    "collapsed": false
   }
  },
  {
   "cell_type": "markdown",
   "source": [
    "# Testing Follows"
   ],
   "metadata": {
    "collapsed": false
   }
  },
  {
   "cell_type": "code",
   "execution_count": 13,
   "outputs": [
    {
     "ename": "FileNotFoundError",
     "evalue": "[Errno 2] No such file or directory: 'C:\\\\Users\\\\mcbri\\\\PycharmProjects\\\\futureDataCapture\\\\local_download\\\\2023-03-29\\\\finalout.target.2023-03-29.csv'",
     "output_type": "error",
     "traceback": [
      "\u001B[1;31m---------------------------------------------------------------------------\u001B[0m",
      "\u001B[1;31mFileNotFoundError\u001B[0m                         Traceback (most recent call last)",
      "\u001B[1;32m<ipython-input-13-d62eb88e98b8>\u001B[0m in \u001B[0;36m<module>\u001B[1;34m\u001B[0m\n\u001B[1;32m----> 1\u001B[1;33m \u001B[0mfinal_output_target\u001B[0m \u001B[1;33m=\u001B[0m \u001B[0mpd\u001B[0m\u001B[1;33m.\u001B[0m\u001B[0mread_csv\u001B[0m\u001B[1;33m(\u001B[0m\u001B[0mos\u001B[0m\u001B[1;33m.\u001B[0m\u001B[0mpath\u001B[0m\u001B[1;33m.\u001B[0m\u001B[0mjoin\u001B[0m\u001B[1;33m(\u001B[0m\u001B[0mdownload_path\u001B[0m\u001B[1;33m,\u001B[0m\u001B[1;34mf'finalout.target.{file_date_str}.csv'\u001B[0m\u001B[1;33m)\u001B[0m\u001B[1;33m,\u001B[0m \u001B[0mparse_dates\u001B[0m\u001B[1;33m=\u001B[0m\u001B[1;33m[\u001B[0m\u001B[1;34m'Opex Date'\u001B[0m\u001B[1;33m]\u001B[0m\u001B[1;33m)\u001B[0m\u001B[1;33m.\u001B[0m\u001B[0mset_index\u001B[0m\u001B[1;33m(\u001B[0m\u001B[1;34m'symbol'\u001B[0m\u001B[1;33m)\u001B[0m\u001B[1;33m\u001B[0m\u001B[1;33m\u001B[0m\u001B[0m\n\u001B[0m\u001B[0;32m      2\u001B[0m \u001B[0mtest_target_sym\u001B[0m \u001B[1;33m=\u001B[0m \u001B[1;33m[\u001B[0m\u001B[1;34m'GCJ23'\u001B[0m\u001B[1;33m,\u001B[0m \u001B[1;34m'CLK23'\u001B[0m\u001B[1;33m,\u001B[0m \u001B[1;34m'NGJ23'\u001B[0m\u001B[1;33m]\u001B[0m\u001B[1;33m\u001B[0m\u001B[1;33m\u001B[0m\u001B[0m\n",
      "\u001B[1;32m~\\anaconda3\\envs\\gamma\\lib\\site-packages\\pandas\\util\\_decorators.py\u001B[0m in \u001B[0;36mwrapper\u001B[1;34m(*args, **kwargs)\u001B[0m\n\u001B[0;32m    309\u001B[0m                     \u001B[0mstacklevel\u001B[0m\u001B[1;33m=\u001B[0m\u001B[0mstacklevel\u001B[0m\u001B[1;33m,\u001B[0m\u001B[1;33m\u001B[0m\u001B[1;33m\u001B[0m\u001B[0m\n\u001B[0;32m    310\u001B[0m                 )\n\u001B[1;32m--> 311\u001B[1;33m             \u001B[1;32mreturn\u001B[0m \u001B[0mfunc\u001B[0m\u001B[1;33m(\u001B[0m\u001B[1;33m*\u001B[0m\u001B[0margs\u001B[0m\u001B[1;33m,\u001B[0m \u001B[1;33m**\u001B[0m\u001B[0mkwargs\u001B[0m\u001B[1;33m)\u001B[0m\u001B[1;33m\u001B[0m\u001B[1;33m\u001B[0m\u001B[0m\n\u001B[0m\u001B[0;32m    312\u001B[0m \u001B[1;33m\u001B[0m\u001B[0m\n\u001B[0;32m    313\u001B[0m         \u001B[1;32mreturn\u001B[0m \u001B[0mwrapper\u001B[0m\u001B[1;33m\u001B[0m\u001B[1;33m\u001B[0m\u001B[0m\n",
      "\u001B[1;32m~\\anaconda3\\envs\\gamma\\lib\\site-packages\\pandas\\io\\parsers\\readers.py\u001B[0m in \u001B[0;36mread_csv\u001B[1;34m(filepath_or_buffer, sep, delimiter, header, names, index_col, usecols, squeeze, prefix, mangle_dupe_cols, dtype, engine, converters, true_values, false_values, skipinitialspace, skiprows, skipfooter, nrows, na_values, keep_default_na, na_filter, verbose, skip_blank_lines, parse_dates, infer_datetime_format, keep_date_col, date_parser, dayfirst, cache_dates, iterator, chunksize, compression, thousands, decimal, lineterminator, quotechar, quoting, doublequote, escapechar, comment, encoding, encoding_errors, dialect, error_bad_lines, warn_bad_lines, on_bad_lines, delim_whitespace, low_memory, memory_map, float_precision, storage_options)\u001B[0m\n\u001B[0;32m    584\u001B[0m     \u001B[0mkwds\u001B[0m\u001B[1;33m.\u001B[0m\u001B[0mupdate\u001B[0m\u001B[1;33m(\u001B[0m\u001B[0mkwds_defaults\u001B[0m\u001B[1;33m)\u001B[0m\u001B[1;33m\u001B[0m\u001B[1;33m\u001B[0m\u001B[0m\n\u001B[0;32m    585\u001B[0m \u001B[1;33m\u001B[0m\u001B[0m\n\u001B[1;32m--> 586\u001B[1;33m     \u001B[1;32mreturn\u001B[0m \u001B[0m_read\u001B[0m\u001B[1;33m(\u001B[0m\u001B[0mfilepath_or_buffer\u001B[0m\u001B[1;33m,\u001B[0m \u001B[0mkwds\u001B[0m\u001B[1;33m)\u001B[0m\u001B[1;33m\u001B[0m\u001B[1;33m\u001B[0m\u001B[0m\n\u001B[0m\u001B[0;32m    587\u001B[0m \u001B[1;33m\u001B[0m\u001B[0m\n\u001B[0;32m    588\u001B[0m \u001B[1;33m\u001B[0m\u001B[0m\n",
      "\u001B[1;32m~\\anaconda3\\envs\\gamma\\lib\\site-packages\\pandas\\io\\parsers\\readers.py\u001B[0m in \u001B[0;36m_read\u001B[1;34m(filepath_or_buffer, kwds)\u001B[0m\n\u001B[0;32m    480\u001B[0m \u001B[1;33m\u001B[0m\u001B[0m\n\u001B[0;32m    481\u001B[0m     \u001B[1;31m# Create the parser.\u001B[0m\u001B[1;33m\u001B[0m\u001B[1;33m\u001B[0m\u001B[1;33m\u001B[0m\u001B[0m\n\u001B[1;32m--> 482\u001B[1;33m     \u001B[0mparser\u001B[0m \u001B[1;33m=\u001B[0m \u001B[0mTextFileReader\u001B[0m\u001B[1;33m(\u001B[0m\u001B[0mfilepath_or_buffer\u001B[0m\u001B[1;33m,\u001B[0m \u001B[1;33m**\u001B[0m\u001B[0mkwds\u001B[0m\u001B[1;33m)\u001B[0m\u001B[1;33m\u001B[0m\u001B[1;33m\u001B[0m\u001B[0m\n\u001B[0m\u001B[0;32m    483\u001B[0m \u001B[1;33m\u001B[0m\u001B[0m\n\u001B[0;32m    484\u001B[0m     \u001B[1;32mif\u001B[0m \u001B[0mchunksize\u001B[0m \u001B[1;32mor\u001B[0m \u001B[0miterator\u001B[0m\u001B[1;33m:\u001B[0m\u001B[1;33m\u001B[0m\u001B[1;33m\u001B[0m\u001B[0m\n",
      "\u001B[1;32m~\\anaconda3\\envs\\gamma\\lib\\site-packages\\pandas\\io\\parsers\\readers.py\u001B[0m in \u001B[0;36m__init__\u001B[1;34m(self, f, engine, **kwds)\u001B[0m\n\u001B[0;32m    809\u001B[0m             \u001B[0mself\u001B[0m\u001B[1;33m.\u001B[0m\u001B[0moptions\u001B[0m\u001B[1;33m[\u001B[0m\u001B[1;34m\"has_index_names\"\u001B[0m\u001B[1;33m]\u001B[0m \u001B[1;33m=\u001B[0m \u001B[0mkwds\u001B[0m\u001B[1;33m[\u001B[0m\u001B[1;34m\"has_index_names\"\u001B[0m\u001B[1;33m]\u001B[0m\u001B[1;33m\u001B[0m\u001B[1;33m\u001B[0m\u001B[0m\n\u001B[0;32m    810\u001B[0m \u001B[1;33m\u001B[0m\u001B[0m\n\u001B[1;32m--> 811\u001B[1;33m         \u001B[0mself\u001B[0m\u001B[1;33m.\u001B[0m\u001B[0m_engine\u001B[0m \u001B[1;33m=\u001B[0m \u001B[0mself\u001B[0m\u001B[1;33m.\u001B[0m\u001B[0m_make_engine\u001B[0m\u001B[1;33m(\u001B[0m\u001B[0mself\u001B[0m\u001B[1;33m.\u001B[0m\u001B[0mengine\u001B[0m\u001B[1;33m)\u001B[0m\u001B[1;33m\u001B[0m\u001B[1;33m\u001B[0m\u001B[0m\n\u001B[0m\u001B[0;32m    812\u001B[0m \u001B[1;33m\u001B[0m\u001B[0m\n\u001B[0;32m    813\u001B[0m     \u001B[1;32mdef\u001B[0m \u001B[0mclose\u001B[0m\u001B[1;33m(\u001B[0m\u001B[0mself\u001B[0m\u001B[1;33m)\u001B[0m\u001B[1;33m:\u001B[0m\u001B[1;33m\u001B[0m\u001B[1;33m\u001B[0m\u001B[0m\n",
      "\u001B[1;32m~\\anaconda3\\envs\\gamma\\lib\\site-packages\\pandas\\io\\parsers\\readers.py\u001B[0m in \u001B[0;36m_make_engine\u001B[1;34m(self, engine)\u001B[0m\n\u001B[0;32m   1038\u001B[0m             )\n\u001B[0;32m   1039\u001B[0m         \u001B[1;31m# error: Too many arguments for \"ParserBase\"\u001B[0m\u001B[1;33m\u001B[0m\u001B[1;33m\u001B[0m\u001B[1;33m\u001B[0m\u001B[0m\n\u001B[1;32m-> 1040\u001B[1;33m         \u001B[1;32mreturn\u001B[0m \u001B[0mmapping\u001B[0m\u001B[1;33m[\u001B[0m\u001B[0mengine\u001B[0m\u001B[1;33m]\u001B[0m\u001B[1;33m(\u001B[0m\u001B[0mself\u001B[0m\u001B[1;33m.\u001B[0m\u001B[0mf\u001B[0m\u001B[1;33m,\u001B[0m \u001B[1;33m**\u001B[0m\u001B[0mself\u001B[0m\u001B[1;33m.\u001B[0m\u001B[0moptions\u001B[0m\u001B[1;33m)\u001B[0m  \u001B[1;31m# type: ignore[call-arg]\u001B[0m\u001B[1;33m\u001B[0m\u001B[1;33m\u001B[0m\u001B[0m\n\u001B[0m\u001B[0;32m   1041\u001B[0m \u001B[1;33m\u001B[0m\u001B[0m\n\u001B[0;32m   1042\u001B[0m     \u001B[1;32mdef\u001B[0m \u001B[0m_failover_to_python\u001B[0m\u001B[1;33m(\u001B[0m\u001B[0mself\u001B[0m\u001B[1;33m)\u001B[0m\u001B[1;33m:\u001B[0m\u001B[1;33m\u001B[0m\u001B[1;33m\u001B[0m\u001B[0m\n",
      "\u001B[1;32m~\\anaconda3\\envs\\gamma\\lib\\site-packages\\pandas\\io\\parsers\\c_parser_wrapper.py\u001B[0m in \u001B[0;36m__init__\u001B[1;34m(self, src, **kwds)\u001B[0m\n\u001B[0;32m     49\u001B[0m \u001B[1;33m\u001B[0m\u001B[0m\n\u001B[0;32m     50\u001B[0m         \u001B[1;31m# open handles\u001B[0m\u001B[1;33m\u001B[0m\u001B[1;33m\u001B[0m\u001B[1;33m\u001B[0m\u001B[0m\n\u001B[1;32m---> 51\u001B[1;33m         \u001B[0mself\u001B[0m\u001B[1;33m.\u001B[0m\u001B[0m_open_handles\u001B[0m\u001B[1;33m(\u001B[0m\u001B[0msrc\u001B[0m\u001B[1;33m,\u001B[0m \u001B[0mkwds\u001B[0m\u001B[1;33m)\u001B[0m\u001B[1;33m\u001B[0m\u001B[1;33m\u001B[0m\u001B[0m\n\u001B[0m\u001B[0;32m     52\u001B[0m         \u001B[1;32massert\u001B[0m \u001B[0mself\u001B[0m\u001B[1;33m.\u001B[0m\u001B[0mhandles\u001B[0m \u001B[1;32mis\u001B[0m \u001B[1;32mnot\u001B[0m \u001B[1;32mNone\u001B[0m\u001B[1;33m\u001B[0m\u001B[1;33m\u001B[0m\u001B[0m\n\u001B[0;32m     53\u001B[0m \u001B[1;33m\u001B[0m\u001B[0m\n",
      "\u001B[1;32m~\\anaconda3\\envs\\gamma\\lib\\site-packages\\pandas\\io\\parsers\\base_parser.py\u001B[0m in \u001B[0;36m_open_handles\u001B[1;34m(self, src, kwds)\u001B[0m\n\u001B[0;32m    227\u001B[0m             \u001B[0mmemory_map\u001B[0m\u001B[1;33m=\u001B[0m\u001B[0mkwds\u001B[0m\u001B[1;33m.\u001B[0m\u001B[0mget\u001B[0m\u001B[1;33m(\u001B[0m\u001B[1;34m\"memory_map\"\u001B[0m\u001B[1;33m,\u001B[0m \u001B[1;32mFalse\u001B[0m\u001B[1;33m)\u001B[0m\u001B[1;33m,\u001B[0m\u001B[1;33m\u001B[0m\u001B[1;33m\u001B[0m\u001B[0m\n\u001B[0;32m    228\u001B[0m             \u001B[0mstorage_options\u001B[0m\u001B[1;33m=\u001B[0m\u001B[0mkwds\u001B[0m\u001B[1;33m.\u001B[0m\u001B[0mget\u001B[0m\u001B[1;33m(\u001B[0m\u001B[1;34m\"storage_options\"\u001B[0m\u001B[1;33m,\u001B[0m \u001B[1;32mNone\u001B[0m\u001B[1;33m)\u001B[0m\u001B[1;33m,\u001B[0m\u001B[1;33m\u001B[0m\u001B[1;33m\u001B[0m\u001B[0m\n\u001B[1;32m--> 229\u001B[1;33m             \u001B[0merrors\u001B[0m\u001B[1;33m=\u001B[0m\u001B[0mkwds\u001B[0m\u001B[1;33m.\u001B[0m\u001B[0mget\u001B[0m\u001B[1;33m(\u001B[0m\u001B[1;34m\"encoding_errors\"\u001B[0m\u001B[1;33m,\u001B[0m \u001B[1;34m\"strict\"\u001B[0m\u001B[1;33m)\u001B[0m\u001B[1;33m,\u001B[0m\u001B[1;33m\u001B[0m\u001B[1;33m\u001B[0m\u001B[0m\n\u001B[0m\u001B[0;32m    230\u001B[0m         )\n\u001B[0;32m    231\u001B[0m \u001B[1;33m\u001B[0m\u001B[0m\n",
      "\u001B[1;32m~\\anaconda3\\envs\\gamma\\lib\\site-packages\\pandas\\io\\common.py\u001B[0m in \u001B[0;36mget_handle\u001B[1;34m(path_or_buf, mode, encoding, compression, memory_map, is_text, errors, storage_options)\u001B[0m\n\u001B[0;32m    705\u001B[0m                 \u001B[0mencoding\u001B[0m\u001B[1;33m=\u001B[0m\u001B[0mioargs\u001B[0m\u001B[1;33m.\u001B[0m\u001B[0mencoding\u001B[0m\u001B[1;33m,\u001B[0m\u001B[1;33m\u001B[0m\u001B[1;33m\u001B[0m\u001B[0m\n\u001B[0;32m    706\u001B[0m                 \u001B[0merrors\u001B[0m\u001B[1;33m=\u001B[0m\u001B[0merrors\u001B[0m\u001B[1;33m,\u001B[0m\u001B[1;33m\u001B[0m\u001B[1;33m\u001B[0m\u001B[0m\n\u001B[1;32m--> 707\u001B[1;33m                 \u001B[0mnewline\u001B[0m\u001B[1;33m=\u001B[0m\u001B[1;34m\"\"\u001B[0m\u001B[1;33m,\u001B[0m\u001B[1;33m\u001B[0m\u001B[1;33m\u001B[0m\u001B[0m\n\u001B[0m\u001B[0;32m    708\u001B[0m             )\n\u001B[0;32m    709\u001B[0m         \u001B[1;32melse\u001B[0m\u001B[1;33m:\u001B[0m\u001B[1;33m\u001B[0m\u001B[1;33m\u001B[0m\u001B[0m\n",
      "\u001B[1;31mFileNotFoundError\u001B[0m: [Errno 2] No such file or directory: 'C:\\\\Users\\\\mcbri\\\\PycharmProjects\\\\futureDataCapture\\\\local_download\\\\2023-03-29\\\\finalout.target.2023-03-29.csv'"
     ]
    }
   ],
   "source": [
    "final_output_target = pd.read_csv(os.path.join(download_path,f'finalout.target.{file_date_str}.csv'), parse_dates=['Opex Date']).set_index('symbol')\n",
    "test_target_sym = ['GCJ23', 'CLK23', 'NGJ23']"
   ],
   "metadata": {
    "collapsed": false
   }
  },
  {
   "cell_type": "code",
   "execution_count": null,
   "outputs": [],
   "source": [
    "final_output.loc[test_target_sym,:]"
   ],
   "metadata": {
    "collapsed": false
   }
  },
  {
   "cell_type": "code",
   "execution_count": null,
   "outputs": [],
   "source": [
    " final_output_target.loc[test_target_sym, :]"
   ],
   "metadata": {
    "collapsed": false
   }
  },
  {
   "cell_type": "code",
   "execution_count": null,
   "outputs": [],
   "source": [
    "# Check output against test\n",
    "all_columns = final_output.columns\n",
    "\n",
    "for c in all_columns:\n",
    "    t1 = final_output.loc[test_target_sym,c]\n",
    "    t2 = final_output_target.loc[test_target_sym,c]\n",
    "    try:\n",
    "        pd.testing.assert_series_equal(t1, t2, rtol=0.01, check_exact=False)\n",
    "    except:\n",
    "        display(pd.concat([t1, t2], axis=1))\n"
   ],
   "metadata": {
    "collapsed": false
   }
  }
 ],
 "metadata": {
  "kernelspec": {
   "name": "gamma",
   "language": "python",
   "display_name": "gamma"
  },
  "language_info": {
   "codemirror_mode": {
    "name": "ipython",
    "version": 2
   },
   "file_extension": ".py",
   "mimetype": "text/x-python",
   "name": "python",
   "nbconvert_exporter": "python",
   "pygments_lexer": "ipython2",
   "version": "2.7.6"
  }
 },
 "nbformat": 4,
 "nbformat_minor": 0
}
