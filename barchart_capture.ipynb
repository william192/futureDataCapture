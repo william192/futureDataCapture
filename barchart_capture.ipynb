{
 "cells": [
  {
   "cell_type": "code",
   "execution_count": 20,
   "outputs": [
    {
     "data": {
      "text/plain": "'/home/gitrepo/futureDataCapture/chromedriver'"
     },
     "metadata": {},
     "output_type": "display_data"
    },
    {
     "name": "stdout",
     "output_type": "stream",
     "text": [
      "processing futures options:2023-03-31\n",
      "/home/gitrepo/futureDataCapture/local_download/2023-03-31 exists\n"
     ]
    }
   ],
   "source": [
    "from selenium import webdriver\n",
    "import os\n",
    "from selenium.webdriver.common.by import By\n",
    "import time\n",
    "import pandas as pd\n",
    "import numpy as np\n",
    "from datetime import datetime\n",
    "import db_multiproc_calc_neutral2 as dmc\n",
    "from bs4 import BeautifulSoup\n",
    "import requests\n",
    "from random import *\n",
    "import glob\n",
    "import barchart_lib as bl\n",
    "\n",
    "k_do_download = True\n",
    "#all_sym = ['GCJ23']\n",
    "#all_sym = ['CLK23', 'NGJ23', 'ZCK23', 'ZWK23', 'ZSK23', 'E6M23', 'ZNM23',\n",
    "#           'NGK23', 'SIK23', 'HGK23']\n",
    "\n",
    "# For a given option\n",
    "\n",
    "cwd = os.getcwd()\n",
    "\n",
    "executable_path = os.path.join(cwd,'chromedriver.exe')\n",
    "executable_path = os.path.join(cwd,'chromedriver')\n",
    "display(executable_path)\n",
    "\n",
    "#date_value = datetime.now()\n",
    "date_value = pd.to_datetime('03-31-2023')\n",
    "date_str = date_value.strftime(\"%Y-%m-%d\")\n",
    "\n",
    "#date_str = '2023-03-24'\n",
    "output_date_str = datetime.now().strftime(\"%Y%m%d\")\n",
    "file_date_str = date_str\n",
    "barchart_datestr = pd.to_datetime(file_date_str).strftime('%m-%d-%Y')\n",
    "\n",
    "download_path = os.path.join(cwd, 'local_download', file_date_str)\n",
    "\n",
    "print(f'processing futures options:{file_date_str}')\n",
    "\n",
    "try:\n",
    "    os.mkdir(download_path)\n",
    "except:\n",
    "    print(f'{download_path} exists')\n"
   ],
   "metadata": {
    "collapsed": false,
    "ExecuteTime": {
     "start_time": "2023-04-01T09:13:38.503947Z",
     "end_time": "2023-04-01T09:13:38.526179Z"
    }
   }
  },
  {
   "cell_type": "code",
   "execution_count": 31,
   "outputs": [],
   "source": [
    "def get_nearest_contract(date_value):\n",
    "    fut_con = pd.read_csv(os.path.join(cwd, 'local_download', 'futures_contract_dates.csv'), parse_dates=['first_notice','expiration'])\n",
    "    # extract the symbol root which is the first two characters of the contract\n",
    "    fut_con['symbol_root'] = fut_con['futures_contract'].map(lambda x:x[0:2])\n",
    "    # get the contracts which are still valid\n",
    "    idx_valid = fut_con['first_notice'] > date_value\n",
    "    fut_con_valid = fut_con.loc[idx_valid]\n",
    "    # extract the nearest\n",
    "    df_ret = fut_con_valid.sort_values(['first_notice'], ascending=True).groupby('symbol_root').head(1).sort_values('futures_contract')\n",
    "    return df_ret\n",
    "\n",
    "def find_all_downloaded_contracts(download_path):\n",
    "    df_all_ctr = find_all_downloaded_contracts(download_path)\n",
    "    return df_all_ctr['futures_contract'].unique()\n",
    "\n",
    "def find_all_downloaded_details(download_path):\n",
    "    all_df = []\n",
    "    for filename in glob.glob(os.path.join(download_path, '*.txt')):\n",
    "        all_df.append(pd.read_csv(filename))\n",
    "    df_all_ctr = pd.concat(all_df, axis=0)\n",
    "    return df_all_ctr\n",
    "\n",
    "def get_treasury_data(start_date):\n",
    "\n",
    "    start_date_str = start_date.strftime(\"%Y%m\")\n",
    "    url='https://home.treasury.gov/resource-center/data-chart-center/interest-rates/pages/xml?data=daily_treasury_yield_curve&field_tdr_date_value_month='+start_date_str\n",
    "    soup = BeautifulSoup(requests.get(url).text,'lxml')\n",
    "    table = soup.find_all('m:properties')\n",
    "    tbondvalues = []\n",
    "    for i in table:\n",
    "        tbondvalues.append([i.find('d:new_date').text[:10],i.find('d:bc_1month').text,i.find('d:bc_2month').text,i.find('d:bc_3month').text,i.find('d:bc_6month').text,i.find('d:bc_1year').text,i.find('d:bc_2year').text,i.find('d:bc_3year').text,i.find('d:bc_5year').text,i.find('d:bc_10year').text,i.find('d:bc_20year').text,i.find('d:bc_30year').text])\n",
    "    ustcurve = pd.DataFrame(tbondvalues,columns=['date','1m','2m','3m','6m','1y','2y','3y','5y','10y','20y','30y'])\n",
    "    ustcurve.iloc[:,1:] = ustcurve.iloc[:,1:].apply(pd.to_numeric)/100\n",
    "    ustcurve['date'] = pd.to_datetime(ustcurve['date'])\n",
    "    tbl_daily = ustcurve.sort_values(['date'])\n",
    "    tbl_daily = tbl_daily.set_index('date').stack(level=0).reset_index()\n",
    "    tbl_daily.columns = ['date', 'tenor', 'rate']\n",
    "\n",
    "    return tbl_daily\n",
    "\n",
    "def get_put_call_ratio(df_iv):\n",
    "    # This takes the IV datafrmae and calcs both the delta adjusted put call and\n",
    "    # natural put call ratio from the barcharts data\n",
    "    df_iv = df_iv.dropna().copy()\n",
    "    df_iv = df_iv.loc[:, ['strike', 'call_put', 'open_interest', 'delta']]\n",
    "    df_iv['Delta-Adj-Put-Call-Ratio'] = df_iv['open_interest'] * df_iv['delta']\n",
    "    df_iv = df_iv.drop(columns=['delta'])\n",
    "    df_iv = df_iv.set_index(['strike', 'call_put']).groupby('call_put').sum()\n",
    "    df_iv = df_iv.rename(columns={'open_interest':'Put-Call-Ratio'})\n",
    "    pc_temp = df_iv.T\n",
    "    return (pc_temp.loc[:,'P'] / pc_temp.loc[:,'C'])\n",
    "\n",
    "def get_iv_data_set(sym, option_expiration, file_date_str, barchart_datestr):\n",
    "    # compile the implied vol dataframe from the files downloaded from barcharts\n",
    "\n",
    "    exp_date_str = option_expiration\n",
    "    exp_file_date_str = pd.to_datetime(exp_date_str).strftime('%m_%d_%y')\n",
    "\n",
    "    #iv_str = df_exp_data.values[0][1]\n",
    "    #all_iv = pd.to_numeric(iv_str.replace('%',''))/100\n",
    "\n",
    "    px_data_path = os.path.join('local_download', file_date_str, f'{sym}_daily_historical-data-{barchart_datestr}.csv')\n",
    "    opx_data_path = os.path.join('local_download', file_date_str, f'{sym}-options-american-options-exp-{exp_file_date_str}-show-all-%futuresoptionsview%-daily-{barchart_datestr}.csv')\n",
    "    gr_data_path = os.path.join('local_download', file_date_str, f'{sym}-volatility-greeks-exp-{exp_file_date_str}-show-all-{barchart_datestr}.csv')\n",
    "\n",
    "    # read the options price data\n",
    "    fpx = pd.read_csv(px_data_path.lower(), parse_dates=['Time']).dropna()\n",
    "    fpx['date'] = fpx['Time'].map(lambda x:pd.to_datetime(x))\n",
    "    fpx = fpx.drop(columns=['Time'])\n",
    "    fpx=fpx.set_index(['date']).sort_index()\n",
    "    close_px = fpx.loc[barchart_datestr, :]['Last']\n",
    "\n",
    "    # read in the option prices and transform\n",
    "    opx = pd.read_csv(opx_data_path.lower())\n",
    "    opx = opx.iloc[:-1,:]\n",
    "    opx['call_put']=opx['Strike'].map(lambda x:x[-1])\n",
    "    opx['num_strike']=opx['Strike'].map(lambda x:pd.to_numeric(x[:-1].replace('-','.').replace(',','')))\n",
    "    if 'Prev Low' in opx.columns:\n",
    "        opx=opx.drop(labels=['Strike', 'Delta', 'Prev Open', 'Prev High', 'Prev Low', 'Prev Change', 'Premium'], axis=1)\n",
    "        opx = opx.rename(columns={'num_strike': 'Strike',\n",
    "                              'Prev Volume':'Volume',\n",
    "                              'Open Interest':'open_interest',\n",
    "                              'Last':'mean_price'})\n",
    "    else:\n",
    "        opx=opx.drop(labels=['Strike', 'High', 'Low', 'Change', 'Premium'], axis=1)\n",
    "        opx = opx.rename(columns={'num_strike': 'Strike',\n",
    "                              'Open Int':'open_interest',\n",
    "                              'Last':'mean_price'})\n",
    "    opx = opx.set_index(['Strike', 'call_put'])\n",
    "\n",
    "    # read in the greeks and transform\n",
    "    gr = pd.read_csv(gr_data_path.lower())\n",
    "    gr = gr.iloc[:-1,:]\n",
    "\n",
    "    gr['symbol']=sym\n",
    "    gr['option_expiration']=pd.to_datetime(exp_date_str)\n",
    "    gr['Strike']=gr['Strike'].map(lambda x:pd.to_numeric(x))\n",
    "    gr['IV']=pd.to_numeric(gr['IV'].str[:-1])/100\n",
    "    #RWMgr['IV']=all_iv\n",
    "    gr['Type'] = gr['Type'].map({'Put':'P', 'Call':'C'})\n",
    "    gr=gr.drop(labels=['IV Skew', 'Time', 'Last'], axis=1)\n",
    "    gr=gr.rename(columns={'Type':'call_put'})\n",
    "    gr=gr.set_index(['Strike', 'call_put'])\n",
    "\n",
    "    # concat and make columns lowercase\n",
    "    t=pd.concat([opx, gr], axis=1)\n",
    "    t['close_px'] = close_px\n",
    "    t = t.reset_index()\n",
    "    t.columns = map(str.lower, t.columns)\n",
    "    return t\n",
    "\n",
    "def clean_implied_vol(df_iv_file):\n",
    "    x = df_iv_file.set_index(['strike', 'call_put']).sort_index().copy()\n",
    "    y = x['iv'].unstack('call_put')\n",
    "    idx_put_zero = y['P']==0\n",
    "    idx_call_zero = y['C']==0\n",
    "\n",
    "    idx_call_zero_replace = idx_call_zero * ~idx_put_zero\n",
    "    idx_put_zero_replace = idx_put_zero * ~idx_call_zero\n",
    "    y.loc[idx_call_zero_replace, 'C'] = y.loc[idx_call_zero_replace, 'P']\n",
    "    y.loc[idx_put_zero_replace, 'P'] = y.loc[idx_put_zero_replace, 'C']\n",
    "    y = y.rolling(3, center=True, min_periods=0).median()\n",
    "    y = y.stack('call_put')\n",
    "    y.name = 'clean_iv'\n",
    "    x1 = pd.concat([x,y],axis=1)\n",
    "    x1['iv'] = x1['clean_iv']\n",
    "    x1.drop(columns='clean_iv', inplace=True)\n",
    "    return x1\n",
    "\n",
    "def generate_neutral_futures(sym, option_expiration, file_date_str, barchart_datestr):\n",
    "    t = get_iv_data_set(sym, option_expiration, file_date_str, barchart_datestr)\n",
    "    df_iv = clean_implied_vol(t).dropna().reset_index()\n",
    "\n",
    "    query_date = barchart_datestr\n",
    "    root_symbol = sym\n",
    "\n",
    "    unique_strikes = sorted(t['strike'])\n",
    "    spot_prices = np.array(dmc.calc_spot_price_levels(unique_strikes), dtype=float)\n",
    "\n",
    "    agg_neutral, df_greeks_by_strike, exp_neutral = \\\n",
    "        dmc.calc_daily_neutral_values( \\\n",
    "            df_iv,\n",
    "            query_date,\n",
    "            rf_rate,\n",
    "            root_symbol,\n",
    "            spot_prices)\n",
    "\n",
    "    agg_neutral['Close'] = t['close_px'].values[0]\n",
    "    agg_neutral['Symbol'] = sym\n",
    "    return [agg_neutral, df_greeks_by_strike, exp_neutral]"
   ],
   "metadata": {
    "collapsed": false,
    "ExecuteTime": {
     "start_time": "2023-04-01T09:30:24.803060Z",
     "end_time": "2023-04-01T09:30:24.845007Z"
    }
   }
  },
  {
   "cell_type": "code",
   "execution_count": 22,
   "outputs": [
    {
     "data": {
      "text/plain": "0.0474"
     },
     "execution_count": 22,
     "metadata": {},
     "output_type": "execute_result"
    }
   ],
   "source": [
    "rate_filename = os.path.join(download_path,'rate.csv')\n",
    "\n",
    "df_rate = get_treasury_data(pd.to_datetime(date_str))\n",
    "df_rate.to_csv(rate_filename, index=False)\n",
    "\n",
    "df_rate = pd.read_csv(rate_filename)\n",
    "rf_rate = df_rate.set_index(['date', 'tenor']).loc[date_str,'1m'].values[0]\n",
    "rf_rate"
   ],
   "metadata": {
    "collapsed": false,
    "ExecuteTime": {
     "start_time": "2023-04-01T09:13:38.549162Z",
     "end_time": "2023-04-01T09:13:47.860388Z"
    }
   }
  },
  {
   "cell_type": "code",
   "execution_count": 22,
   "outputs": [],
   "source": [],
   "metadata": {
    "collapsed": false,
    "ExecuteTime": {
     "start_time": "2023-04-01T09:13:47.858513Z",
     "end_time": "2023-04-01T09:13:47.908952Z"
    }
   }
  },
  {
   "cell_type": "code",
   "execution_count": 23,
   "outputs": [],
   "source": [
    "df_contract_list = get_nearest_contract(date_value)"
   ],
   "metadata": {
    "collapsed": false,
    "ExecuteTime": {
     "start_time": "2023-04-01T09:13:47.901073Z",
     "end_time": "2023-04-01T09:13:47.909148Z"
    }
   }
  },
  {
   "cell_type": "code",
   "execution_count": 24,
   "outputs": [
    {
     "data": {
      "text/plain": "array(['CLK23', 'GCM23', 'HGK23', 'NGK23', 'SIK23', 'ZCK23', 'ZNM23',\n       'ZSK23', 'ZWK23'], dtype=object)"
     },
     "execution_count": 24,
     "metadata": {},
     "output_type": "execute_result"
    }
   ],
   "source": [
    "all_sym = df_contract_list['futures_contract'].values\n",
    "all_sym"
   ],
   "metadata": {
    "collapsed": false,
    "ExecuteTime": {
     "start_time": "2023-04-01T09:13:47.901284Z",
     "end_time": "2023-04-01T09:13:47.909483Z"
    }
   }
  },
  {
   "cell_type": "code",
   "execution_count": 25,
   "outputs": [],
   "source": [
    "#all_done = ['GCJ23', 'CLK23']\n",
    "#all_sym = np.setdiff1d(all_sym, all_done)\n",
    "#all_sym = ['GCJ23']"
   ],
   "metadata": {
    "collapsed": false,
    "ExecuteTime": {
     "start_time": "2023-04-01T09:13:47.901459Z",
     "end_time": "2023-04-01T09:13:47.909559Z"
    }
   }
  },
  {
   "cell_type": "code",
   "execution_count": 26,
   "outputs": [
    {
     "name": "stdout",
     "output_type": "stream",
     "text": [
      "download CLK23\n",
      "downloading CLK23\n",
      "downloading CLM23\n",
      "\n",
      "downloading CLK23\n",
      "\n",
      "downloading CLM23\n",
      "download GCM23\n",
      "downloading GCM23\n",
      "downloading GCM23\n",
      "\n",
      "downloading GCM23\n",
      "\n",
      "downloading GCM23\n",
      "download HGK23\n",
      "downloading HGK23\n",
      "downloading HGN23\n",
      "\n",
      "downloading HGK23\n",
      "\n",
      "downloading HGN23\n",
      "download NGK23\n",
      "downloading NGK23\n",
      "downloading NGM23\n",
      "\n",
      "downloading NGK23\n",
      "\n",
      "downloading NGM23\n",
      "download SIK23\n",
      "downloading SIK23\n",
      "downloading SIN23\n",
      "\n",
      "downloading SIK23\n",
      "\n",
      "downloading SIN23\n",
      "download ZCK23\n",
      "downloading ZCK23\n",
      "downloading ZCN23\n",
      "\n",
      "downloading ZCK23\n",
      "\n",
      "downloading ZCN23\n",
      "download ZNM23\n",
      "downloading ZNM23\n",
      "downloading ZNM23\n",
      "\n",
      "downloading ZNM23\n",
      "\n",
      "downloading ZNM23\n",
      "download ZSK23\n",
      "downloading ZSK23\n",
      "downloading ZSN23\n",
      "\n",
      "downloading ZSK23\n",
      "\n",
      "downloading ZSN23\n",
      "download ZWK23\n",
      "downloading ZWK23\n",
      "downloading ZWN23\n",
      "\n",
      "downloading ZWK23\n",
      "\n",
      "downloading ZWN23\n"
     ]
    }
   ],
   "source": [
    "if k_do_download:\n",
    "    driver = bl.bar_chart_get_driver(executable_path, download_path)\n",
    "    bl.bar_chart_login(driver)\n",
    "    for sym in all_sym:\n",
    "        print(f'download {sym}')\n",
    "        bl.bar_chart_download(driver, date_str, sym, download_path, k_do_download)\n",
    "    driver.quit()"
   ],
   "metadata": {
    "collapsed": false,
    "ExecuteTime": {
     "start_time": "2023-04-01T09:13:47.901603Z",
     "end_time": "2023-04-01T09:22:26.230311Z"
    }
   }
  },
  {
   "cell_type": "code",
   "execution_count": 27,
   "outputs": [
    {
     "data": {
      "text/plain": "  futures_contract option_expiration      iv\n0            ZSK23          04/21/23  14.47%\n1            ZSN23          05/26/23  17.69%\n0            ZNM23          04/21/23   8.22%\n1            ZNM23          05/26/23   8.22%\n0            NGK23          04/25/23  89.95%\n1            NGM23          05/25/23  81.84%\n0            ZWK23          04/21/23  27.70%\n1            ZWN23          05/26/23  30.56%\n0            CLK23          04/17/23  35.78%\n1            CLM23          05/17/23  38.09%\n0            SIK23          04/25/23  27.13%\n1            SIN23          05/25/23  29.09%\n0            HGK23          04/25/23  21.46%\n1            HGN23          05/25/23  25.12%\n0            ZCK23          04/21/23  18.60%\n1            ZCN23          05/26/23  22.07%\n0            GCM23          04/25/23  15.92%\n1            GCM23          05/25/23  15.92%",
      "text/html": "<div>\n<style scoped>\n    .dataframe tbody tr th:only-of-type {\n        vertical-align: middle;\n    }\n\n    .dataframe tbody tr th {\n        vertical-align: top;\n    }\n\n    .dataframe thead th {\n        text-align: right;\n    }\n</style>\n<table border=\"1\" class=\"dataframe\">\n  <thead>\n    <tr style=\"text-align: right;\">\n      <th></th>\n      <th>futures_contract</th>\n      <th>option_expiration</th>\n      <th>iv</th>\n    </tr>\n  </thead>\n  <tbody>\n    <tr>\n      <th>0</th>\n      <td>ZSK23</td>\n      <td>04/21/23</td>\n      <td>14.47%</td>\n    </tr>\n    <tr>\n      <th>1</th>\n      <td>ZSN23</td>\n      <td>05/26/23</td>\n      <td>17.69%</td>\n    </tr>\n    <tr>\n      <th>0</th>\n      <td>ZNM23</td>\n      <td>04/21/23</td>\n      <td>8.22%</td>\n    </tr>\n    <tr>\n      <th>1</th>\n      <td>ZNM23</td>\n      <td>05/26/23</td>\n      <td>8.22%</td>\n    </tr>\n    <tr>\n      <th>0</th>\n      <td>NGK23</td>\n      <td>04/25/23</td>\n      <td>89.95%</td>\n    </tr>\n    <tr>\n      <th>1</th>\n      <td>NGM23</td>\n      <td>05/25/23</td>\n      <td>81.84%</td>\n    </tr>\n    <tr>\n      <th>0</th>\n      <td>ZWK23</td>\n      <td>04/21/23</td>\n      <td>27.70%</td>\n    </tr>\n    <tr>\n      <th>1</th>\n      <td>ZWN23</td>\n      <td>05/26/23</td>\n      <td>30.56%</td>\n    </tr>\n    <tr>\n      <th>0</th>\n      <td>CLK23</td>\n      <td>04/17/23</td>\n      <td>35.78%</td>\n    </tr>\n    <tr>\n      <th>1</th>\n      <td>CLM23</td>\n      <td>05/17/23</td>\n      <td>38.09%</td>\n    </tr>\n    <tr>\n      <th>0</th>\n      <td>SIK23</td>\n      <td>04/25/23</td>\n      <td>27.13%</td>\n    </tr>\n    <tr>\n      <th>1</th>\n      <td>SIN23</td>\n      <td>05/25/23</td>\n      <td>29.09%</td>\n    </tr>\n    <tr>\n      <th>0</th>\n      <td>HGK23</td>\n      <td>04/25/23</td>\n      <td>21.46%</td>\n    </tr>\n    <tr>\n      <th>1</th>\n      <td>HGN23</td>\n      <td>05/25/23</td>\n      <td>25.12%</td>\n    </tr>\n    <tr>\n      <th>0</th>\n      <td>ZCK23</td>\n      <td>04/21/23</td>\n      <td>18.60%</td>\n    </tr>\n    <tr>\n      <th>1</th>\n      <td>ZCN23</td>\n      <td>05/26/23</td>\n      <td>22.07%</td>\n    </tr>\n    <tr>\n      <th>0</th>\n      <td>GCM23</td>\n      <td>04/25/23</td>\n      <td>15.92%</td>\n    </tr>\n    <tr>\n      <th>1</th>\n      <td>GCM23</td>\n      <td>05/25/23</td>\n      <td>15.92%</td>\n    </tr>\n  </tbody>\n</table>\n</div>"
     },
     "execution_count": 27,
     "metadata": {},
     "output_type": "execute_result"
    }
   ],
   "source": [
    "all_sym = find_all_downloaded_details(download_path)\n",
    "all_contracts = all_sym[['futures_contract', 'option_expiration', 'iv']].drop_duplicates()\n",
    "all_contracts"
   ],
   "metadata": {
    "collapsed": false,
    "ExecuteTime": {
     "start_time": "2023-04-01T09:22:26.230272Z",
     "end_time": "2023-04-01T09:22:26.230677Z"
    }
   }
  },
  {
   "cell_type": "code",
   "execution_count": 48,
   "outputs": [],
   "source": [
    "temp = []\n",
    "for idx, row in all_contracts.iterrows():\n",
    "    sym = row[0]\n",
    "    option_expiration = row[1]\n",
    "    #print(row)\n",
    "    temp.append(generate_neutral_futures(sym, option_expiration, file_date_str, barchart_datestr))"
   ],
   "metadata": {
    "collapsed": false,
    "ExecuteTime": {
     "start_time": "2023-04-01T10:07:59.320386Z",
     "end_time": "2023-04-01T10:08:13.008570Z"
    }
   }
  },
  {
   "cell_type": "code",
   "execution_count": 49,
   "outputs": [],
   "source": [
    "# Pull the data together and get the delta put call ratio from the files\n",
    "temp_iv_data = []\n",
    "for idx, row in all_contracts.iterrows():\n",
    "    sym = row[0]\n",
    "    option_expiration = row[1]\n",
    "\n",
    "    df_iv = get_iv_data_set(sym, option_expiration, file_date_str, barchart_datestr)\n",
    "    df_pcr = get_put_call_ratio(df_iv)\n",
    "    df_iv['Put-Call-Ratio'] = df_pcr['Put-Call-Ratio']\n",
    "    df_iv['Delta-Adj-Put-Call-Ratio'] = np.abs(df_pcr['Delta-Adj-Put-Call-Ratio'])\n",
    "    df_iv = df_iv[['symbol', 'option_expiration', 'close_px', 'Put-Call-Ratio', 'Delta-Adj-Put-Call-Ratio']].tail(1)\n",
    "    temp_iv_data.append(df_iv)\n",
    "closepx_table = pd.concat(temp_iv_data).set_index('symbol')\n",
    "closepx_table = closepx_table.rename(columns={'close_px':'Futures Close', 'option_expiration':'Opex Date'})"
   ],
   "metadata": {
    "collapsed": false,
    "ExecuteTime": {
     "start_time": "2023-04-01T10:08:26.845066Z",
     "end_time": "2023-04-01T10:08:28.492391Z"
    }
   }
  },
  {
   "cell_type": "code",
   "execution_count": 59,
   "outputs": [
    {
     "data": {
      "text/plain": "       Last Trade Date  Opex Date  Futures Close  delta_neutral  \\\nsymbol                                                            \nZSK23       2023-03-31 2023-04-21    1505.500000    1500.836118   \nZSN23       2023-03-31 2023-05-26    1475.500000    1416.128921   \nZNM23       2023-03-31 2023-04-21     114.921875     113.746905   \nZNM23       2023-03-31 2023-05-26     114.921875     111.983045   \nNGK23       2023-03-31 2023-04-25       2.216000       2.309320   \nNGM23       2023-03-31 2023-05-25       2.465000       2.578843   \nZWK23       2023-03-31 2023-04-21     692.250000     697.648552   \nZWN23       2023-03-31 2023-05-26     704.500000     669.760337   \nCLK23       2023-03-31 2023-04-17      75.670000      72.804928   \nCLM23       2023-03-31 2023-05-17      75.800000      73.131709   \nSIK23       2023-03-31 2023-04-25      24.156000      22.389240   \nSIN23       2023-03-31 2023-05-25      24.350000      22.507660   \nHGK23       2023-03-31 2023-04-25       4.094500       4.008567   \nHGN23       2023-03-31 2023-05-25       4.102500       3.891454   \nZCK23       2023-03-31 2023-04-21     660.500000     644.326458   \nZCN23       2023-03-31 2023-05-26     636.000000     618.287329   \nGCM23       2023-03-31 2023-04-25    1986.200000    1915.538897   \nGCM23       2023-03-31 2023-05-25    1986.200000    1864.210557   \n\n        gamma_neutral  Put-Call-Ratio  Delta-Adj-Put-Call-Ratio  \nsymbol                                                           \nZSK23     1509.912903        1.065345                  0.982279  \nZSN23     1363.377961        0.457933                  0.378517  \nZNM23      114.223805        0.978990                  0.522293  \nZNM23      110.635687        0.752450                  0.398658  \nNGK23        2.005809        0.545606                  1.383230  \nNGM23        2.297235        0.514575                  1.389311  \nZWK23      685.631437        0.529107                  1.250633  \nZWN23      657.038055        0.548826                  0.455052  \nCLK23       70.610230        0.707253                  0.499178  \nCLM23       71.472563        0.433374                  0.702635  \nSIK23       22.379400        1.113388                  0.174732  \nSIN23       22.722705        1.034287                  0.257722  \nHGK23        3.994145        0.656707                  0.542889  \nHGN23        3.765430        0.315851                  0.343347  \nZCK23      641.844542        1.063100                  0.488204  \nZCN23      615.042235        0.928814                  0.640005  \nGCM23     1916.769034        1.007290                  0.217861  \nGCM23     1852.723326        0.646447                  0.186066  ",
      "text/html": "<div>\n<style scoped>\n    .dataframe tbody tr th:only-of-type {\n        vertical-align: middle;\n    }\n\n    .dataframe tbody tr th {\n        vertical-align: top;\n    }\n\n    .dataframe thead th {\n        text-align: right;\n    }\n</style>\n<table border=\"1\" class=\"dataframe\">\n  <thead>\n    <tr style=\"text-align: right;\">\n      <th></th>\n      <th>Last Trade Date</th>\n      <th>Opex Date</th>\n      <th>Futures Close</th>\n      <th>delta_neutral</th>\n      <th>gamma_neutral</th>\n      <th>Put-Call-Ratio</th>\n      <th>Delta-Adj-Put-Call-Ratio</th>\n    </tr>\n    <tr>\n      <th>symbol</th>\n      <th></th>\n      <th></th>\n      <th></th>\n      <th></th>\n      <th></th>\n      <th></th>\n      <th></th>\n    </tr>\n  </thead>\n  <tbody>\n    <tr>\n      <th>ZSK23</th>\n      <td>2023-03-31</td>\n      <td>2023-04-21</td>\n      <td>1505.500000</td>\n      <td>1500.836118</td>\n      <td>1509.912903</td>\n      <td>1.065345</td>\n      <td>0.982279</td>\n    </tr>\n    <tr>\n      <th>ZSN23</th>\n      <td>2023-03-31</td>\n      <td>2023-05-26</td>\n      <td>1475.500000</td>\n      <td>1416.128921</td>\n      <td>1363.377961</td>\n      <td>0.457933</td>\n      <td>0.378517</td>\n    </tr>\n    <tr>\n      <th>ZNM23</th>\n      <td>2023-03-31</td>\n      <td>2023-04-21</td>\n      <td>114.921875</td>\n      <td>113.746905</td>\n      <td>114.223805</td>\n      <td>0.978990</td>\n      <td>0.522293</td>\n    </tr>\n    <tr>\n      <th>ZNM23</th>\n      <td>2023-03-31</td>\n      <td>2023-05-26</td>\n      <td>114.921875</td>\n      <td>111.983045</td>\n      <td>110.635687</td>\n      <td>0.752450</td>\n      <td>0.398658</td>\n    </tr>\n    <tr>\n      <th>NGK23</th>\n      <td>2023-03-31</td>\n      <td>2023-04-25</td>\n      <td>2.216000</td>\n      <td>2.309320</td>\n      <td>2.005809</td>\n      <td>0.545606</td>\n      <td>1.383230</td>\n    </tr>\n    <tr>\n      <th>NGM23</th>\n      <td>2023-03-31</td>\n      <td>2023-05-25</td>\n      <td>2.465000</td>\n      <td>2.578843</td>\n      <td>2.297235</td>\n      <td>0.514575</td>\n      <td>1.389311</td>\n    </tr>\n    <tr>\n      <th>ZWK23</th>\n      <td>2023-03-31</td>\n      <td>2023-04-21</td>\n      <td>692.250000</td>\n      <td>697.648552</td>\n      <td>685.631437</td>\n      <td>0.529107</td>\n      <td>1.250633</td>\n    </tr>\n    <tr>\n      <th>ZWN23</th>\n      <td>2023-03-31</td>\n      <td>2023-05-26</td>\n      <td>704.500000</td>\n      <td>669.760337</td>\n      <td>657.038055</td>\n      <td>0.548826</td>\n      <td>0.455052</td>\n    </tr>\n    <tr>\n      <th>CLK23</th>\n      <td>2023-03-31</td>\n      <td>2023-04-17</td>\n      <td>75.670000</td>\n      <td>72.804928</td>\n      <td>70.610230</td>\n      <td>0.707253</td>\n      <td>0.499178</td>\n    </tr>\n    <tr>\n      <th>CLM23</th>\n      <td>2023-03-31</td>\n      <td>2023-05-17</td>\n      <td>75.800000</td>\n      <td>73.131709</td>\n      <td>71.472563</td>\n      <td>0.433374</td>\n      <td>0.702635</td>\n    </tr>\n    <tr>\n      <th>SIK23</th>\n      <td>2023-03-31</td>\n      <td>2023-04-25</td>\n      <td>24.156000</td>\n      <td>22.389240</td>\n      <td>22.379400</td>\n      <td>1.113388</td>\n      <td>0.174732</td>\n    </tr>\n    <tr>\n      <th>SIN23</th>\n      <td>2023-03-31</td>\n      <td>2023-05-25</td>\n      <td>24.350000</td>\n      <td>22.507660</td>\n      <td>22.722705</td>\n      <td>1.034287</td>\n      <td>0.257722</td>\n    </tr>\n    <tr>\n      <th>HGK23</th>\n      <td>2023-03-31</td>\n      <td>2023-04-25</td>\n      <td>4.094500</td>\n      <td>4.008567</td>\n      <td>3.994145</td>\n      <td>0.656707</td>\n      <td>0.542889</td>\n    </tr>\n    <tr>\n      <th>HGN23</th>\n      <td>2023-03-31</td>\n      <td>2023-05-25</td>\n      <td>4.102500</td>\n      <td>3.891454</td>\n      <td>3.765430</td>\n      <td>0.315851</td>\n      <td>0.343347</td>\n    </tr>\n    <tr>\n      <th>ZCK23</th>\n      <td>2023-03-31</td>\n      <td>2023-04-21</td>\n      <td>660.500000</td>\n      <td>644.326458</td>\n      <td>641.844542</td>\n      <td>1.063100</td>\n      <td>0.488204</td>\n    </tr>\n    <tr>\n      <th>ZCN23</th>\n      <td>2023-03-31</td>\n      <td>2023-05-26</td>\n      <td>636.000000</td>\n      <td>618.287329</td>\n      <td>615.042235</td>\n      <td>0.928814</td>\n      <td>0.640005</td>\n    </tr>\n    <tr>\n      <th>GCM23</th>\n      <td>2023-03-31</td>\n      <td>2023-04-25</td>\n      <td>1986.200000</td>\n      <td>1915.538897</td>\n      <td>1916.769034</td>\n      <td>1.007290</td>\n      <td>0.217861</td>\n    </tr>\n    <tr>\n      <th>GCM23</th>\n      <td>2023-03-31</td>\n      <td>2023-05-25</td>\n      <td>1986.200000</td>\n      <td>1864.210557</td>\n      <td>1852.723326</td>\n      <td>0.646447</td>\n      <td>0.186066</td>\n    </tr>\n  </tbody>\n</table>\n</div>"
     },
     "execution_count": 59,
     "metadata": {},
     "output_type": "execute_result"
    }
   ],
   "source": [
    "# Get the delta neutral and gamma neutral values and combine with final table\n",
    "expn = [x[0] for x in temp]\n",
    "final_output = pd.concat(expn).loc[-1,['symbol', 'delta_neutral', 'gamma_neutral' ]].set_index('symbol')\n",
    "final_output = pd.concat([closepx_table, final_output], axis=1)\n",
    "final_output['Last Trade Date'] = date_str\n",
    "final_output = final_output.loc[:,['Last Trade Date', 'Opex Date', 'Futures Close', 'delta_neutral', 'gamma_neutral', 'Put-Call-Ratio', 'Delta-Adj-Put-Call-Ratio']]\n",
    "final_output"
   ],
   "metadata": {
    "collapsed": false,
    "ExecuteTime": {
     "start_time": "2023-04-01T10:53:15.763577Z",
     "end_time": "2023-04-01T10:53:15.805247Z"
    }
   }
  },
  {
   "cell_type": "code",
   "execution_count": 68,
   "outputs": [],
   "source": [
    "final_output.to_csv(os.path.join(download_path,f'{output_date_str}.futures.neutrals.csv'), float_format='%2.2f')"
   ],
   "metadata": {
    "collapsed": false,
    "ExecuteTime": {
     "start_time": "2023-04-01T11:00:28.836318Z",
     "end_time": "2023-04-01T11:00:28.877202Z"
    }
   }
  },
  {
   "cell_type": "markdown",
   "source": [
    "# Testing Follows"
   ],
   "metadata": {
    "collapsed": false
   }
  },
  {
   "cell_type": "code",
   "execution_count": null,
   "outputs": [],
   "source": [
    "final_output_target = pd.read_csv(os.path.join(download_path,f'finalout.target.{file_date_str}.csv'), parse_dates=['Opex Date']).set_index('symbol')\n",
    "test_target_sym = ['GCJ23', 'CLK23', 'NGJ23']"
   ],
   "metadata": {
    "collapsed": false
   }
  },
  {
   "cell_type": "code",
   "execution_count": null,
   "outputs": [],
   "source": [
    "final_output.loc[test_target_sym,:]"
   ],
   "metadata": {
    "collapsed": false
   }
  },
  {
   "cell_type": "code",
   "execution_count": null,
   "outputs": [],
   "source": [
    " final_output_target.loc[test_target_sym, :]"
   ],
   "metadata": {
    "collapsed": false
   }
  },
  {
   "cell_type": "code",
   "execution_count": null,
   "outputs": [],
   "source": [
    "# Check output against test\n",
    "all_columns = final_output.columns\n",
    "\n",
    "for c in all_columns:\n",
    "    t1 = final_output.loc[test_target_sym,c]\n",
    "    t2 = final_output_target.loc[test_target_sym,c]\n",
    "    try:\n",
    "        pd.testing.assert_series_equal(t1, t2, rtol=0.01, check_exact=False)\n",
    "    except:\n",
    "        display(pd.concat([t1, t2], axis=1))\n"
   ],
   "metadata": {
    "collapsed": false
   }
  },
  {
   "cell_type": "code",
   "execution_count": 38,
   "outputs": [],
   "source": [
    "all_df = []\n",
    "for filename in glob.glob(os.path.join(download_path, '*.csv')):\n",
    "    all_df.append(filename)"
   ],
   "metadata": {
    "collapsed": false,
    "ExecuteTime": {
     "start_time": "2023-04-01T09:34:47.138760Z",
     "end_time": "2023-04-01T09:34:47.145155Z"
    }
   }
  },
  {
   "cell_type": "code",
   "execution_count": 40,
   "outputs": [],
   "source": [
    "all_df_new = all_df"
   ],
   "metadata": {
    "collapsed": false,
    "ExecuteTime": {
     "start_time": "2023-04-01T09:45:41.045234Z",
     "end_time": "2023-04-01T09:45:41.088988Z"
    }
   }
  },
  {
   "cell_type": "code",
   "execution_count": 44,
   "outputs": [],
   "source": [
    "all_df_new = [x.replace('04-01-2023', '03-31-2023') for x in all_df_new]"
   ],
   "metadata": {
    "collapsed": false,
    "ExecuteTime": {
     "start_time": "2023-04-01T09:47:10.584093Z",
     "end_time": "2023-04-01T09:47:10.588456Z"
    }
   }
  },
  {
   "cell_type": "code",
   "execution_count": 47,
   "outputs": [],
   "source": [
    "for oldname, newname in zip(all_df, all_df_new):\n",
    "    os.rename(oldname, newname)"
   ],
   "metadata": {
    "collapsed": false,
    "ExecuteTime": {
     "start_time": "2023-04-01T10:07:52.479459Z",
     "end_time": "2023-04-01T10:07:52.485106Z"
    }
   }
  }
 ],
 "metadata": {
  "kernelspec": {
   "name": "gamma",
   "language": "python",
   "display_name": "gamma"
  },
  "language_info": {
   "codemirror_mode": {
    "name": "ipython",
    "version": 2
   },
   "file_extension": ".py",
   "mimetype": "text/x-python",
   "name": "python",
   "nbconvert_exporter": "python",
   "pygments_lexer": "ipython2",
   "version": "2.7.6"
  }
 },
 "nbformat": 4,
 "nbformat_minor": 0
}
