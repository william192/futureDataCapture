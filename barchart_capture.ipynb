{
 "cells": [
  {
   "cell_type": "code",
   "execution_count": 19,
   "outputs": [
    {
     "data": {
      "text/plain": "'C:\\\\Users\\\\mcbri\\\\PycharmProjects\\\\futureDataCapture\\\\chromedriver.exe'"
     },
     "metadata": {},
     "output_type": "display_data"
    },
    {
     "name": "stdout",
     "output_type": "stream",
     "text": [
      "processing futures options:2023-03-30\n",
      "C:\\Users\\mcbri\\PycharmProjects\\futureDataCapture\\local_download\\2023-03-30 exists\n"
     ]
    }
   ],
   "source": [
    "from selenium import webdriver\n",
    "import os\n",
    "from selenium.webdriver.common.by import By\n",
    "import time\n",
    "import pandas as pd\n",
    "import numpy as np\n",
    "from datetime import datetime\n",
    "import db_multiproc_calc_neutral2 as dmc\n",
    "from bs4 import BeautifulSoup\n",
    "import requests\n",
    "from random import *\n",
    "import glob\n",
    "\n",
    "k_do_download = False\n",
    "#all_sym = ['GCJ23']\n",
    "#all_sym = ['CLK23', 'NGJ23', 'ZCK23', 'ZWK23', 'ZSK23', 'E6M23', 'ZNM23',\n",
    "#           'NGK23', 'SIK23', 'HGK23']\n",
    "\n",
    "# For a given option\n",
    "\n",
    "cwd = os.getcwd()\n",
    "\n",
    "executable_path = os.path.join(cwd,'chromedriver.exe')\n",
    "display(executable_path)\n",
    "\n",
    "date_value = datetime.now()\n",
    "date_str = date_value.strftime(\"%Y-%m-%d\")\n",
    "\n",
    "#date_str = '2023-03-24'\n",
    "output_date_str = datetime.now().strftime(\"%Y%m%d\")\n",
    "file_date_str = date_str\n",
    "barchart_datestr = pd.to_datetime(file_date_str).strftime('%m-%d-%Y')\n",
    "\n",
    "download_path = os.path.join(cwd, 'local_download', file_date_str)\n",
    "\n",
    "print(f'processing futures options:{file_date_str}')\n",
    "\n",
    "try:\n",
    "    os.mkdir(download_path)\n",
    "except:\n",
    "    print(f'{download_path} exists')\n"
   ],
   "metadata": {
    "collapsed": false
   }
  },
  {
   "cell_type": "code",
   "execution_count": 20,
   "outputs": [],
   "source": [
    "def get_nearest_contract(date_value):\n",
    "    fut_con = pd.read_csv(os.path.join(cwd, 'local_download', 'futures_contract_dates.csv'), parse_dates=['first_notice','expiration'])\n",
    "    # extract the symbol root which is the first two characters of the contract\n",
    "    fut_con['symbol_root'] = fut_con['futures_contract'].map(lambda x:x[0:2])\n",
    "    # get the contracts which are still valid\n",
    "    idx_valid = fut_con['first_notice'] > date_value\n",
    "    fut_con_valid = fut_con.loc[idx_valid]\n",
    "    # extract the nearest\n",
    "    df_ret = fut_con_valid.sort_values(['first_notice'], ascending=True).groupby('symbol_root').head(1).sort_values('futures_contract')\n",
    "    return df_ret\n",
    "\n",
    "def find_all_downloaded_contracts(download_path):\n",
    "    df_all_ctr = find_all_downloaded_contracts(download_path)\n",
    "    return df_all_ctr['futures_contract'].unique()\n",
    "\n",
    "def find_all_downloaded_details(download_path):\n",
    "    all_df = []\n",
    "    for filename in glob.glob(os.path.join(download_path, '*.txt')):\n",
    "        all_df.append(pd.read_csv(filename))\n",
    "    df_all_ctr = pd.concat(all_df, axis=0)\n",
    "    return df_all_ctr\n",
    "\n",
    "def get_treasury_data(start_date):\n",
    "\n",
    "    start_date_str = start_date.strftime(\"%Y%m\")\n",
    "    url='https://home.treasury.gov/resource-center/data-chart-center/interest-rates/pages/xml?data=daily_treasury_yield_curve&field_tdr_date_value_month='+start_date_str\n",
    "    soup = BeautifulSoup(requests.get(url).text,'lxml')\n",
    "    table = soup.find_all('m:properties')\n",
    "    tbondvalues = []\n",
    "    for i in table:\n",
    "        tbondvalues.append([i.find('d:new_date').text[:10],i.find('d:bc_1month').text,i.find('d:bc_2month').text,i.find('d:bc_3month').text,i.find('d:bc_6month').text,i.find('d:bc_1year').text,i.find('d:bc_2year').text,i.find('d:bc_3year').text,i.find('d:bc_5year').text,i.find('d:bc_10year').text,i.find('d:bc_20year').text,i.find('d:bc_30year').text])\n",
    "    ustcurve = pd.DataFrame(tbondvalues,columns=['date','1m','2m','3m','6m','1y','2y','3y','5y','10y','20y','30y'])\n",
    "    ustcurve.iloc[:,1:] = ustcurve.iloc[:,1:].apply(pd.to_numeric)/100\n",
    "    ustcurve['date'] = pd.to_datetime(ustcurve['date'])\n",
    "    tbl_daily = ustcurve.sort_values(['date'])\n",
    "    tbl_daily = tbl_daily.set_index('date').stack(level=0).reset_index()\n",
    "    tbl_daily.columns = ['date', 'tenor', 'rate']\n",
    "\n",
    "    return tbl_daily\n",
    "\n",
    "def get_put_call_ratio(df_iv):\n",
    "    # This takes the IV datafrmae and calcs both the delta adjusted put call and\n",
    "    # natural put call ratio from the barcharts data\n",
    "    df_iv = df_iv.dropna().copy()\n",
    "    df_iv = df_iv.loc[:, ['strike', 'call_put', 'open_interest', 'delta']]\n",
    "    df_iv['Delta-Adj-Put-Call-Ratio'] = df_iv['open_interest'] * df_iv['delta']\n",
    "    df_iv = df_iv.drop(columns=['delta'])\n",
    "    df_iv = df_iv.set_index(['strike', 'call_put']).groupby('call_put').sum()\n",
    "    df_iv = df_iv.rename(columns={'open_interest':'Put-Call-Ratio'})\n",
    "    pc_temp = df_iv.T\n",
    "    return (pc_temp.loc[:,'P'] / pc_temp.loc[:,'C'])\n",
    "\n",
    "def get_iv_data_set(sym, option_expiration, file_date_str, barchart_datestr):\n",
    "    # compile the implied vol dataframe from the files downloaded from barcharts\n",
    "\n",
    "    exp_date_str = option_expiration\n",
    "    exp_file_date_str = pd.to_datetime(exp_date_str).strftime('%m_%d_%y')\n",
    "\n",
    "    #iv_str = df_exp_data.values[0][1]\n",
    "    #all_iv = pd.to_numeric(iv_str.replace('%',''))/100\n",
    "\n",
    "    px_data_path = os.path.join('local_download', file_date_str, f'{sym}_daily_historical-data-{barchart_datestr}.csv')\n",
    "    opx_data_path = os.path.join('local_download', file_date_str, f'{sym}-options-american-options-exp-{exp_file_date_str}-show-all-%futuresoptionsview%-daily-{barchart_datestr}.csv')\n",
    "    gr_data_path = os.path.join('local_download', file_date_str, f'{sym}-volatility-greeks-exp-{exp_file_date_str}-show-all-{barchart_datestr}.csv')\n",
    "\n",
    "    # read the options price data\n",
    "    fpx = pd.read_csv(px_data_path, parse_dates=['Time']).dropna()\n",
    "    fpx['date'] = fpx['Time'].map(lambda x:pd.to_datetime(x))\n",
    "    fpx = fpx.drop(columns=['Time'])\n",
    "    fpx=fpx.set_index(['date']).sort_index()\n",
    "    close_px = fpx.loc[barchart_datestr, :]['Last']\n",
    "\n",
    "    # read in the option prices and transform\n",
    "    opx = pd.read_csv(opx_data_path)\n",
    "    opx = opx.iloc[:-1,:]\n",
    "    opx['call_put']=opx['Strike'].map(lambda x:x[-1])\n",
    "    opx['num_strike']=opx['Strike'].map(lambda x:pd.to_numeric(x[:-1].replace('-','.').replace(',','')))\n",
    "    if 'Prev Low' in opx.columns:\n",
    "        opx=opx.drop(labels=['Strike', 'Delta', 'Prev Open', 'Prev High', 'Prev Low', 'Prev Change', 'Premium'], axis=1)\n",
    "        opx = opx.rename(columns={'num_strike': 'Strike',\n",
    "                              'Prev Volume':'Volume',\n",
    "                              'Open Interest':'open_interest',\n",
    "                              'Last':'mean_price'})\n",
    "    else:\n",
    "        opx=opx.drop(labels=['Strike', 'High', 'Low', 'Change', 'Premium'], axis=1)\n",
    "        opx = opx.rename(columns={'num_strike': 'Strike',\n",
    "                              'Open Int':'open_interest',\n",
    "                              'Last':'mean_price'})\n",
    "    opx = opx.set_index(['Strike', 'call_put'])\n",
    "\n",
    "    # read in the greeks and transform\n",
    "    gr = pd.read_csv(gr_data_path)\n",
    "    gr = gr.iloc[:-1,:]\n",
    "\n",
    "    gr['symbol']=sym\n",
    "    gr['option_expiration']=pd.to_datetime(exp_date_str)\n",
    "    gr['Strike']=gr['Strike'].map(lambda x:pd.to_numeric(x))\n",
    "    gr['IV']=pd.to_numeric(gr['IV'].str[:-1])/100\n",
    "    #RWMgr['IV']=all_iv\n",
    "    gr['Type'] = gr['Type'].map({'Put':'P', 'Call':'C'})\n",
    "    gr=gr.drop(labels=['IV Skew', 'Time', 'Last'], axis=1)\n",
    "    gr=gr.rename(columns={'Type':'call_put'})\n",
    "    gr=gr.set_index(['Strike', 'call_put'])\n",
    "\n",
    "    # concat and make columns lowercase\n",
    "    t=pd.concat([opx, gr], axis=1)\n",
    "    t['close_px'] = close_px\n",
    "    t = t.reset_index()\n",
    "    t.columns = map(str.lower, t.columns)\n",
    "    return t\n",
    "\n",
    "def clean_implied_vol(df_iv_file):\n",
    "    x = df_iv_file.set_index(['strike', 'call_put']).sort_index().copy()\n",
    "    y = x['iv'].unstack('call_put')\n",
    "    idx_put_zero = y['P']==0\n",
    "    idx_call_zero = y['C']==0\n",
    "\n",
    "    idx_call_zero_replace = idx_call_zero * ~idx_put_zero\n",
    "    idx_put_zero_replace = idx_put_zero * ~idx_call_zero\n",
    "    y.loc[idx_call_zero_replace, 'C'] = y.loc[idx_call_zero_replace, 'P']\n",
    "    y.loc[idx_put_zero_replace, 'P'] = y.loc[idx_put_zero_replace, 'C']\n",
    "    y = y.rolling(3, center=True, min_periods=0).median()\n",
    "    y = y.stack('call_put')\n",
    "    y.name = 'clean_iv'\n",
    "    x1 = pd.concat([x,y],axis=1)\n",
    "    x1['iv'] = x1['clean_iv']\n",
    "    x1.drop(columns='clean_iv', inplace=True)\n",
    "    return x1\n",
    "\n",
    "def generate_neutral_futures(sym, option_expiration, file_date_str, barchart_datestr):\n",
    "\n",
    "    t = get_iv_data_set(sym, option_expiration, file_date_str, barchart_datestr)\n",
    "    df_iv = clean_implied_vol(t).dropna().reset_index()\n",
    "\n",
    "    query_date = barchart_datestr\n",
    "    root_symbol = sym\n",
    "\n",
    "    unique_strikes = sorted(t['strike'])\n",
    "    spot_prices = np.array(dmc.calc_spot_price_levels(unique_strikes), dtype=float)\n",
    "\n",
    "    agg_neutral, df_greeks_by_strike, exp_neutral = \\\n",
    "        dmc.calc_daily_neutral_values( \\\n",
    "            df_iv,\n",
    "            query_date,\n",
    "            rf_rate,\n",
    "            root_symbol,\n",
    "            spot_prices)\n",
    "\n",
    "    agg_neutral['Close'] = t['close_px'].values[0]\n",
    "    agg_neutral['Symbol'] = sym\n",
    "    return [agg_neutral, df_greeks_by_strike, exp_neutral]"
   ],
   "metadata": {
    "collapsed": false
   }
  },
  {
   "cell_type": "code",
   "execution_count": 21,
   "outputs": [
    {
     "data": {
      "text/plain": "0.0474"
     },
     "execution_count": 21,
     "metadata": {},
     "output_type": "execute_result"
    }
   ],
   "source": [
    "rate_filename = os.path.join(download_path,'rate.csv')\n",
    "\n",
    "if k_do_download:\n",
    "    df_rate = get_treasury_data(pd.to_datetime(date_str))\n",
    "    df_rate.to_csv(rate_filename, index=False)\n",
    "\n",
    "df_rate = pd.read_csv(rate_filename)\n",
    "rf_rate = df_rate.set_index(['date', 'tenor']).loc[date_str,'1m'].values[0]\n",
    "rf_rate"
   ],
   "metadata": {
    "collapsed": false
   }
  },
  {
   "cell_type": "code",
   "execution_count": 27,
   "outputs": [],
   "source": [
    "def bar_chart_get_driver(executable_path, download_path):\n",
    "    chromeOptions = webdriver.ChromeOptions()\n",
    "    chromeOptions.add_experimental_option(\"prefs\", {\n",
    "        \"download.default_directory\": download_path,\n",
    "        \"download.prompt_for_download\": False,\n",
    "        \"download.directory_upgrade\": True,\n",
    "        \"safebrowsing.enabled\": True\n",
    "    })\n",
    "\n",
    "    driver = webdriver.Chrome(executable_path=executable_path, options=chromeOptions)\n",
    "    return driver\n",
    "\n",
    "def bar_chart_login(driver):\n",
    "    driver.get(\"https://www.barchart.com/login\")\n",
    "    driver.find_element(By.NAME, \"email\").click()\n",
    "    driver.find_element(By.NAME, \"email\").send_keys(\"mcbride1689@gmail.com\")\n",
    "    driver.find_element(By.NAME, \"password\").click()\n",
    "    driver.find_element(By.NAME, \"password\").send_keys(\"d5nJSz57A8C5\")\n",
    "    driver.find_element_by_class_name('login-button').click()\n",
    "    return\n",
    "\n",
    "def bar_chart_download(driver, date_str, sym, download=False):\n",
    "\n",
    "    def on_current_page_download_near_next(driver, download):\n",
    "        # Get the list of options in the dropdown\n",
    "        try:\n",
    "            # attempt to select the contract, if there is no drop down all options on this contract are expired\n",
    "            driver.find_element(By.ID, \"bc-options-toolbar__dropdown-month\").click()\n",
    "        except:\n",
    "            # select the next contract\n",
    "            temp = \"#main-content-column > div > div.error-page > ul > li:nth-child(1) > a\"\n",
    "            driver.find_element(By.CSS_SELECTOR, temp).click()\n",
    "            time.sleep(1)\n",
    "            driver.find_element(By.ID, \"bc-options-toolbar__dropdown-month\").click()\n",
    "\n",
    "        dropdown = driver.find_element(By.ID, \"bc-options-toolbar__dropdown-month\")\n",
    "        options = dropdown.text\n",
    "        options = options.split('\\n')\n",
    "        options = [x.lstrip() for x in options]\n",
    "        mon_expr=[]\n",
    "        option_expiration=[]\n",
    "        iv_all=[]\n",
    "\n",
    "        # iterate through the options and get the expiration\n",
    "        num_downloaded = 0\n",
    "        check_loop_counter = 0\n",
    "        while num_downloaded < 2:\n",
    "            time.sleep(random()*3)\n",
    "\n",
    "            try:\n",
    "                driver.find_element(By.ID, \"bc-options-toolbar__dropdown-month\").click()\n",
    "                time.sleep(random()*2)\n",
    "                dropdown = driver.find_element(By.ID, \"bc-options-toolbar__dropdown-month\")\n",
    "                dropdown.find_element(By.XPATH, f\"//option[. = '{options[check_loop_counter]}']\").click()\n",
    "\n",
    "                #click all expiries and daily\n",
    "                time.sleep(random()*0.5)\n",
    "                driver.find_element(By.NAME, \"moneyness\").click()\n",
    "                time.sleep(random()*0.5)\n",
    "                dropdown = driver.find_element(By.NAME, \"moneyness\")\n",
    "                dropdown.find_element(By.XPATH, \"//option[. = 'Show All']\").click()\n",
    "                time.sleep(random()*0.5)\n",
    "                driver.find_element(By.CSS_SELECTOR, \".bc-datatable-toolbar:nth-child(3)\").click()\n",
    "                time.sleep(random()*0.5)\n",
    "                try:\n",
    "                    driver.find_element(By.NAME, \"futuresOptionsTime\").click()\n",
    "                    time.sleep(random()*0.5)\n",
    "                    dropdown = driver.find_element(By.NAME, \"futuresOptionsTime\")\n",
    "                    dropdown.find_element(By.XPATH, \"//option[. = 'Daily']\").click()\n",
    "                except:\n",
    "                    print('')\n",
    "\n",
    "                # Get the option expiration date\n",
    "                temp_name = \"#main-content-column > div > div:nth-child(4) > div > div:nth-child(1) > div > strong:nth-child(2)\"\n",
    "                expiration_date = driver.find_element(By.CSS_SELECTOR, temp_name).text\n",
    "\n",
    "                if pd.to_datetime(expiration_date) > pd.to_datetime(date_str):\n",
    "                    option_expiration.append(expiration_date)\n",
    "                    # Get the contract associated with the month\n",
    "                    temp_name = \"#main-content-column > div > div.page-title.symbol-header-info.ng-scope > div.symbol-name > div > span:nth-child(2)\"\n",
    "                    # note we remove ( and ) by removing the first and last character\n",
    "                    mon_expr.append(driver.find_element(By.CSS_SELECTOR, temp_name).text[1:-1])\n",
    "                    # Get the IV of all options\n",
    "                    temp_name = \"#main-content-column > div > div:nth-child(4) > div > div.column.small-12.medium-4.text-medium-up-center > div > strong\"\n",
    "                    iv_all.append(driver.find_element(By.CSS_SELECTOR, temp_name).text)\n",
    "\n",
    "\n",
    "                    if download:\n",
    "                        time.sleep(random()*3)\n",
    "                        print(f'downloading {mon_expr[-1]}')\n",
    "                        driver.find_element(By.CSS_SELECTOR, \".toolbar-button > span\").click()\n",
    "                        time.sleep(3)\n",
    "                        num_downloaded = num_downloaded + 1\n",
    "\n",
    "                # make sure we don't loop endlessly\n",
    "                check_loop_counter = check_loop_counter + 1\n",
    "                if check_loop_counter > 10:\n",
    "                    break\n",
    "            except:\n",
    "                print(sym+\":\"+options[check_loop_counter] + \" not found\")\n",
    "\n",
    "        return pd.DataFrame(zip(mon_expr, option_expiration, iv_all), columns=['futures_contract', 'option_expiration', 'iv'])\n",
    "\n",
    "    option_price_url = f\"https://www.barchart.com/futures/quotes/{sym}/options?futuresOptionsTime=daily&moneyness=allRows\"\n",
    "    option_greek_url = f'https://www.barchart.com/futures/quotes/{sym}/volatility-greeks?moneyness=allRows'\n",
    "\n",
    "    #-------------------\n",
    "    # download the options prices\n",
    "    time.sleep(2*random())\n",
    "    driver.get(option_price_url)\n",
    "    time.sleep(2)\n",
    "\n",
    "    df_price_data = on_current_page_download_near_next(driver, download)\n",
    "\n",
    "    # Get the option greeks\n",
    "    time.sleep(2*random())\n",
    "    driver.get(option_greek_url)\n",
    "    time.sleep(2)\n",
    "\n",
    "    df_greek_data = on_current_page_download_near_next(driver, download)\n",
    "\n",
    "    df_price_data['source'] = 'price_page'\n",
    "    df_greek_data['source'] = 'greeks_page'\n",
    "    df_all = pd.concat([df_price_data, df_greek_data], axis=0)\n",
    "    filename=os.path.join(download_path, f\"{sym}_{date_str}.txt\")\n",
    "    df_all.to_csv(filename)\n",
    "\n",
    "    # download all pricing files needed\n",
    "    for ctr in df_all['futures_contract'].unique():\n",
    "        future_price_url = f'https://www.barchart.com/futures/quotes/{ctr}/historical-download'\n",
    "\n",
    "        # download the futures prices\n",
    "        driver.get(future_price_url)\n",
    "\n",
    "        # download the price history\n",
    "        time.sleep(2*random())\n",
    "        driver.find_element(By.CSS_SELECTOR, \".bc-price-history-checkboxes .checkbox\").click()\n",
    "        time.sleep(2)\n",
    "\n",
    "        if download:\n",
    "            driver.find_element(By.CSS_SELECTOR, \".add\").click()\n",
    "            time.sleep(3)\n",
    "    return"
   ],
   "metadata": {
    "collapsed": false
   }
  },
  {
   "cell_type": "code",
   "execution_count": 23,
   "outputs": [],
   "source": [
    "df_contract_list = get_nearest_contract(date_value)"
   ],
   "metadata": {
    "collapsed": false
   }
  },
  {
   "cell_type": "code",
   "execution_count": 24,
   "outputs": [
    {
     "data": {
      "text/plain": "array(['CLK23', 'GCJ23', 'HGK23', 'NGK23', 'SIK23', 'ZCK23', 'ZNM23',\n       'ZSK23', 'ZWK23'], dtype=object)"
     },
     "execution_count": 24,
     "metadata": {},
     "output_type": "execute_result"
    }
   ],
   "source": [
    "all_sym = df_contract_list['futures_contract'].values\n",
    "all_sym"
   ],
   "metadata": {
    "collapsed": false
   }
  },
  {
   "cell_type": "code",
   "execution_count": 25,
   "outputs": [],
   "source": [
    "#all_done = ['GCJ23', 'CLK23']\n",
    "#all_sym = np.setdiff1d(all_sym, all_done)\n",
    "#all_sym = ['GCJ23']"
   ],
   "metadata": {
    "collapsed": false
   }
  },
  {
   "cell_type": "code",
   "execution_count": 28,
   "outputs": [
    {
     "name": "stdout",
     "output_type": "stream",
     "text": [
      "download GCJ23\n",
      "GCJ23:May 2023 not found\n",
      "GCJ23:May 2023 not found\n"
     ]
    },
    {
     "ename": "KeyboardInterrupt",
     "evalue": "",
     "output_type": "error",
     "traceback": [
      "\u001B[1;31m---------------------------------------------------------------------------\u001B[0m",
      "\u001B[1;31mKeyboardInterrupt\u001B[0m                         Traceback (most recent call last)",
      "\u001B[1;32m<ipython-input-28-cee5e3aaa19e>\u001B[0m in \u001B[0;36m<module>\u001B[1;34m\u001B[0m\n\u001B[0;32m      4\u001B[0m     \u001B[1;32mfor\u001B[0m \u001B[0msym\u001B[0m \u001B[1;32min\u001B[0m \u001B[0mall_sym\u001B[0m\u001B[1;33m:\u001B[0m\u001B[1;33m\u001B[0m\u001B[1;33m\u001B[0m\u001B[0m\n\u001B[0;32m      5\u001B[0m         \u001B[0mprint\u001B[0m\u001B[1;33m(\u001B[0m\u001B[1;34mf'download {sym}'\u001B[0m\u001B[1;33m)\u001B[0m\u001B[1;33m\u001B[0m\u001B[1;33m\u001B[0m\u001B[0m\n\u001B[1;32m----> 6\u001B[1;33m         \u001B[0mbar_chart_download\u001B[0m\u001B[1;33m(\u001B[0m\u001B[0mdriver\u001B[0m\u001B[1;33m,\u001B[0m \u001B[0mdate_str\u001B[0m\u001B[1;33m,\u001B[0m \u001B[0msym\u001B[0m\u001B[1;33m,\u001B[0m \u001B[0mk_do_download\u001B[0m\u001B[1;33m)\u001B[0m\u001B[1;33m\u001B[0m\u001B[1;33m\u001B[0m\u001B[0m\n\u001B[0m\u001B[0;32m      7\u001B[0m     \u001B[0mdriver\u001B[0m\u001B[1;33m.\u001B[0m\u001B[0mquit\u001B[0m\u001B[1;33m(\u001B[0m\u001B[1;33m)\u001B[0m\u001B[1;33m\u001B[0m\u001B[1;33m\u001B[0m\u001B[0m\n",
      "\u001B[1;32m<ipython-input-27-fa3faec13159>\u001B[0m in \u001B[0;36mbar_chart_download\u001B[1;34m(driver, date_str, sym, download)\u001B[0m\n\u001B[0;32m    111\u001B[0m     \u001B[0mtime\u001B[0m\u001B[1;33m.\u001B[0m\u001B[0msleep\u001B[0m\u001B[1;33m(\u001B[0m\u001B[1;36m2\u001B[0m\u001B[1;33m)\u001B[0m\u001B[1;33m\u001B[0m\u001B[1;33m\u001B[0m\u001B[0m\n\u001B[0;32m    112\u001B[0m \u001B[1;33m\u001B[0m\u001B[0m\n\u001B[1;32m--> 113\u001B[1;33m     \u001B[0mdf_price_data\u001B[0m \u001B[1;33m=\u001B[0m \u001B[0mon_current_page_download_near_next\u001B[0m\u001B[1;33m(\u001B[0m\u001B[0mdriver\u001B[0m\u001B[1;33m,\u001B[0m \u001B[0mdownload\u001B[0m\u001B[1;33m)\u001B[0m\u001B[1;33m\u001B[0m\u001B[1;33m\u001B[0m\u001B[0m\n\u001B[0m\u001B[0;32m    114\u001B[0m \u001B[1;33m\u001B[0m\u001B[0m\n\u001B[0;32m    115\u001B[0m     \u001B[1;31m# Get the option greeks\u001B[0m\u001B[1;33m\u001B[0m\u001B[1;33m\u001B[0m\u001B[1;33m\u001B[0m\u001B[0m\n",
      "\u001B[1;32m<ipython-input-27-fa3faec13159>\u001B[0m in \u001B[0;36mon_current_page_download_near_next\u001B[1;34m(driver, download)\u001B[0m\n\u001B[0;32m     46\u001B[0m         \u001B[0mcheck_loop_counter\u001B[0m \u001B[1;33m=\u001B[0m \u001B[1;36m0\u001B[0m\u001B[1;33m\u001B[0m\u001B[1;33m\u001B[0m\u001B[0m\n\u001B[0;32m     47\u001B[0m         \u001B[1;32mwhile\u001B[0m \u001B[0mnum_downloaded\u001B[0m \u001B[1;33m<\u001B[0m \u001B[1;36m2\u001B[0m\u001B[1;33m:\u001B[0m\u001B[1;33m\u001B[0m\u001B[1;33m\u001B[0m\u001B[0m\n\u001B[1;32m---> 48\u001B[1;33m             \u001B[0mtime\u001B[0m\u001B[1;33m.\u001B[0m\u001B[0msleep\u001B[0m\u001B[1;33m(\u001B[0m\u001B[0mrandom\u001B[0m\u001B[1;33m(\u001B[0m\u001B[1;33m)\u001B[0m\u001B[1;33m*\u001B[0m\u001B[1;36m3\u001B[0m\u001B[1;33m)\u001B[0m\u001B[1;33m\u001B[0m\u001B[1;33m\u001B[0m\u001B[0m\n\u001B[0m\u001B[0;32m     49\u001B[0m \u001B[1;33m\u001B[0m\u001B[0m\n\u001B[0;32m     50\u001B[0m             \u001B[1;32mtry\u001B[0m\u001B[1;33m:\u001B[0m\u001B[1;33m\u001B[0m\u001B[1;33m\u001B[0m\u001B[0m\n",
      "\u001B[1;31mKeyboardInterrupt\u001B[0m: "
     ]
    }
   ],
   "source": [
    "if k_do_download:\n",
    "    driver = bar_chart_get_driver(executable_path, download_path)\n",
    "    bar_chart_login(driver)\n",
    "    for sym in all_sym:\n",
    "        print(f'download {sym}')\n",
    "        bar_chart_download(driver, date_str, sym, k_do_download)\n",
    "    driver.quit()"
   ],
   "metadata": {
    "collapsed": false
   }
  },
  {
   "cell_type": "code",
   "execution_count": null,
   "outputs": [],
   "source": [
    "all_sym = find_all_downloaded_details(download_path)\n",
    "all_contracts = all_sym[['futures_contract', 'option_expiration', 'iv']].drop_duplicates()\n",
    "all_contracts"
   ],
   "metadata": {
    "collapsed": false
   }
  },
  {
   "cell_type": "code",
   "execution_count": null,
   "outputs": [],
   "source": [
    "temp = []\n",
    "for idx, row in all_contracts.iterrows():\n",
    "    sym = row[0]\n",
    "    option_expiration = row[1]\n",
    "    #print(row)\n",
    "    temp.append(generate_neutral_futures(sym, option_expiration, file_date_str, barchart_datestr))"
   ],
   "metadata": {
    "collapsed": false
   }
  },
  {
   "cell_type": "code",
   "execution_count": null,
   "outputs": [],
   "source": [
    "# Pull the data together and get the delta put call ratio from the files\n",
    "temp_iv_data = []\n",
    "for idx, row in all_contracts.iterrows():\n",
    "    sym = row[0]\n",
    "    option_expiration = row[1]\n",
    "\n",
    "    df_iv = get_iv_data_set(sym, option_expiration, file_date_str, barchart_datestr)\n",
    "    df_pcr = get_put_call_ratio(df_iv)\n",
    "    df_iv['Put-Call-Ratio'] = df_pcr['Put-Call-Ratio']\n",
    "    df_iv['Delta-Adj-Put-Call-Ratio'] = np.abs(df_pcr['Delta-Adj-Put-Call-Ratio'])\n",
    "    df_iv = df_iv[['symbol', 'option_expiration', 'close_px', 'Put-Call-Ratio', 'Delta-Adj-Put-Call-Ratio']].tail(1)\n",
    "    temp_iv_data.append(df_iv)\n",
    "closepx_table = pd.concat(temp_iv_data).set_index('symbol')\n",
    "closepx_table = closepx_table.rename(columns={'close_px':'Futures Close', 'option_expiration':'Opex Date'})"
   ],
   "metadata": {
    "collapsed": false
   }
  },
  {
   "cell_type": "code",
   "execution_count": null,
   "outputs": [],
   "source": [
    "# Get the delta neutral and gamma neutral values and combine with final table\n",
    "expn = [x[0] for x in temp]\n",
    "final_output = pd.concat(expn).loc[-1,['symbol', 'delta_neutral', 'gamma_neutral' ]].set_index('symbol')\n",
    "final_output = pd.concat([closepx_table, final_output], axis=1)\n",
    "final_output = final_output.loc[:,['Opex Date', 'Futures Close', 'delta_neutral', 'gamma_neutral', 'Put-Call-Ratio', 'Delta-Adj-Put-Call-Ratio']]\n",
    "final_output"
   ],
   "metadata": {
    "collapsed": false
   }
  },
  {
   "cell_type": "code",
   "execution_count": null,
   "outputs": [],
   "source": [
    "final_output.to_csv(os.path.join(download_path,f'{output_date_str}.futures.neutrals.csv'))"
   ],
   "metadata": {
    "collapsed": false
   }
  },
  {
   "cell_type": "markdown",
   "source": [
    "# Testing Follows"
   ],
   "metadata": {
    "collapsed": false
   }
  },
  {
   "cell_type": "code",
   "execution_count": null,
   "outputs": [],
   "source": [
    "final_output_target = pd.read_csv(os.path.join(download_path,f'finalout.target.{file_date_str}.csv'), parse_dates=['Opex Date']).set_index('symbol')\n",
    "test_target_sym = ['GCJ23', 'CLK23', 'NGJ23']"
   ],
   "metadata": {
    "collapsed": false
   }
  },
  {
   "cell_type": "code",
   "execution_count": null,
   "outputs": [],
   "source": [
    "final_output.loc[test_target_sym,:]"
   ],
   "metadata": {
    "collapsed": false
   }
  },
  {
   "cell_type": "code",
   "execution_count": null,
   "outputs": [],
   "source": [
    " final_output_target.loc[test_target_sym, :]"
   ],
   "metadata": {
    "collapsed": false
   }
  },
  {
   "cell_type": "code",
   "execution_count": null,
   "outputs": [],
   "source": [
    "# Check output against test\n",
    "all_columns = final_output.columns\n",
    "\n",
    "for c in all_columns:\n",
    "    t1 = final_output.loc[test_target_sym,c]\n",
    "    t2 = final_output_target.loc[test_target_sym,c]\n",
    "    try:\n",
    "        pd.testing.assert_series_equal(t1, t2, rtol=0.01, check_exact=False)\n",
    "    except:\n",
    "        display(pd.concat([t1, t2], axis=1))\n"
   ],
   "metadata": {
    "collapsed": false
   }
  }
 ],
 "metadata": {
  "kernelspec": {
   "name": "gamma",
   "language": "python",
   "display_name": "gamma"
  },
  "language_info": {
   "codemirror_mode": {
    "name": "ipython",
    "version": 2
   },
   "file_extension": ".py",
   "mimetype": "text/x-python",
   "name": "python",
   "nbconvert_exporter": "python",
   "pygments_lexer": "ipython2",
   "version": "2.7.6"
  }
 },
 "nbformat": 4,
 "nbformat_minor": 0
}
