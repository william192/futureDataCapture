{
 "cells": [
  {
   "cell_type": "code",
   "execution_count": 7,
   "metadata": {
    "collapsed": true
   },
   "outputs": [
    {
     "data": {
      "text/plain": "'C:\\\\Users\\\\mcbri\\\\PycharmProjects\\\\futureDataCapture\\\\chromedriver.exe'"
     },
     "metadata": {},
     "output_type": "display_data"
    },
    {
     "data": {
      "text/plain": "'2023-03-24'"
     },
     "execution_count": 7,
     "metadata": {},
     "output_type": "execute_result"
    }
   ],
   "source": [
    "from selenium import webdriver\n",
    "import os\n",
    "from selenium.webdriver.common.by import By\n",
    "import time\n",
    "import pandas as pd\n",
    "import numpy as np\n",
    "from datetime import datetime\n",
    "import db_multiproc_calc_neutral2 as dmc\n",
    "\n",
    "rf_rate = 0.0475\n",
    "k_do_download = False\n",
    "all_sym = ['GCJ23', 'CLK23', 'NGJ23', 'ZCK23', 'ZWK23', 'ZSK23', 'E6M23', 'ZNM23',\n",
    "           'SQJ23', 'NGK23', 'SIK23', 'HGK23']\n",
    "\n",
    "\n",
    "# For a given option\n",
    "\n",
    "cwd = os.getcwd()\n",
    "\n",
    "executable_path = os.path.join(cwd,'chromedriver.exe')\n",
    "display(executable_path)\n",
    "\n",
    "date_str = datetime.now().strftime(\"%Y-%m-%d\")\n",
    "date_str = '2023-03-24'\n",
    "file_date_str = date_str\n",
    "\n",
    "download_path = os.path.join(cwd, 'local_download', file_date_str)\n",
    "file_date_str"
   ]
  },
  {
   "cell_type": "code",
   "execution_count": 8,
   "outputs": [],
   "source": [
    "def get_put_call_ratio(df_iv):\n",
    "    # This takes the IV datafrmae and calcs both the delta adjusted put call and\n",
    "    # natural put call ratio from the barcharts data\n",
    "    df_iv = df_iv.dropna().copy()\n",
    "    df_iv = df_iv.loc[:, ['strike', 'call_put', 'open_interest', 'delta']]\n",
    "    df_iv['Delta-Adj-Put-Call-Ratio'] = df_iv['open_interest'] * df_iv['delta']\n",
    "    df_iv = df_iv.drop(columns=['delta'])\n",
    "    df_iv = df_iv.set_index(['strike', 'call_put']).groupby('call_put').sum()\n",
    "    df_iv = df_iv.rename(columns={'open_interest':'Put-Call-Ratio'})\n",
    "    pc_temp = df_iv.T\n",
    "    return (pc_temp.loc[:,'P'] / pc_temp.loc[:,'C'])\n",
    "\n",
    "def get_iv_data_set(sym, file_date_str, barchart_datestr):\n",
    "    # compile the implied vol dataframe from the files downloaded from barcharts\n",
    "    df_exp_data = pd.read_csv(os.path.join('local_download',file_date_str, f'{sym}_{file_date_str}.txt'))\n",
    "    exp_date_str = df_exp_data.values[0][0]\n",
    "    exp_file_date_str = pd.to_datetime(exp_date_str).strftime('%m_%d_%y')\n",
    "\n",
    "    iv_str = df_exp_data.values[0][1]\n",
    "    all_iv = pd.to_numeric(iv_str.replace('%',''))/100\n",
    "\n",
    "    px_data_path = os.path.join('local_download', file_date_str, f'{sym}_daily_historical-data-{barchart_datestr}.csv')\n",
    "    opx_data_path = os.path.join('local_download', file_date_str, f'{sym}-options-american-options-exp-{exp_file_date_str}-show-all-%futuresoptionsview%-daily-{barchart_datestr}.csv')\n",
    "    gr_data_path = os.path.join('local_download', file_date_str, f'{sym}-volatility-greeks-exp-{exp_file_date_str}-show-all-{barchart_datestr}.csv')\n",
    "\n",
    "    # read the options price data\n",
    "    fpx = pd.read_csv(px_data_path, parse_dates=['Time']).dropna()\n",
    "    fpx['date'] = fpx['Time'].map(lambda x:pd.to_datetime(x))\n",
    "    fpx = fpx.drop(columns=['Time'])\n",
    "    fpx=fpx.set_index(['date']).sort_index()\n",
    "    close_px = fpx.loc[barchart_datestr, :]['Last']\n",
    "\n",
    "    # read in the option prices and transform\n",
    "    opx = pd.read_csv(opx_data_path)\n",
    "    opx = opx.iloc[:-1,:]\n",
    "    opx['call_put']=opx['Strike'].map(lambda x:x[-1])\n",
    "    opx['num_strike']=opx['Strike'].map(lambda x:pd.to_numeric(x[:-1].replace('-','.').replace(',','')))\n",
    "    opx=opx.drop(labels=['Strike', 'Delta', 'Prev Open', 'Prev High', 'Prev Low', 'Prev Change', 'Premium'], axis=1)\n",
    "    opx = opx.rename(columns={'num_strike': 'Strike',\n",
    "                              'Prev Volume':'Volume',\n",
    "                              'Open Interest':'open_interest',\n",
    "                              'Last':'mean_price'})\n",
    "    opx = opx.set_index(['Strike', 'call_put'])\n",
    "\n",
    "    # read in the greeks and transform\n",
    "    gr = pd.read_csv(gr_data_path)\n",
    "    gr = gr.iloc[:-1,:]\n",
    "\n",
    "    gr['symbol']=sym\n",
    "    gr['option_expiration']=pd.to_datetime(exp_date_str)\n",
    "    gr['Strike']=gr['Strike'].map(lambda x:pd.to_numeric(x))\n",
    "    gr['IV']=pd.to_numeric(gr['IV'].str[:-1])/100\n",
    "    gr['IV']=all_iv #RWM\n",
    "    gr['Type'] = gr['Type'].map({'Put':'P', 'Call':'C'})\n",
    "    gr=gr.drop(labels=['IV Skew', 'Time', 'Last'], axis=1)\n",
    "    gr=gr.rename(columns={'Type':'call_put'})\n",
    "    gr=gr.set_index(['Strike', 'call_put'])\n",
    "\n",
    "    # concat and make columns lowercase\n",
    "    t=pd.concat([opx, gr], axis=1)\n",
    "    t['close_px'] = close_px\n",
    "    t = t.reset_index()\n",
    "    t.columns = map(str.lower, t.columns)\n",
    "\n",
    "    return t\n",
    "\n",
    "def clean_implied_vol(df_iv_file):\n",
    "    x = df_iv_file.set_index(['strike', 'call_put']).sort_index().copy()\n",
    "    y = x['iv'].unstack('call_put')\n",
    "    idx_put_zero = y['P']==0\n",
    "    idx_call_zero = y['C']==0\n",
    "\n",
    "    idx_call_zero_replace = idx_call_zero * ~idx_put_zero\n",
    "    idx_put_zero_replace = idx_put_zero * ~idx_call_zero\n",
    "    y.loc[idx_call_zero_replace, 'C'] = y.loc[idx_call_zero_replace, 'P']\n",
    "    y.loc[idx_put_zero_replace, 'P'] = y.loc[idx_put_zero_replace, 'C']\n",
    "    y = y.rolling(3, center=True, min_periods=0).median()\n",
    "    y = y.stack('call_put')\n",
    "    y.name = 'clean_iv'\n",
    "    x1 = pd.concat([x,y],axis=1)\n",
    "    x1['iv'] = x1['clean_iv']\n",
    "    x1.drop(columns='clean_iv', inplace=True)\n",
    "    return x1\n",
    "\n",
    "def generate_neutral_futures(sym, file_date_str, barchart_datestr):\n",
    "\n",
    "    t = get_iv_data_set(sym, file_date_str, barchart_datestr)\n",
    "    df_iv = clean_implied_vol(t).dropna().reset_index()\n",
    "\n",
    "    query_date = barchart_datestr\n",
    "    root_symbol = sym\n",
    "\n",
    "    unique_strikes = sorted(t['strike'])\n",
    "    spot_prices = np.array(dmc.calc_spot_price_levels(unique_strikes), dtype=float)\n",
    "\n",
    "    agg_neutral, df_greeks_by_strike, exp_neutral = \\\n",
    "        dmc.calc_daily_neutral_values( \\\n",
    "            df_iv,\n",
    "            query_date,\n",
    "            rf_rate,\n",
    "            root_symbol,\n",
    "            spot_prices)\n",
    "\n",
    "    agg_neutral['Close'] = t['close_px'].values[0]\n",
    "    agg_neutral['Symbol'] = sym\n",
    "    return [agg_neutral, df_greeks_by_strike, exp_neutral]"
   ],
   "metadata": {
    "collapsed": false
   }
  },
  {
   "cell_type": "code",
   "execution_count": 9,
   "outputs": [],
   "source": [
    "def bar_chart_get_driver(executable_path, download_path):\n",
    "    chromeOptions = webdriver.ChromeOptions()\n",
    "    chromeOptions.add_experimental_option(\"prefs\", {\n",
    "        \"download.default_directory\": download_path,\n",
    "        \"download.prompt_for_download\": False,\n",
    "        \"download.directory_upgrade\": True,\n",
    "        \"safebrowsing.enabled\": True\n",
    "    })\n",
    "\n",
    "    driver = webdriver.Chrome(executable_path=executable_path, options=chromeOptions)\n",
    "    return driver\n",
    "\n",
    "def bar_chart_login(driver):\n",
    "    driver.get(\"https://www.barchart.com/login\")\n",
    "    driver.find_element(By.NAME, \"email\").click()\n",
    "    driver.find_element(By.NAME, \"email\").send_keys(\"mcbride1689@gmail.com\")\n",
    "    driver.find_element(By.NAME, \"password\").click()\n",
    "    driver.find_element(By.NAME, \"password\").send_keys(\"d5nJSz57A8C5\")\n",
    "    driver.find_element_by_class_name('login-button').click()\n",
    "    return\n",
    "\n",
    "def bar_chart_download(driver, date_str, sym, download=False):\n",
    "\n",
    "    option_price_url = f\"https://www.barchart.com/futures/quotes/{sym}/options?futuresOptionsTime=daily&moneyness=allRows\"\n",
    "    option_greek_url = f'https://www.barchart.com/futures/quotes/{sym}/volatility-greeks?moneyness=allRows'\n",
    "    future_price_url = f'https://www.barchart.com/futures/quotes/{sym}/historical-download'\n",
    "    driver.get(future_price_url)\n",
    "\n",
    "    # download the price history\n",
    "    time.sleep(2)\n",
    "    driver.find_element(By.CSS_SELECTOR, \".bc-price-history-checkboxes .checkbox\").click()\n",
    "    time.sleep(1)\n",
    "    if download:\n",
    "        driver.find_element(By.CSS_SELECTOR, \".add\").click()\n",
    "        time.sleep(2)\n",
    "\n",
    "    # download the options prices\n",
    "    driver.get(option_price_url)\n",
    "    time.sleep(2)\n",
    "\n",
    "    # get the expiration of the contract from the option price page\n",
    "    temp_name = \"#main-content-column > div > div:nth-child(4) > div > div:nth-child(1) > div > strong:nth-child(2)\"\n",
    "    expiration = driver.find_element(By.CSS_SELECTOR, temp_name).text\n",
    "    temp_name = \"#main-content-column > div > div:nth-child(4) > div > div.column.small-12.medium-4.text-medium-up-center > div > strong\"\n",
    "    iv_all = driver.find_element(By.CSS_SELECTOR, temp_name).text\n",
    "    expiration = 'expiration,iv\\n'+expiration+','+iv_all\n",
    "\n",
    "    filename=os.path.join(download_path, f\"{sym}_{date_str}.txt\")\n",
    "    with open(filename, \"w\") as text_file:\n",
    "        print(expiration, file=text_file)\n",
    "\n",
    "    time.sleep(2)\n",
    "    if download:\n",
    "        driver.find_element(By.CSS_SELECTOR, \".toolbar-button > span\").click()\n",
    "        time.sleep(2)\n",
    "\n",
    "    # Get the option greeks\n",
    "    time.sleep(2)\n",
    "    driver.get(option_greek_url)\n",
    "    time.sleep(3)\n",
    "    if download:\n",
    "        driver.find_element(By.CSS_SELECTOR, \".toolbar-button > span\").click()\n",
    "        time.sleep(3)\n",
    "    return"
   ],
   "metadata": {
    "collapsed": false
   }
  },
  {
   "cell_type": "code",
   "execution_count": 10,
   "outputs": [],
   "source": [
    "\n",
    "if k_do_download:\n",
    "    driver = bar_chart_get_driver(executable_path, download_path)\n",
    "    bar_chart_login(driver)\n",
    "    for sym in all_sym:\n",
    "        bar_chart_download(driver, date_str, sym, k_do_download)\n",
    "    driver.quit()"
   ],
   "metadata": {
    "collapsed": false
   }
  },
  {
   "cell_type": "code",
   "execution_count": 11,
   "outputs": [],
   "source": [
    "barchart_datestr = pd.to_datetime(file_date_str).strftime('%m-%d-%Y')"
   ],
   "metadata": {
    "collapsed": false
   }
  },
  {
   "cell_type": "code",
   "execution_count": 12,
   "outputs": [
    {
     "name": "stdout",
     "output_type": "stream",
     "text": [
      "GCJ23\n",
      "CLK23\n",
      "NGJ23\n",
      "ZCK23\n",
      "ZWK23\n",
      "ZSK23\n",
      "E6M23\n",
      "ZNM23\n",
      "SQJ23\n",
      "NGK23\n",
      "SIK23\n",
      "HGK23\n"
     ]
    }
   ],
   "source": [
    "temp = []\n",
    "for sym in all_sym:\n",
    "    print(sym)\n",
    "    temp.append(generate_neutral_futures(sym, file_date_str, barchart_datestr))"
   ],
   "metadata": {
    "collapsed": false
   }
  },
  {
   "cell_type": "code",
   "execution_count": 13,
   "outputs": [],
   "source": [
    "# Pull the data together and get the delta put call ratio from the files\n",
    "temp_iv_data = []\n",
    "for sym in all_sym:\n",
    "    df_iv = get_iv_data_set(sym, file_date_str, barchart_datestr)\n",
    "    df_pcr = get_put_call_ratio(df_iv)\n",
    "    df_iv['Put-Call-Ratio'] = df_pcr['Put-Call-Ratio']\n",
    "    df_iv['Delta-Adj-Put-Call-Ratio'] = np.abs(df_pcr['Delta-Adj-Put-Call-Ratio'])\n",
    "    df_iv = df_iv[['symbol', 'option_expiration', 'close_px', 'Put-Call-Ratio', 'Delta-Adj-Put-Call-Ratio']].tail(1)\n",
    "    temp_iv_data.append(df_iv)\n",
    "closepx_table = pd.concat(temp_iv_data).set_index('symbol')\n",
    "closepx_table = closepx_table.rename(columns={'close_px':'Futures Close', 'option_expiration':'Opex Date'})"
   ],
   "metadata": {
    "collapsed": false
   }
  },
  {
   "cell_type": "code",
   "execution_count": 14,
   "outputs": [
    {
     "data": {
      "text/plain": "        Opex Date  Futures Close  delta_neutral  gamma_neutral  \\\nsymbol                                                           \nGCJ23  2023-03-28    1983.800000    1883.741900    1873.337165   \nCLK23  2023-04-17      69.260000      71.301245      68.161003   \nNGJ23  2023-03-28       2.216000       2.533760       2.503956   \nZCK23  2023-04-21     643.000000     639.986356     637.572442   \nZWK23  2023-04-21     688.500000     703.639761     695.399850   \nZSK23  2023-04-21    1428.250000    1506.037675    1532.234961   \nE6M23  2023-06-09       1.081400       1.036271       1.021188   \nZNM23  2023-05-26     116.109375     111.276599     109.241391   \nSQJ23  2023-04-14      95.177500      95.931878       0.000000   \nNGK23  2023-04-25       2.361000       2.611159       2.575696   \nSIK23  2023-04-25      23.339000      21.736417      21.400049   \nHGK23  2023-04-25       4.075000       3.940226       3.875575   \n\n        Put-Call-Ratio  Delta-Adj-Put-Call-Ratio  \nsymbol                                            \nGCJ23         0.925211                  0.069206  \nCLK23         0.673090                  1.909350  \nNGJ23         0.552627                  6.331629  \nZCK23         1.035398                  0.995602  \nZWK23         0.554581                  1.391668  \nZSK23         1.155915                  5.316674  \nE6M23         0.474238                  0.221210  \nZNM23         0.667728                  0.241212  \nSQJ23         1.325713                  0.495771  \nNGK23         0.771526                  2.094396  \nSIK23         1.173894                  0.278603  \nHGK23         0.542540                  0.475474  ",
      "text/html": "<div>\n<style scoped>\n    .dataframe tbody tr th:only-of-type {\n        vertical-align: middle;\n    }\n\n    .dataframe tbody tr th {\n        vertical-align: top;\n    }\n\n    .dataframe thead th {\n        text-align: right;\n    }\n</style>\n<table border=\"1\" class=\"dataframe\">\n  <thead>\n    <tr style=\"text-align: right;\">\n      <th></th>\n      <th>Opex Date</th>\n      <th>Futures Close</th>\n      <th>delta_neutral</th>\n      <th>gamma_neutral</th>\n      <th>Put-Call-Ratio</th>\n      <th>Delta-Adj-Put-Call-Ratio</th>\n    </tr>\n    <tr>\n      <th>symbol</th>\n      <th></th>\n      <th></th>\n      <th></th>\n      <th></th>\n      <th></th>\n      <th></th>\n    </tr>\n  </thead>\n  <tbody>\n    <tr>\n      <th>GCJ23</th>\n      <td>2023-03-28</td>\n      <td>1983.800000</td>\n      <td>1883.741900</td>\n      <td>1873.337165</td>\n      <td>0.925211</td>\n      <td>0.069206</td>\n    </tr>\n    <tr>\n      <th>CLK23</th>\n      <td>2023-04-17</td>\n      <td>69.260000</td>\n      <td>71.301245</td>\n      <td>68.161003</td>\n      <td>0.673090</td>\n      <td>1.909350</td>\n    </tr>\n    <tr>\n      <th>NGJ23</th>\n      <td>2023-03-28</td>\n      <td>2.216000</td>\n      <td>2.533760</td>\n      <td>2.503956</td>\n      <td>0.552627</td>\n      <td>6.331629</td>\n    </tr>\n    <tr>\n      <th>ZCK23</th>\n      <td>2023-04-21</td>\n      <td>643.000000</td>\n      <td>639.986356</td>\n      <td>637.572442</td>\n      <td>1.035398</td>\n      <td>0.995602</td>\n    </tr>\n    <tr>\n      <th>ZWK23</th>\n      <td>2023-04-21</td>\n      <td>688.500000</td>\n      <td>703.639761</td>\n      <td>695.399850</td>\n      <td>0.554581</td>\n      <td>1.391668</td>\n    </tr>\n    <tr>\n      <th>ZSK23</th>\n      <td>2023-04-21</td>\n      <td>1428.250000</td>\n      <td>1506.037675</td>\n      <td>1532.234961</td>\n      <td>1.155915</td>\n      <td>5.316674</td>\n    </tr>\n    <tr>\n      <th>E6M23</th>\n      <td>2023-06-09</td>\n      <td>1.081400</td>\n      <td>1.036271</td>\n      <td>1.021188</td>\n      <td>0.474238</td>\n      <td>0.221210</td>\n    </tr>\n    <tr>\n      <th>ZNM23</th>\n      <td>2023-05-26</td>\n      <td>116.109375</td>\n      <td>111.276599</td>\n      <td>109.241391</td>\n      <td>0.667728</td>\n      <td>0.241212</td>\n    </tr>\n    <tr>\n      <th>SQJ23</th>\n      <td>2023-04-14</td>\n      <td>95.177500</td>\n      <td>95.931878</td>\n      <td>0.000000</td>\n      <td>1.325713</td>\n      <td>0.495771</td>\n    </tr>\n    <tr>\n      <th>NGK23</th>\n      <td>2023-04-25</td>\n      <td>2.361000</td>\n      <td>2.611159</td>\n      <td>2.575696</td>\n      <td>0.771526</td>\n      <td>2.094396</td>\n    </tr>\n    <tr>\n      <th>SIK23</th>\n      <td>2023-04-25</td>\n      <td>23.339000</td>\n      <td>21.736417</td>\n      <td>21.400049</td>\n      <td>1.173894</td>\n      <td>0.278603</td>\n    </tr>\n    <tr>\n      <th>HGK23</th>\n      <td>2023-04-25</td>\n      <td>4.075000</td>\n      <td>3.940226</td>\n      <td>3.875575</td>\n      <td>0.542540</td>\n      <td>0.475474</td>\n    </tr>\n  </tbody>\n</table>\n</div>"
     },
     "execution_count": 14,
     "metadata": {},
     "output_type": "execute_result"
    }
   ],
   "source": [
    "# Get the delta neutral and gamma neutral values and combine with final table\n",
    "expn = [x[0] for x in temp]\n",
    "final_output = pd.concat(expn).loc[-1,['symbol', 'delta_neutral', 'gamma_neutral' ]].set_index('symbol')\n",
    "final_output = pd.concat([closepx_table, final_output], axis=1)\n",
    "final_output = final_output.loc[:,['Opex Date', 'Futures Close', 'delta_neutral', 'gamma_neutral', 'Put-Call-Ratio', 'Delta-Adj-Put-Call-Ratio']]\n",
    "final_output"
   ],
   "metadata": {
    "collapsed": false
   }
  },
  {
   "cell_type": "code",
   "execution_count": 15,
   "outputs": [],
   "source": [
    "final_output.to_csv(os.path.join(download_path,'finalout.csv'))"
   ],
   "metadata": {
    "collapsed": false
   }
  },
  {
   "cell_type": "markdown",
   "source": [
    "# Testing Follows"
   ],
   "metadata": {
    "collapsed": false
   }
  },
  {
   "cell_type": "code",
   "execution_count": 16,
   "outputs": [
    {
     "ename": "FileNotFoundError",
     "evalue": "[Errno 2] No such file or directory: 'C:\\\\Users\\\\mcbri\\\\PycharmProjects\\\\futureDataCapture\\\\local_download\\\\2023-03-24\\\\finalout.target.2023-03-24.csv'",
     "output_type": "error",
     "traceback": [
      "\u001B[1;31m---------------------------------------------------------------------------\u001B[0m",
      "\u001B[1;31mFileNotFoundError\u001B[0m                         Traceback (most recent call last)",
      "\u001B[1;32m<ipython-input-16-d62eb88e98b8>\u001B[0m in \u001B[0;36m<module>\u001B[1;34m\u001B[0m\n\u001B[1;32m----> 1\u001B[1;33m \u001B[0mfinal_output_target\u001B[0m \u001B[1;33m=\u001B[0m \u001B[0mpd\u001B[0m\u001B[1;33m.\u001B[0m\u001B[0mread_csv\u001B[0m\u001B[1;33m(\u001B[0m\u001B[0mos\u001B[0m\u001B[1;33m.\u001B[0m\u001B[0mpath\u001B[0m\u001B[1;33m.\u001B[0m\u001B[0mjoin\u001B[0m\u001B[1;33m(\u001B[0m\u001B[0mdownload_path\u001B[0m\u001B[1;33m,\u001B[0m\u001B[1;34mf'finalout.target.{file_date_str}.csv'\u001B[0m\u001B[1;33m)\u001B[0m\u001B[1;33m,\u001B[0m \u001B[0mparse_dates\u001B[0m\u001B[1;33m=\u001B[0m\u001B[1;33m[\u001B[0m\u001B[1;34m'Opex Date'\u001B[0m\u001B[1;33m]\u001B[0m\u001B[1;33m)\u001B[0m\u001B[1;33m.\u001B[0m\u001B[0mset_index\u001B[0m\u001B[1;33m(\u001B[0m\u001B[1;34m'symbol'\u001B[0m\u001B[1;33m)\u001B[0m\u001B[1;33m\u001B[0m\u001B[1;33m\u001B[0m\u001B[0m\n\u001B[0m\u001B[0;32m      2\u001B[0m \u001B[0mtest_target_sym\u001B[0m \u001B[1;33m=\u001B[0m \u001B[1;33m[\u001B[0m\u001B[1;34m'GCJ23'\u001B[0m\u001B[1;33m,\u001B[0m \u001B[1;34m'CLK23'\u001B[0m\u001B[1;33m,\u001B[0m \u001B[1;34m'NGJ23'\u001B[0m\u001B[1;33m]\u001B[0m\u001B[1;33m\u001B[0m\u001B[1;33m\u001B[0m\u001B[0m\n",
      "\u001B[1;32m~\\anaconda3\\envs\\gamma\\lib\\site-packages\\pandas\\util\\_decorators.py\u001B[0m in \u001B[0;36mwrapper\u001B[1;34m(*args, **kwargs)\u001B[0m\n\u001B[0;32m    309\u001B[0m                     \u001B[0mstacklevel\u001B[0m\u001B[1;33m=\u001B[0m\u001B[0mstacklevel\u001B[0m\u001B[1;33m,\u001B[0m\u001B[1;33m\u001B[0m\u001B[1;33m\u001B[0m\u001B[0m\n\u001B[0;32m    310\u001B[0m                 )\n\u001B[1;32m--> 311\u001B[1;33m             \u001B[1;32mreturn\u001B[0m \u001B[0mfunc\u001B[0m\u001B[1;33m(\u001B[0m\u001B[1;33m*\u001B[0m\u001B[0margs\u001B[0m\u001B[1;33m,\u001B[0m \u001B[1;33m**\u001B[0m\u001B[0mkwargs\u001B[0m\u001B[1;33m)\u001B[0m\u001B[1;33m\u001B[0m\u001B[1;33m\u001B[0m\u001B[0m\n\u001B[0m\u001B[0;32m    312\u001B[0m \u001B[1;33m\u001B[0m\u001B[0m\n\u001B[0;32m    313\u001B[0m         \u001B[1;32mreturn\u001B[0m \u001B[0mwrapper\u001B[0m\u001B[1;33m\u001B[0m\u001B[1;33m\u001B[0m\u001B[0m\n",
      "\u001B[1;32m~\\anaconda3\\envs\\gamma\\lib\\site-packages\\pandas\\io\\parsers\\readers.py\u001B[0m in \u001B[0;36mread_csv\u001B[1;34m(filepath_or_buffer, sep, delimiter, header, names, index_col, usecols, squeeze, prefix, mangle_dupe_cols, dtype, engine, converters, true_values, false_values, skipinitialspace, skiprows, skipfooter, nrows, na_values, keep_default_na, na_filter, verbose, skip_blank_lines, parse_dates, infer_datetime_format, keep_date_col, date_parser, dayfirst, cache_dates, iterator, chunksize, compression, thousands, decimal, lineterminator, quotechar, quoting, doublequote, escapechar, comment, encoding, encoding_errors, dialect, error_bad_lines, warn_bad_lines, on_bad_lines, delim_whitespace, low_memory, memory_map, float_precision, storage_options)\u001B[0m\n\u001B[0;32m    584\u001B[0m     \u001B[0mkwds\u001B[0m\u001B[1;33m.\u001B[0m\u001B[0mupdate\u001B[0m\u001B[1;33m(\u001B[0m\u001B[0mkwds_defaults\u001B[0m\u001B[1;33m)\u001B[0m\u001B[1;33m\u001B[0m\u001B[1;33m\u001B[0m\u001B[0m\n\u001B[0;32m    585\u001B[0m \u001B[1;33m\u001B[0m\u001B[0m\n\u001B[1;32m--> 586\u001B[1;33m     \u001B[1;32mreturn\u001B[0m \u001B[0m_read\u001B[0m\u001B[1;33m(\u001B[0m\u001B[0mfilepath_or_buffer\u001B[0m\u001B[1;33m,\u001B[0m \u001B[0mkwds\u001B[0m\u001B[1;33m)\u001B[0m\u001B[1;33m\u001B[0m\u001B[1;33m\u001B[0m\u001B[0m\n\u001B[0m\u001B[0;32m    587\u001B[0m \u001B[1;33m\u001B[0m\u001B[0m\n\u001B[0;32m    588\u001B[0m \u001B[1;33m\u001B[0m\u001B[0m\n",
      "\u001B[1;32m~\\anaconda3\\envs\\gamma\\lib\\site-packages\\pandas\\io\\parsers\\readers.py\u001B[0m in \u001B[0;36m_read\u001B[1;34m(filepath_or_buffer, kwds)\u001B[0m\n\u001B[0;32m    480\u001B[0m \u001B[1;33m\u001B[0m\u001B[0m\n\u001B[0;32m    481\u001B[0m     \u001B[1;31m# Create the parser.\u001B[0m\u001B[1;33m\u001B[0m\u001B[1;33m\u001B[0m\u001B[1;33m\u001B[0m\u001B[0m\n\u001B[1;32m--> 482\u001B[1;33m     \u001B[0mparser\u001B[0m \u001B[1;33m=\u001B[0m \u001B[0mTextFileReader\u001B[0m\u001B[1;33m(\u001B[0m\u001B[0mfilepath_or_buffer\u001B[0m\u001B[1;33m,\u001B[0m \u001B[1;33m**\u001B[0m\u001B[0mkwds\u001B[0m\u001B[1;33m)\u001B[0m\u001B[1;33m\u001B[0m\u001B[1;33m\u001B[0m\u001B[0m\n\u001B[0m\u001B[0;32m    483\u001B[0m \u001B[1;33m\u001B[0m\u001B[0m\n\u001B[0;32m    484\u001B[0m     \u001B[1;32mif\u001B[0m \u001B[0mchunksize\u001B[0m \u001B[1;32mor\u001B[0m \u001B[0miterator\u001B[0m\u001B[1;33m:\u001B[0m\u001B[1;33m\u001B[0m\u001B[1;33m\u001B[0m\u001B[0m\n",
      "\u001B[1;32m~\\anaconda3\\envs\\gamma\\lib\\site-packages\\pandas\\io\\parsers\\readers.py\u001B[0m in \u001B[0;36m__init__\u001B[1;34m(self, f, engine, **kwds)\u001B[0m\n\u001B[0;32m    809\u001B[0m             \u001B[0mself\u001B[0m\u001B[1;33m.\u001B[0m\u001B[0moptions\u001B[0m\u001B[1;33m[\u001B[0m\u001B[1;34m\"has_index_names\"\u001B[0m\u001B[1;33m]\u001B[0m \u001B[1;33m=\u001B[0m \u001B[0mkwds\u001B[0m\u001B[1;33m[\u001B[0m\u001B[1;34m\"has_index_names\"\u001B[0m\u001B[1;33m]\u001B[0m\u001B[1;33m\u001B[0m\u001B[1;33m\u001B[0m\u001B[0m\n\u001B[0;32m    810\u001B[0m \u001B[1;33m\u001B[0m\u001B[0m\n\u001B[1;32m--> 811\u001B[1;33m         \u001B[0mself\u001B[0m\u001B[1;33m.\u001B[0m\u001B[0m_engine\u001B[0m \u001B[1;33m=\u001B[0m \u001B[0mself\u001B[0m\u001B[1;33m.\u001B[0m\u001B[0m_make_engine\u001B[0m\u001B[1;33m(\u001B[0m\u001B[0mself\u001B[0m\u001B[1;33m.\u001B[0m\u001B[0mengine\u001B[0m\u001B[1;33m)\u001B[0m\u001B[1;33m\u001B[0m\u001B[1;33m\u001B[0m\u001B[0m\n\u001B[0m\u001B[0;32m    812\u001B[0m \u001B[1;33m\u001B[0m\u001B[0m\n\u001B[0;32m    813\u001B[0m     \u001B[1;32mdef\u001B[0m \u001B[0mclose\u001B[0m\u001B[1;33m(\u001B[0m\u001B[0mself\u001B[0m\u001B[1;33m)\u001B[0m\u001B[1;33m:\u001B[0m\u001B[1;33m\u001B[0m\u001B[1;33m\u001B[0m\u001B[0m\n",
      "\u001B[1;32m~\\anaconda3\\envs\\gamma\\lib\\site-packages\\pandas\\io\\parsers\\readers.py\u001B[0m in \u001B[0;36m_make_engine\u001B[1;34m(self, engine)\u001B[0m\n\u001B[0;32m   1038\u001B[0m             )\n\u001B[0;32m   1039\u001B[0m         \u001B[1;31m# error: Too many arguments for \"ParserBase\"\u001B[0m\u001B[1;33m\u001B[0m\u001B[1;33m\u001B[0m\u001B[1;33m\u001B[0m\u001B[0m\n\u001B[1;32m-> 1040\u001B[1;33m         \u001B[1;32mreturn\u001B[0m \u001B[0mmapping\u001B[0m\u001B[1;33m[\u001B[0m\u001B[0mengine\u001B[0m\u001B[1;33m]\u001B[0m\u001B[1;33m(\u001B[0m\u001B[0mself\u001B[0m\u001B[1;33m.\u001B[0m\u001B[0mf\u001B[0m\u001B[1;33m,\u001B[0m \u001B[1;33m**\u001B[0m\u001B[0mself\u001B[0m\u001B[1;33m.\u001B[0m\u001B[0moptions\u001B[0m\u001B[1;33m)\u001B[0m  \u001B[1;31m# type: ignore[call-arg]\u001B[0m\u001B[1;33m\u001B[0m\u001B[1;33m\u001B[0m\u001B[0m\n\u001B[0m\u001B[0;32m   1041\u001B[0m \u001B[1;33m\u001B[0m\u001B[0m\n\u001B[0;32m   1042\u001B[0m     \u001B[1;32mdef\u001B[0m \u001B[0m_failover_to_python\u001B[0m\u001B[1;33m(\u001B[0m\u001B[0mself\u001B[0m\u001B[1;33m)\u001B[0m\u001B[1;33m:\u001B[0m\u001B[1;33m\u001B[0m\u001B[1;33m\u001B[0m\u001B[0m\n",
      "\u001B[1;32m~\\anaconda3\\envs\\gamma\\lib\\site-packages\\pandas\\io\\parsers\\c_parser_wrapper.py\u001B[0m in \u001B[0;36m__init__\u001B[1;34m(self, src, **kwds)\u001B[0m\n\u001B[0;32m     49\u001B[0m \u001B[1;33m\u001B[0m\u001B[0m\n\u001B[0;32m     50\u001B[0m         \u001B[1;31m# open handles\u001B[0m\u001B[1;33m\u001B[0m\u001B[1;33m\u001B[0m\u001B[1;33m\u001B[0m\u001B[0m\n\u001B[1;32m---> 51\u001B[1;33m         \u001B[0mself\u001B[0m\u001B[1;33m.\u001B[0m\u001B[0m_open_handles\u001B[0m\u001B[1;33m(\u001B[0m\u001B[0msrc\u001B[0m\u001B[1;33m,\u001B[0m \u001B[0mkwds\u001B[0m\u001B[1;33m)\u001B[0m\u001B[1;33m\u001B[0m\u001B[1;33m\u001B[0m\u001B[0m\n\u001B[0m\u001B[0;32m     52\u001B[0m         \u001B[1;32massert\u001B[0m \u001B[0mself\u001B[0m\u001B[1;33m.\u001B[0m\u001B[0mhandles\u001B[0m \u001B[1;32mis\u001B[0m \u001B[1;32mnot\u001B[0m \u001B[1;32mNone\u001B[0m\u001B[1;33m\u001B[0m\u001B[1;33m\u001B[0m\u001B[0m\n\u001B[0;32m     53\u001B[0m \u001B[1;33m\u001B[0m\u001B[0m\n",
      "\u001B[1;32m~\\anaconda3\\envs\\gamma\\lib\\site-packages\\pandas\\io\\parsers\\base_parser.py\u001B[0m in \u001B[0;36m_open_handles\u001B[1;34m(self, src, kwds)\u001B[0m\n\u001B[0;32m    227\u001B[0m             \u001B[0mmemory_map\u001B[0m\u001B[1;33m=\u001B[0m\u001B[0mkwds\u001B[0m\u001B[1;33m.\u001B[0m\u001B[0mget\u001B[0m\u001B[1;33m(\u001B[0m\u001B[1;34m\"memory_map\"\u001B[0m\u001B[1;33m,\u001B[0m \u001B[1;32mFalse\u001B[0m\u001B[1;33m)\u001B[0m\u001B[1;33m,\u001B[0m\u001B[1;33m\u001B[0m\u001B[1;33m\u001B[0m\u001B[0m\n\u001B[0;32m    228\u001B[0m             \u001B[0mstorage_options\u001B[0m\u001B[1;33m=\u001B[0m\u001B[0mkwds\u001B[0m\u001B[1;33m.\u001B[0m\u001B[0mget\u001B[0m\u001B[1;33m(\u001B[0m\u001B[1;34m\"storage_options\"\u001B[0m\u001B[1;33m,\u001B[0m \u001B[1;32mNone\u001B[0m\u001B[1;33m)\u001B[0m\u001B[1;33m,\u001B[0m\u001B[1;33m\u001B[0m\u001B[1;33m\u001B[0m\u001B[0m\n\u001B[1;32m--> 229\u001B[1;33m             \u001B[0merrors\u001B[0m\u001B[1;33m=\u001B[0m\u001B[0mkwds\u001B[0m\u001B[1;33m.\u001B[0m\u001B[0mget\u001B[0m\u001B[1;33m(\u001B[0m\u001B[1;34m\"encoding_errors\"\u001B[0m\u001B[1;33m,\u001B[0m \u001B[1;34m\"strict\"\u001B[0m\u001B[1;33m)\u001B[0m\u001B[1;33m,\u001B[0m\u001B[1;33m\u001B[0m\u001B[1;33m\u001B[0m\u001B[0m\n\u001B[0m\u001B[0;32m    230\u001B[0m         )\n\u001B[0;32m    231\u001B[0m \u001B[1;33m\u001B[0m\u001B[0m\n",
      "\u001B[1;32m~\\anaconda3\\envs\\gamma\\lib\\site-packages\\pandas\\io\\common.py\u001B[0m in \u001B[0;36mget_handle\u001B[1;34m(path_or_buf, mode, encoding, compression, memory_map, is_text, errors, storage_options)\u001B[0m\n\u001B[0;32m    705\u001B[0m                 \u001B[0mencoding\u001B[0m\u001B[1;33m=\u001B[0m\u001B[0mioargs\u001B[0m\u001B[1;33m.\u001B[0m\u001B[0mencoding\u001B[0m\u001B[1;33m,\u001B[0m\u001B[1;33m\u001B[0m\u001B[1;33m\u001B[0m\u001B[0m\n\u001B[0;32m    706\u001B[0m                 \u001B[0merrors\u001B[0m\u001B[1;33m=\u001B[0m\u001B[0merrors\u001B[0m\u001B[1;33m,\u001B[0m\u001B[1;33m\u001B[0m\u001B[1;33m\u001B[0m\u001B[0m\n\u001B[1;32m--> 707\u001B[1;33m                 \u001B[0mnewline\u001B[0m\u001B[1;33m=\u001B[0m\u001B[1;34m\"\"\u001B[0m\u001B[1;33m,\u001B[0m\u001B[1;33m\u001B[0m\u001B[1;33m\u001B[0m\u001B[0m\n\u001B[0m\u001B[0;32m    708\u001B[0m             )\n\u001B[0;32m    709\u001B[0m         \u001B[1;32melse\u001B[0m\u001B[1;33m:\u001B[0m\u001B[1;33m\u001B[0m\u001B[1;33m\u001B[0m\u001B[0m\n",
      "\u001B[1;31mFileNotFoundError\u001B[0m: [Errno 2] No such file or directory: 'C:\\\\Users\\\\mcbri\\\\PycharmProjects\\\\futureDataCapture\\\\local_download\\\\2023-03-24\\\\finalout.target.2023-03-24.csv'"
     ]
    }
   ],
   "source": [
    "final_output_target = pd.read_csv(os.path.join(download_path,f'finalout.target.{file_date_str}.csv'), parse_dates=['Opex Date']).set_index('symbol')\n",
    "test_target_sym = ['GCJ23', 'CLK23', 'NGJ23']"
   ],
   "metadata": {
    "collapsed": false
   }
  },
  {
   "cell_type": "code",
   "execution_count": null,
   "outputs": [],
   "source": [
    "final_output.loc[test_target_sym,:]"
   ],
   "metadata": {
    "collapsed": false
   }
  },
  {
   "cell_type": "code",
   "execution_count": null,
   "outputs": [],
   "source": [
    " final_output_target.loc[test_target_sym, :]"
   ],
   "metadata": {
    "collapsed": false
   }
  },
  {
   "cell_type": "code",
   "execution_count": null,
   "outputs": [],
   "source": [
    "# Check output against test\n",
    "all_columns = final_output.columns\n",
    "\n",
    "for c in all_columns:\n",
    "    t1 = final_output.loc[test_target_sym,c]\n",
    "    t2 = final_output_target.loc[test_target_sym,c]\n",
    "    try:\n",
    "        pd.testing.assert_series_equal(t1, t2, rtol=0.01, check_exact=False)\n",
    "    except:\n",
    "        display(pd.concat([t1, t2], axis=1))\n"
   ],
   "metadata": {
    "collapsed": false
   }
  }
 ],
 "metadata": {
  "kernelspec": {
   "name": "gamma",
   "language": "python",
   "display_name": "gamma"
  },
  "language_info": {
   "codemirror_mode": {
    "name": "ipython",
    "version": 2
   },
   "file_extension": ".py",
   "mimetype": "text/x-python",
   "name": "python",
   "nbconvert_exporter": "python",
   "pygments_lexer": "ipython2",
   "version": "2.7.6"
  }
 },
 "nbformat": 4,
 "nbformat_minor": 0
}
