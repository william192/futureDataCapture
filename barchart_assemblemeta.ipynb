{
 "cells": [
  {
   "cell_type": "code",
   "execution_count": 8,
   "metadata": {
    "collapsed": true
   },
   "outputs": [
    {
     "data": {
      "text/plain": "'C:\\\\Users\\\\mcbri\\\\PycharmProjects\\\\futureDataCapture\\\\chromedriver.exe'"
     },
     "metadata": {},
     "output_type": "display_data"
    },
    {
     "data": {
      "text/plain": "'2023-03-24'"
     },
     "execution_count": 8,
     "metadata": {},
     "output_type": "execute_result"
    }
   ],
   "source": [
    "from selenium import webdriver\n",
    "import os\n",
    "from selenium.webdriver.common.by import By\n",
    "import time\n",
    "import pandas as pd\n",
    "import numpy as np\n",
    "from datetime import datetime\n",
    "import db_multiproc_calc_neutral2 as dmc\n",
    "from random import *\n",
    "\n",
    "rf_rate = 0.0475\n",
    "k_do_download = True\n",
    "\n",
    "cwd = os.getcwd()\n",
    "\n",
    "executable_path = os.path.join(cwd,'chromedriver.exe')\n",
    "display(executable_path)\n",
    "\n",
    "date_str = datetime.now().strftime(\"%Y-%m-%d\")\n",
    "date_str = '2023-03-24'\n",
    "file_date_str = date_str\n",
    "\n",
    "download_path = os.path.join(cwd, 'local_download')\n",
    "file_date_str"
   ]
  },
  {
   "cell_type": "code",
   "execution_count": 9,
   "outputs": [],
   "source": [
    "#############################\n",
    "# get the Futures contracts and months we are needing and build a list of all the distinct contracts\n",
    "\n",
    "df_future_month_def = pd.read_csv('futures_months.csv')\n",
    "\n",
    "target_years = [23]\n",
    "\n",
    "all_syms = []\n",
    "for idx, row in df_future_month_def.iterrows():\n",
    "    for y in target_years:\n",
    "        for m in row['Month']:\n",
    "            all_syms.append(row['symbol_root']+m+f'{y:.0f}')"
   ],
   "metadata": {
    "collapsed": false
   }
  },
  {
   "cell_type": "code",
   "execution_count": 10,
   "outputs": [],
   "source": [
    "def get_futures_contract_dates(file_str):\n",
    "    df_fc = pd.read_csv('future_contract_spec.csv', converters={'':pd.eval})\n",
    "    df_ctr_names = df_fc.iloc[:,1]\n",
    "    df_ctr_names.name = 'futures_contract'\n",
    "    df_ctr_dates = pd.DataFrame([[eval(x)[0] for x in df_fc.iloc[:,2]],\n",
    "                 [eval(x)[1] for x in df_fc.iloc[:,2]]], index=['first_notice', 'expiration']).T\n",
    "    df_ret = pd.concat([df_ctr_names, df_ctr_dates], axis=1)\n",
    "\n",
    "    return df_ret\n",
    "\n",
    "def get_option_contract_expiration(filename):\n",
    "    dffc2 = pd.read_csv(filename, converters={'':pd.eval})\n",
    "    opt_ctr = []\n",
    "    for i, row in dffc2.iterrows():\n",
    "        x = eval(row[2])\n",
    "        for xx, yy in zip(x[2], x[3]):\n",
    "            if not xx == '':\n",
    "                opt_ctr.append([xx,pd.to_datetime(yy)])\n",
    "\n",
    "    opt_ctr_exp = pd.DataFrame(\n",
    "                    opt_ctr,\n",
    "                    columns=['futures_contract', 'option_contract_expiration'])\n",
    "    opt_str_exp = opt_ctr_exp.sort_values(by='option_contract_expiration')\n",
    "    return opt_str_exp"
   ],
   "metadata": {
    "collapsed": false
   }
  },
  {
   "cell_type": "code",
   "execution_count": 11,
   "outputs": [],
   "source": [
    "df_1 = get_futures_contract_dates('future_contract_spec.csv')\n",
    "df_2 = get_futures_contract_dates('future_contract_spec.2.csv')\n",
    "df_fut = pd.concat([df_1, df_2])"
   ],
   "metadata": {
    "collapsed": false
   }
  },
  {
   "cell_type": "code",
   "execution_count": 12,
   "outputs": [],
   "source": [
    "df_1 = get_option_contract_expiration('future_contract_spec.csv')\n",
    "df_2 = get_option_contract_expiration('future_contract_spec.2.csv')\n",
    "df_opt_ctr = pd.concat([df_1, df_2])"
   ],
   "metadata": {
    "collapsed": false
   }
  },
  {
   "cell_type": "code",
   "execution_count": 13,
   "outputs": [],
   "source": [
    "df_opt_ctr.to_csv('option_contract_expiration.csv')"
   ],
   "metadata": {
    "collapsed": false
   }
  },
  {
   "cell_type": "code",
   "execution_count": 14,
   "outputs": [],
   "source": [
    "df_fut.to_csv('futures_contract_dates.csv')"
   ],
   "metadata": {
    "collapsed": false
   }
  }
 ],
 "metadata": {
  "kernelspec": {
   "name": "gamma",
   "language": "python",
   "display_name": "gamma"
  },
  "language_info": {
   "codemirror_mode": {
    "name": "ipython",
    "version": 2
   },
   "file_extension": ".py",
   "mimetype": "text/x-python",
   "name": "python",
   "nbconvert_exporter": "python",
   "pygments_lexer": "ipython2",
   "version": "2.7.6"
  }
 },
 "nbformat": 4,
 "nbformat_minor": 0
}
