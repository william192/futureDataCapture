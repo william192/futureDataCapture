{
 "cells": [
  {
   "cell_type": "code",
   "execution_count": 1,
   "metadata": {
    "collapsed": true,
    "ExecuteTime": {
     "start_time": "2023-04-01T08:57:59.611970Z",
     "end_time": "2023-04-01T08:58:00.022413Z"
    }
   },
   "outputs": [
    {
     "data": {
      "text/plain": "'/home/gitrepo/futureDataCapture/chromedriver'"
     },
     "metadata": {},
     "output_type": "display_data"
    },
    {
     "data": {
      "text/plain": "'03-31-2023'"
     },
     "execution_count": 1,
     "metadata": {},
     "output_type": "execute_result"
    }
   ],
   "source": [
    "from selenium import webdriver\n",
    "import os\n",
    "from selenium.webdriver.common.by import By\n",
    "import time\n",
    "import pandas as pd\n",
    "import numpy as np\n",
    "from datetime import datetime\n",
    "import db_multiproc_calc_neutral2 as dmc\n",
    "from random import *\n",
    "import barchart_lib as bl\n",
    "\n",
    "rf_rate = 0.0475\n",
    "k_do_download = True\n",
    "\n",
    "cwd = os.getcwd()\n",
    "\n",
    "executable_path = os.path.join(cwd,'chromedriver.exe')\n",
    "executable_path = os.path.join(cwd,'chromedriver')\n",
    "display(executable_path)\n",
    "\n",
    "date_str = datetime.now().strftime(\"%Y-%m-%d\")\n",
    "date_str = '03-31-2023'\n",
    "\n",
    "file_date_str = date_str\n",
    "\n",
    "download_path = os.path.join(cwd, 'local_download')\n",
    "file_date_str"
   ]
  },
  {
   "cell_type": "code",
   "execution_count": 2,
   "outputs": [],
   "source": [
    "#############################\n",
    "# get the Futures contracts and months we are needing and build a list of all the distinct contracts\n",
    "\n",
    "df_future_month_def = pd.read_csv(os.path.join(download_path,'futures_months_config.csv'))\n",
    "\n",
    "target_years = [23]\n",
    "\n",
    "all_syms = []\n",
    "for idx, row in df_future_month_def.iterrows():\n",
    "    for y in target_years:\n",
    "        for m in row['Month']:\n",
    "            all_syms.append(row['symbol_root']+m+f'{y:.0f}')"
   ],
   "metadata": {
    "collapsed": false,
    "ExecuteTime": {
     "start_time": "2023-04-01T08:57:59.945991Z",
     "end_time": "2023-04-01T08:58:00.022539Z"
    }
   }
  },
  {
   "cell_type": "code",
   "execution_count": 3,
   "outputs": [],
   "source": [
    "if k_do_download:\n",
    "    driver = bl.bar_chart_get_driver(executable_path, download_path)\n",
    "    bl.bar_chart_login(driver)"
   ],
   "metadata": {
    "collapsed": false,
    "ExecuteTime": {
     "start_time": "2023-04-01T08:57:59.949845Z",
     "end_time": "2023-04-01T08:58:03.777552Z"
    }
   }
  },
  {
   "cell_type": "code",
   "execution_count": 4,
   "outputs": [
    {
     "name": "stdout",
     "output_type": "stream",
     "text": [
      "SIH23\n",
      "SIK23\n",
      "SIN23\n",
      "SIU23\n",
      "SIZ23\n",
      "GCG23\n",
      "GCJ23\n",
      "GCM23\n",
      "GCQ23\n",
      "GCV23\n",
      "GCZ23\n",
      "HGH23\n",
      "HGK23\n",
      "HGN23\n",
      "HGU23\n",
      "HGZ23\n",
      "NGF23\n",
      "NGG23\n",
      "NGH23\n",
      "NGJ23\n",
      "NGK23\n",
      "NGM23\n",
      "NGN23\n",
      "NGQ23\n",
      "NGU23\n",
      "NGV23\n",
      "NGX23\n",
      "NGZ23\n",
      "CLF23\n",
      "CLG23\n",
      "CLH23\n",
      "CLJ23\n",
      "CLK23\n",
      "CLM23\n",
      "CLN23\n",
      "CLQ23\n",
      "CLU23\n",
      "CLV23\n",
      "CLX23\n",
      "CLZ23\n",
      "ZCH23\n",
      "ZCK23\n",
      "ZCN23\n",
      "ZCU23\n",
      "ZCZ23\n",
      "ZSF23\n",
      "ZSH23\n",
      "ZSK23\n",
      "ZSN23\n",
      "ZSQ23\n",
      "ZSU23\n",
      "ZSX23\n",
      "ZWK23\n",
      "ZWH23\n",
      "ZWN23\n",
      "ZWU23\n",
      "ZWZ23\n",
      "ZNH23\n",
      "ZNM23\n",
      "ZNU23\n",
      "ZNZ23\n",
      "ZFH23\n",
      "ZFM23\n",
      "ZFU23\n",
      "ZFZ23\n",
      "ZTH23\n",
      "ZTM23\n",
      "ZTU23\n",
      "ZTZ23\n",
      "SQF23\n",
      "SQG23\n",
      "SQH23\n",
      "SQJ23\n",
      "SQK23\n",
      "SQM23\n",
      "SQN23\n",
      "SQQ23\n",
      "SQU23\n",
      "SQV23\n"
     ]
    },
    {
     "ename": "NoSuchElementException",
     "evalue": "Message: no such element: Unable to locate element: {\"method\":\"css selector\",\"selector\":\"#main-content-column > div > div.barchart-content-block.commodity-profile > div.block-content > div > div:nth-child(2) > div:nth-child(4) > div.small-7.column.text-right > span > span\"}\n  (Session info: chrome=111.0.5563.64)\nStacktrace:\n#0 0x555b25417243 <unknown>\n#1 0x555b251db7a6 <unknown>\n#2 0x555b2521864d <unknown>\n#3 0x555b25218761 <unknown>\n#4 0x555b25253da4 <unknown>\n#5 0x555b252390ad <unknown>\n#6 0x555b25251932 <unknown>\n#7 0x555b25238e53 <unknown>\n#8 0x555b2520b9ea <unknown>\n#9 0x555b2520cb2e <unknown>\n#10 0x555b2546bd5e <unknown>\n#11 0x555b2546fa80 <unknown>\n#12 0x555b254518b0 <unknown>\n#13 0x555b25470b63 <unknown>\n#14 0x555b25442f75 <unknown>\n#15 0x555b25493998 <unknown>\n#16 0x555b25493b27 <unknown>\n#17 0x555b254aec23 <unknown>\n#18 0x7f831eff1609 start_thread\n",
     "output_type": "error",
     "traceback": [
      "\u001B[0;31m---------------------------------------------------------------------------\u001B[0m",
      "\u001B[0;31mNoSuchElementException\u001B[0m                    Traceback (most recent call last)",
      "\u001B[0;32m/tmp/ipykernel_14645/1970279971.py\u001B[0m in \u001B[0;36m<module>\u001B[0;34m\u001B[0m\n\u001B[1;32m      3\u001B[0m     \u001B[0mprint\u001B[0m\u001B[0;34m(\u001B[0m\u001B[0msym\u001B[0m\u001B[0;34m)\u001B[0m\u001B[0;34m\u001B[0m\u001B[0;34m\u001B[0m\u001B[0m\n\u001B[1;32m      4\u001B[0m     \u001B[0mtime\u001B[0m\u001B[0;34m.\u001B[0m\u001B[0msleep\u001B[0m\u001B[0;34m(\u001B[0m\u001B[0mrandom\u001B[0m\u001B[0;34m(\u001B[0m\u001B[0;34m)\u001B[0m\u001B[0;34m*\u001B[0m\u001B[0;36m2\u001B[0m\u001B[0;34m)\u001B[0m\u001B[0;34m\u001B[0m\u001B[0;34m\u001B[0m\u001B[0m\n\u001B[0;32m----> 5\u001B[0;31m     \u001B[0mcontract_specs\u001B[0m\u001B[0;34m.\u001B[0m\u001B[0mappend\u001B[0m\u001B[0;34m(\u001B[0m\u001B[0mbl\u001B[0m\u001B[0;34m.\u001B[0m\u001B[0mget_futures_contract_specs\u001B[0m\u001B[0;34m(\u001B[0m\u001B[0mdriver\u001B[0m\u001B[0;34m,\u001B[0m \u001B[0msym\u001B[0m\u001B[0;34m)\u001B[0m\u001B[0;34m)\u001B[0m\u001B[0;34m\u001B[0m\u001B[0;34m\u001B[0m\u001B[0m\n\u001B[0m",
      "\u001B[0;32m/home/gitrepo/futureDataCapture/barchart_lib.py\u001B[0m in \u001B[0;36mget_futures_contract_specs\u001B[0;34m(driver, sym)\u001B[0m\n\u001B[1;32m     40\u001B[0m     \u001B[0;31m# get the expiration of the contract from the option price page\u001B[0m\u001B[0;34m\u001B[0m\u001B[0;34m\u001B[0m\u001B[0;34m\u001B[0m\u001B[0m\n\u001B[1;32m     41\u001B[0m     \u001B[0mtemp_name\u001B[0m \u001B[0;34m=\u001B[0m \u001B[0;34m\"#main-content-column > div > div.barchart-content-block.commodity-profile > div.block-content > div > div:nth-child(2) > div:nth-child(4) > div.small-7.column.text-right > span > span\"\u001B[0m\u001B[0;34m\u001B[0m\u001B[0;34m\u001B[0m\u001B[0m\n\u001B[0;32m---> 42\u001B[0;31m     \u001B[0mfirst_notice\u001B[0m \u001B[0;34m=\u001B[0m \u001B[0mdriver\u001B[0m\u001B[0;34m.\u001B[0m\u001B[0mfind_element\u001B[0m\u001B[0;34m(\u001B[0m\u001B[0mBy\u001B[0m\u001B[0;34m.\u001B[0m\u001B[0mCSS_SELECTOR\u001B[0m\u001B[0;34m,\u001B[0m \u001B[0mtemp_name\u001B[0m\u001B[0;34m)\u001B[0m\u001B[0;34m.\u001B[0m\u001B[0mtext\u001B[0m\u001B[0;34m\u001B[0m\u001B[0;34m\u001B[0m\u001B[0m\n\u001B[0m\u001B[1;32m     43\u001B[0m     \u001B[0mfirst_notice\u001B[0m \u001B[0;34m=\u001B[0m \u001B[0mfirst_notice\u001B[0m\u001B[0;34m[\u001B[0m\u001B[0;36m0\u001B[0m\u001B[0;34m:\u001B[0m\u001B[0;36m8\u001B[0m\u001B[0;34m]\u001B[0m\u001B[0;34m\u001B[0m\u001B[0;34m\u001B[0m\u001B[0m\n\u001B[1;32m     44\u001B[0m \u001B[0;34m\u001B[0m\u001B[0m\n",
      "\u001B[0;32m~/anaconda3/envs/gamma/lib/python3.8/site-packages/selenium/webdriver/remote/webdriver.py\u001B[0m in \u001B[0;36mfind_element\u001B[0;34m(self, by, value)\u001B[0m\n\u001B[1;32m    829\u001B[0m             \u001B[0mvalue\u001B[0m \u001B[0;34m=\u001B[0m \u001B[0;34mf'[name=\"{value}\"]'\u001B[0m\u001B[0;34m\u001B[0m\u001B[0;34m\u001B[0m\u001B[0m\n\u001B[1;32m    830\u001B[0m \u001B[0;34m\u001B[0m\u001B[0m\n\u001B[0;32m--> 831\u001B[0;31m         \u001B[0;32mreturn\u001B[0m \u001B[0mself\u001B[0m\u001B[0;34m.\u001B[0m\u001B[0mexecute\u001B[0m\u001B[0;34m(\u001B[0m\u001B[0mCommand\u001B[0m\u001B[0;34m.\u001B[0m\u001B[0mFIND_ELEMENT\u001B[0m\u001B[0;34m,\u001B[0m \u001B[0;34m{\u001B[0m\u001B[0;34m\"using\"\u001B[0m\u001B[0;34m:\u001B[0m \u001B[0mby\u001B[0m\u001B[0;34m,\u001B[0m \u001B[0;34m\"value\"\u001B[0m\u001B[0;34m:\u001B[0m \u001B[0mvalue\u001B[0m\u001B[0;34m}\u001B[0m\u001B[0;34m)\u001B[0m\u001B[0;34m[\u001B[0m\u001B[0;34m\"value\"\u001B[0m\u001B[0;34m]\u001B[0m\u001B[0;34m\u001B[0m\u001B[0;34m\u001B[0m\u001B[0m\n\u001B[0m\u001B[1;32m    832\u001B[0m \u001B[0;34m\u001B[0m\u001B[0m\n\u001B[1;32m    833\u001B[0m     \u001B[0;32mdef\u001B[0m \u001B[0mfind_elements\u001B[0m\u001B[0;34m(\u001B[0m\u001B[0mself\u001B[0m\u001B[0;34m,\u001B[0m \u001B[0mby\u001B[0m\u001B[0;34m=\u001B[0m\u001B[0mBy\u001B[0m\u001B[0;34m.\u001B[0m\u001B[0mID\u001B[0m\u001B[0;34m,\u001B[0m \u001B[0mvalue\u001B[0m\u001B[0;34m:\u001B[0m \u001B[0mOptional\u001B[0m\u001B[0;34m[\u001B[0m\u001B[0mstr\u001B[0m\u001B[0;34m]\u001B[0m \u001B[0;34m=\u001B[0m \u001B[0;32mNone\u001B[0m\u001B[0;34m)\u001B[0m \u001B[0;34m->\u001B[0m \u001B[0mList\u001B[0m\u001B[0;34m[\u001B[0m\u001B[0mWebElement\u001B[0m\u001B[0;34m]\u001B[0m\u001B[0;34m:\u001B[0m\u001B[0;34m\u001B[0m\u001B[0;34m\u001B[0m\u001B[0m\n",
      "\u001B[0;32m~/anaconda3/envs/gamma/lib/python3.8/site-packages/selenium/webdriver/remote/webdriver.py\u001B[0m in \u001B[0;36mexecute\u001B[0;34m(self, driver_command, params)\u001B[0m\n\u001B[1;32m    438\u001B[0m         \u001B[0mresponse\u001B[0m \u001B[0;34m=\u001B[0m \u001B[0mself\u001B[0m\u001B[0;34m.\u001B[0m\u001B[0mcommand_executor\u001B[0m\u001B[0;34m.\u001B[0m\u001B[0mexecute\u001B[0m\u001B[0;34m(\u001B[0m\u001B[0mdriver_command\u001B[0m\u001B[0;34m,\u001B[0m \u001B[0mparams\u001B[0m\u001B[0;34m)\u001B[0m\u001B[0;34m\u001B[0m\u001B[0;34m\u001B[0m\u001B[0m\n\u001B[1;32m    439\u001B[0m         \u001B[0;32mif\u001B[0m \u001B[0mresponse\u001B[0m\u001B[0;34m:\u001B[0m\u001B[0;34m\u001B[0m\u001B[0;34m\u001B[0m\u001B[0m\n\u001B[0;32m--> 440\u001B[0;31m             \u001B[0mself\u001B[0m\u001B[0;34m.\u001B[0m\u001B[0merror_handler\u001B[0m\u001B[0;34m.\u001B[0m\u001B[0mcheck_response\u001B[0m\u001B[0;34m(\u001B[0m\u001B[0mresponse\u001B[0m\u001B[0;34m)\u001B[0m\u001B[0;34m\u001B[0m\u001B[0;34m\u001B[0m\u001B[0m\n\u001B[0m\u001B[1;32m    441\u001B[0m             \u001B[0mresponse\u001B[0m\u001B[0;34m[\u001B[0m\u001B[0;34m\"value\"\u001B[0m\u001B[0;34m]\u001B[0m \u001B[0;34m=\u001B[0m \u001B[0mself\u001B[0m\u001B[0;34m.\u001B[0m\u001B[0m_unwrap_value\u001B[0m\u001B[0;34m(\u001B[0m\u001B[0mresponse\u001B[0m\u001B[0;34m.\u001B[0m\u001B[0mget\u001B[0m\u001B[0;34m(\u001B[0m\u001B[0;34m\"value\"\u001B[0m\u001B[0;34m,\u001B[0m \u001B[0;32mNone\u001B[0m\u001B[0;34m)\u001B[0m\u001B[0;34m)\u001B[0m\u001B[0;34m\u001B[0m\u001B[0;34m\u001B[0m\u001B[0m\n\u001B[1;32m    442\u001B[0m             \u001B[0;32mreturn\u001B[0m \u001B[0mresponse\u001B[0m\u001B[0;34m\u001B[0m\u001B[0;34m\u001B[0m\u001B[0m\n",
      "\u001B[0;32m~/anaconda3/envs/gamma/lib/python3.8/site-packages/selenium/webdriver/remote/errorhandler.py\u001B[0m in \u001B[0;36mcheck_response\u001B[0;34m(self, response)\u001B[0m\n\u001B[1;32m    243\u001B[0m                 \u001B[0malert_text\u001B[0m \u001B[0;34m=\u001B[0m \u001B[0mvalue\u001B[0m\u001B[0;34m[\u001B[0m\u001B[0;34m\"alert\"\u001B[0m\u001B[0;34m]\u001B[0m\u001B[0;34m.\u001B[0m\u001B[0mget\u001B[0m\u001B[0;34m(\u001B[0m\u001B[0;34m\"text\"\u001B[0m\u001B[0;34m)\u001B[0m\u001B[0;34m\u001B[0m\u001B[0;34m\u001B[0m\u001B[0m\n\u001B[1;32m    244\u001B[0m             \u001B[0;32mraise\u001B[0m \u001B[0mexception_class\u001B[0m\u001B[0;34m(\u001B[0m\u001B[0mmessage\u001B[0m\u001B[0;34m,\u001B[0m \u001B[0mscreen\u001B[0m\u001B[0;34m,\u001B[0m \u001B[0mstacktrace\u001B[0m\u001B[0;34m,\u001B[0m \u001B[0malert_text\u001B[0m\u001B[0;34m)\u001B[0m  \u001B[0;31m# type: ignore[call-arg]  # mypy is not smart enough here\u001B[0m\u001B[0;34m\u001B[0m\u001B[0;34m\u001B[0m\u001B[0m\n\u001B[0;32m--> 245\u001B[0;31m         \u001B[0;32mraise\u001B[0m \u001B[0mexception_class\u001B[0m\u001B[0;34m(\u001B[0m\u001B[0mmessage\u001B[0m\u001B[0;34m,\u001B[0m \u001B[0mscreen\u001B[0m\u001B[0;34m,\u001B[0m \u001B[0mstacktrace\u001B[0m\u001B[0;34m)\u001B[0m\u001B[0;34m\u001B[0m\u001B[0;34m\u001B[0m\u001B[0m\n\u001B[0m",
      "\u001B[0;31mNoSuchElementException\u001B[0m: Message: no such element: Unable to locate element: {\"method\":\"css selector\",\"selector\":\"#main-content-column > div > div.barchart-content-block.commodity-profile > div.block-content > div > div:nth-child(2) > div:nth-child(4) > div.small-7.column.text-right > span > span\"}\n  (Session info: chrome=111.0.5563.64)\nStacktrace:\n#0 0x555b25417243 <unknown>\n#1 0x555b251db7a6 <unknown>\n#2 0x555b2521864d <unknown>\n#3 0x555b25218761 <unknown>\n#4 0x555b25253da4 <unknown>\n#5 0x555b252390ad <unknown>\n#6 0x555b25251932 <unknown>\n#7 0x555b25238e53 <unknown>\n#8 0x555b2520b9ea <unknown>\n#9 0x555b2520cb2e <unknown>\n#10 0x555b2546bd5e <unknown>\n#11 0x555b2546fa80 <unknown>\n#12 0x555b254518b0 <unknown>\n#13 0x555b25470b63 <unknown>\n#14 0x555b25442f75 <unknown>\n#15 0x555b25493998 <unknown>\n#16 0x555b25493b27 <unknown>\n#17 0x555b254aec23 <unknown>\n#18 0x7f831eff1609 start_thread\n"
     ]
    }
   ],
   "source": [
    "contract_specs = []\n",
    "for sym in all_syms:\n",
    "    print(sym)\n",
    "    time.sleep(random()*2)\n",
    "    contract_specs.append(bl.get_futures_contract_specs(driver, sym))"
   ],
   "metadata": {
    "collapsed": false
   }
  },
  {
   "cell_type": "code",
   "execution_count": 5,
   "outputs": [],
   "source": [
    "df_contracts = pd.DataFrame([all_syms, contract_specs]).T"
   ],
   "metadata": {
    "collapsed": false,
    "ExecuteTime": {
     "start_time": "2023-04-01T09:12:15.262676Z",
     "end_time": "2023-04-01T09:12:15.263693Z"
    }
   }
  },
  {
   "cell_type": "code",
   "execution_count": 6,
   "outputs": [],
   "source": [
    "df_contracts.to_csv('future_contract_spec.2.csv')"
   ],
   "metadata": {
    "collapsed": false,
    "ExecuteTime": {
     "start_time": "2023-04-01T09:12:17.144214Z",
     "end_time": "2023-04-01T09:12:17.146846Z"
    }
   }
  },
  {
   "cell_type": "code",
   "execution_count": 7,
   "outputs": [],
   "source": [
    "driver.quit()"
   ],
   "metadata": {
    "collapsed": false,
    "ExecuteTime": {
     "start_time": "2023-04-01T09:12:18.080394Z",
     "end_time": "2023-04-01T09:12:18.162931Z"
    }
   }
  }
 ],
 "metadata": {
  "kernelspec": {
   "name": "gamma",
   "language": "python",
   "display_name": "gamma"
  },
  "language_info": {
   "codemirror_mode": {
    "name": "ipython",
    "version": 2
   },
   "file_extension": ".py",
   "mimetype": "text/x-python",
   "name": "python",
   "nbconvert_exporter": "python",
   "pygments_lexer": "ipython2",
   "version": "2.7.6"
  }
 },
 "nbformat": 4,
 "nbformat_minor": 0
}
