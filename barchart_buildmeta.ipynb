{
 "cells": [
  {
   "cell_type": "code",
   "execution_count": 20,
   "metadata": {
    "collapsed": true
   },
   "outputs": [
    {
     "data": {
      "text/plain": "'C:\\\\Users\\\\mcbri\\\\PycharmProjects\\\\futureDataCapture\\\\chromedriver.exe'"
     },
     "metadata": {},
     "output_type": "display_data"
    },
    {
     "data": {
      "text/plain": "'2023-03-24'"
     },
     "execution_count": 20,
     "metadata": {},
     "output_type": "execute_result"
    }
   ],
   "source": [
    "from selenium import webdriver\n",
    "import os\n",
    "from selenium.webdriver.common.by import By\n",
    "import time\n",
    "import pandas as pd\n",
    "import numpy as np\n",
    "from datetime import datetime\n",
    "import db_multiproc_calc_neutral2 as dmc\n",
    "from random import *\n",
    "\n",
    "rf_rate = 0.0475\n",
    "k_do_download = True\n",
    "\n",
    "cwd = os.getcwd()\n",
    "\n",
    "executable_path = os.path.join(cwd,'chromedriver.exe')\n",
    "display(executable_path)\n",
    "\n",
    "date_str = datetime.now().strftime(\"%Y-%m-%d\")\n",
    "date_str = '2023-03-24'\n",
    "file_date_str = date_str\n",
    "\n",
    "download_path = os.path.join(cwd, 'local_download')\n",
    "file_date_str"
   ]
  },
  {
   "cell_type": "code",
   "execution_count": 21,
   "outputs": [],
   "source": [
    "def bar_chart_get_driver(executable_path, download_path):\n",
    "    chromeOptions = webdriver.ChromeOptions()\n",
    "    chromeOptions.add_experimental_option(\"prefs\", {\n",
    "        \"download.default_directory\": download_path,\n",
    "        \"download.prompt_for_download\": False,\n",
    "        \"download.directory_upgrade\": True,\n",
    "        \"safebrowsing.enabled\": True\n",
    "    })\n",
    "    #chromeOptions.add_argument(\"--window-size=50000,50000\")\n",
    "    driver = webdriver.Chrome(executable_path=executable_path, options=chromeOptions)\n",
    "    return driver\n",
    "\n",
    "def bar_chart_login(driver):\n",
    "    driver.get(\"https://www.barchart.com/login\")\n",
    "    driver.find_element(By.NAME, \"email\").click()\n",
    "    driver.find_element(By.NAME, \"email\").send_keys(\"mcbride1689@gmail.com\")\n",
    "    driver.find_element(By.NAME, \"password\").click()\n",
    "    driver.find_element(By.NAME, \"password\").send_keys(\"d5nJSz57A8C5\")\n",
    "    driver.find_element_by_class_name('login-button').click()\n",
    "    return\n",
    "\n"
   ],
   "metadata": {
    "collapsed": false
   }
  },
  {
   "cell_type": "code",
   "execution_count": 22,
   "outputs": [],
   "source": [
    "#############################\n",
    "# get the Futures contracts and months we are needing and build a list of all the distinct contracts\n",
    "\n",
    "df_future_month_def = pd.read_csv('futures_months.csv')\n",
    "\n",
    "target_years = [23]\n",
    "\n",
    "all_syms = []\n",
    "for idx, row in df_future_month_def.iterrows():\n",
    "    for y in target_years:\n",
    "        for m in row['Month']:\n",
    "            all_syms.append(row['symbol_root']+m+f'{y:.0f}')"
   ],
   "metadata": {
    "collapsed": false
   }
  },
  {
   "cell_type": "code",
   "execution_count": 23,
   "outputs": [],
   "source": [
    "if k_do_download:\n",
    "    driver = bar_chart_get_driver(executable_path, download_path)\n",
    "    bar_chart_login(driver)"
   ],
   "metadata": {
    "collapsed": false
   }
  },
  {
   "cell_type": "code",
   "execution_count": 24,
   "outputs": [],
   "source": [
    "def get_futures_contract_specs(sym):\n",
    "    contract_root_url = f\"https://www.barchart.com/futures/quotes/{sym}/overview\"\n",
    "    option_greek_url = f'https://www.barchart.com/futures/quotes/{sym}/volatility-greeks?moneyness=allRows'\n",
    "\n",
    "    #-------------\n",
    "    # open the contract root page\n",
    "    driver.get(contract_root_url)\n",
    "\n",
    "    # get the first notice and expiration date\n",
    "    time.sleep(random()*3)\n",
    "    # get the expiration of the contract from the option price page\n",
    "    temp_name = \"#main-content-column > div > div.barchart-content-block.commodity-profile > div.block-content > div > div:nth-child(2) > div:nth-child(4) > div.small-7.column.text-right > span > span\"\n",
    "    first_notice = driver.find_element(By.CSS_SELECTOR, temp_name).text\n",
    "    first_notice = first_notice[0:8]\n",
    "\n",
    "    temp_name = \"#main-content-column > div > div.barchart-content-block.commodity-profile > div.block-content > div > div:nth-child(2) > div:nth-child(5) > div.small-7.column.text-right > span > span\"\n",
    "    futures_expiration = driver.find_element(By.CSS_SELECTOR, temp_name).text\n",
    "    # make sure we only get the date portion\n",
    "    futures_expiration = futures_expiration[0:8]\n",
    "\n",
    "    #-------------\n",
    "    # open the greeks page to get options contract details. We open each contract page and get the top 4 months\n",
    "    driver.get(option_greek_url)\n",
    "    time.sleep(random()+1)\n",
    "    try:\n",
    "        # Get the list of options in the dropdown\n",
    "        driver.find_element(By.ID, \"bc-options-toolbar__dropdown-month\").click()\n",
    "        dropdown = driver.find_element(By.ID, \"bc-options-toolbar__dropdown-month\")\n",
    "        options = dropdown.text\n",
    "        options = options.split('\\n')\n",
    "        options = [x.lstrip() for x in options]\n",
    "        mon_expr=[]\n",
    "        option_expiration=[]\n",
    "        # iterate through the options and get the expiration\n",
    "        for i in [0, 1, 2]:\n",
    "            time.sleep(random()*3)\n",
    "            try:\n",
    "                driver.find_element(By.ID, \"bc-options-toolbar__dropdown-month\").click()\n",
    "                dropdown = driver.find_element(By.ID, \"bc-options-toolbar__dropdown-month\")\n",
    "                dropdown.find_element(By.XPATH, f\"//option[. = '{options[i]}']\").click()\n",
    "\n",
    "                # Get the contract associated with the month\n",
    "                temp_name = \"#main-content-column > div > div.page-title.symbol-header-info.ng-scope > div.symbol-name > div > span:nth-child(2)\"\n",
    "                # note we remove ( and ) by removing the first and last character\n",
    "                mon_expr.append(driver.find_element(By.CSS_SELECTOR, temp_name).text[1:-1])\n",
    "\n",
    "                temp_name = \"#main-content-column > div > div:nth-child(4) > div > div:nth-child(1) > div > strong:nth-child(2)\"\n",
    "                option_expiration.append(driver.find_element(By.CSS_SELECTOR, temp_name).text)\n",
    "            except:\n",
    "                print(options[i] + \" not found\")\n",
    "    except:\n",
    "        mon_expr = ['']\n",
    "        option_expiration = ['']\n",
    "\n",
    "    ret_data = [first_notice, futures_expiration, mon_expr,option_expiration]\n",
    "    return ret_data"
   ],
   "metadata": {
    "collapsed": false
   }
  },
  {
   "cell_type": "code",
   "execution_count": 25,
   "outputs": [
    {
     "name": "stdout",
     "output_type": "stream",
     "text": [
      "ZFH23\n",
      "ZFM23\n",
      "ZFU23\n",
      "ZFZ23\n",
      "ZTH23\n",
      "ZTM23\n",
      "ZTU23\n",
      "ZTZ23\n",
      "SQF23\n",
      "SQG23\n",
      "SQH23\n",
      "SQJ23\n",
      "SQK23\n",
      "SQM23\n",
      "SQN23\n",
      "SQQ23\n",
      "SQU23\n",
      "SQV23\n"
     ]
    },
    {
     "ename": "NoSuchElementException",
     "evalue": "Message: no such element: Unable to locate element: {\"method\":\"css selector\",\"selector\":\"#main-content-column > div > div.barchart-content-block.commodity-profile > div.block-content > div > div:nth-child(2) > div:nth-child(4) > div.small-7.column.text-right > span > span\"}\n  (Session info: chrome=111.0.5563.111)\n",
     "output_type": "error",
     "traceback": [
      "\u001B[1;31m---------------------------------------------------------------------------\u001B[0m",
      "\u001B[1;31mNoSuchElementException\u001B[0m                    Traceback (most recent call last)",
      "\u001B[1;32m<ipython-input-25-96d933a6929e>\u001B[0m in \u001B[0;36m<module>\u001B[1;34m\u001B[0m\n\u001B[0;32m      3\u001B[0m     \u001B[0mprint\u001B[0m\u001B[1;33m(\u001B[0m\u001B[0msym\u001B[0m\u001B[1;33m)\u001B[0m\u001B[1;33m\u001B[0m\u001B[1;33m\u001B[0m\u001B[0m\n\u001B[0;32m      4\u001B[0m     \u001B[0mtime\u001B[0m\u001B[1;33m.\u001B[0m\u001B[0msleep\u001B[0m\u001B[1;33m(\u001B[0m\u001B[0mrandom\u001B[0m\u001B[1;33m(\u001B[0m\u001B[1;33m)\u001B[0m\u001B[1;33m*\u001B[0m\u001B[1;36m2\u001B[0m\u001B[1;33m)\u001B[0m\u001B[1;33m\u001B[0m\u001B[1;33m\u001B[0m\u001B[0m\n\u001B[1;32m----> 5\u001B[1;33m     \u001B[0mcontract_specs\u001B[0m\u001B[1;33m.\u001B[0m\u001B[0mappend\u001B[0m\u001B[1;33m(\u001B[0m\u001B[0mget_futures_contract_specs\u001B[0m\u001B[1;33m(\u001B[0m\u001B[0msym\u001B[0m\u001B[1;33m)\u001B[0m\u001B[1;33m)\u001B[0m\u001B[1;33m\u001B[0m\u001B[1;33m\u001B[0m\u001B[0m\n\u001B[0m",
      "\u001B[1;32m<ipython-input-24-f9f3db2682b5>\u001B[0m in \u001B[0;36mget_futures_contract_specs\u001B[1;34m(sym)\u001B[0m\n\u001B[0;32m     11\u001B[0m     \u001B[1;31m# get the expiration of the contract from the option price page\u001B[0m\u001B[1;33m\u001B[0m\u001B[1;33m\u001B[0m\u001B[1;33m\u001B[0m\u001B[0m\n\u001B[0;32m     12\u001B[0m     \u001B[0mtemp_name\u001B[0m \u001B[1;33m=\u001B[0m \u001B[1;34m\"#main-content-column > div > div.barchart-content-block.commodity-profile > div.block-content > div > div:nth-child(2) > div:nth-child(4) > div.small-7.column.text-right > span > span\"\u001B[0m\u001B[1;33m\u001B[0m\u001B[1;33m\u001B[0m\u001B[0m\n\u001B[1;32m---> 13\u001B[1;33m     \u001B[0mfirst_notice\u001B[0m \u001B[1;33m=\u001B[0m \u001B[0mdriver\u001B[0m\u001B[1;33m.\u001B[0m\u001B[0mfind_element\u001B[0m\u001B[1;33m(\u001B[0m\u001B[0mBy\u001B[0m\u001B[1;33m.\u001B[0m\u001B[0mCSS_SELECTOR\u001B[0m\u001B[1;33m,\u001B[0m \u001B[0mtemp_name\u001B[0m\u001B[1;33m)\u001B[0m\u001B[1;33m.\u001B[0m\u001B[0mtext\u001B[0m\u001B[1;33m\u001B[0m\u001B[1;33m\u001B[0m\u001B[0m\n\u001B[0m\u001B[0;32m     14\u001B[0m     \u001B[0mfirst_notice\u001B[0m \u001B[1;33m=\u001B[0m \u001B[0mfirst_notice\u001B[0m\u001B[1;33m[\u001B[0m\u001B[1;36m0\u001B[0m\u001B[1;33m:\u001B[0m\u001B[1;36m8\u001B[0m\u001B[1;33m]\u001B[0m\u001B[1;33m\u001B[0m\u001B[1;33m\u001B[0m\u001B[0m\n\u001B[0;32m     15\u001B[0m \u001B[1;33m\u001B[0m\u001B[0m\n",
      "\u001B[1;32m~\\anaconda3\\envs\\gamma\\lib\\site-packages\\selenium\\webdriver\\remote\\webdriver.py\u001B[0m in \u001B[0;36mfind_element\u001B[1;34m(self, by, value)\u001B[0m\n\u001B[0;32m    976\u001B[0m         return self.execute(Command.FIND_ELEMENT, {\n\u001B[0;32m    977\u001B[0m             \u001B[1;34m'using'\u001B[0m\u001B[1;33m:\u001B[0m \u001B[0mby\u001B[0m\u001B[1;33m,\u001B[0m\u001B[1;33m\u001B[0m\u001B[1;33m\u001B[0m\u001B[0m\n\u001B[1;32m--> 978\u001B[1;33m             'value': value})['value']\n\u001B[0m\u001B[0;32m    979\u001B[0m \u001B[1;33m\u001B[0m\u001B[0m\n\u001B[0;32m    980\u001B[0m     \u001B[1;32mdef\u001B[0m \u001B[0mfind_elements\u001B[0m\u001B[1;33m(\u001B[0m\u001B[0mself\u001B[0m\u001B[1;33m,\u001B[0m \u001B[0mby\u001B[0m\u001B[1;33m=\u001B[0m\u001B[0mBy\u001B[0m\u001B[1;33m.\u001B[0m\u001B[0mID\u001B[0m\u001B[1;33m,\u001B[0m \u001B[0mvalue\u001B[0m\u001B[1;33m=\u001B[0m\u001B[1;32mNone\u001B[0m\u001B[1;33m)\u001B[0m\u001B[1;33m:\u001B[0m\u001B[1;33m\u001B[0m\u001B[1;33m\u001B[0m\u001B[0m\n",
      "\u001B[1;32m~\\anaconda3\\envs\\gamma\\lib\\site-packages\\selenium\\webdriver\\remote\\webdriver.py\u001B[0m in \u001B[0;36mexecute\u001B[1;34m(self, driver_command, params)\u001B[0m\n\u001B[0;32m    319\u001B[0m         \u001B[0mresponse\u001B[0m \u001B[1;33m=\u001B[0m \u001B[0mself\u001B[0m\u001B[1;33m.\u001B[0m\u001B[0mcommand_executor\u001B[0m\u001B[1;33m.\u001B[0m\u001B[0mexecute\u001B[0m\u001B[1;33m(\u001B[0m\u001B[0mdriver_command\u001B[0m\u001B[1;33m,\u001B[0m \u001B[0mparams\u001B[0m\u001B[1;33m)\u001B[0m\u001B[1;33m\u001B[0m\u001B[1;33m\u001B[0m\u001B[0m\n\u001B[0;32m    320\u001B[0m         \u001B[1;32mif\u001B[0m \u001B[0mresponse\u001B[0m\u001B[1;33m:\u001B[0m\u001B[1;33m\u001B[0m\u001B[1;33m\u001B[0m\u001B[0m\n\u001B[1;32m--> 321\u001B[1;33m             \u001B[0mself\u001B[0m\u001B[1;33m.\u001B[0m\u001B[0merror_handler\u001B[0m\u001B[1;33m.\u001B[0m\u001B[0mcheck_response\u001B[0m\u001B[1;33m(\u001B[0m\u001B[0mresponse\u001B[0m\u001B[1;33m)\u001B[0m\u001B[1;33m\u001B[0m\u001B[1;33m\u001B[0m\u001B[0m\n\u001B[0m\u001B[0;32m    322\u001B[0m             response['value'] = self._unwrap_value(\n\u001B[0;32m    323\u001B[0m                 response.get('value', None))\n",
      "\u001B[1;32m~\\anaconda3\\envs\\gamma\\lib\\site-packages\\selenium\\webdriver\\remote\\errorhandler.py\u001B[0m in \u001B[0;36mcheck_response\u001B[1;34m(self, response)\u001B[0m\n\u001B[0;32m    240\u001B[0m                 \u001B[0malert_text\u001B[0m \u001B[1;33m=\u001B[0m \u001B[0mvalue\u001B[0m\u001B[1;33m[\u001B[0m\u001B[1;34m'alert'\u001B[0m\u001B[1;33m]\u001B[0m\u001B[1;33m.\u001B[0m\u001B[0mget\u001B[0m\u001B[1;33m(\u001B[0m\u001B[1;34m'text'\u001B[0m\u001B[1;33m)\u001B[0m\u001B[1;33m\u001B[0m\u001B[1;33m\u001B[0m\u001B[0m\n\u001B[0;32m    241\u001B[0m             \u001B[1;32mraise\u001B[0m \u001B[0mexception_class\u001B[0m\u001B[1;33m(\u001B[0m\u001B[0mmessage\u001B[0m\u001B[1;33m,\u001B[0m \u001B[0mscreen\u001B[0m\u001B[1;33m,\u001B[0m \u001B[0mstacktrace\u001B[0m\u001B[1;33m,\u001B[0m \u001B[0malert_text\u001B[0m\u001B[1;33m)\u001B[0m\u001B[1;33m\u001B[0m\u001B[1;33m\u001B[0m\u001B[0m\n\u001B[1;32m--> 242\u001B[1;33m         \u001B[1;32mraise\u001B[0m \u001B[0mexception_class\u001B[0m\u001B[1;33m(\u001B[0m\u001B[0mmessage\u001B[0m\u001B[1;33m,\u001B[0m \u001B[0mscreen\u001B[0m\u001B[1;33m,\u001B[0m \u001B[0mstacktrace\u001B[0m\u001B[1;33m)\u001B[0m\u001B[1;33m\u001B[0m\u001B[1;33m\u001B[0m\u001B[0m\n\u001B[0m\u001B[0;32m    243\u001B[0m \u001B[1;33m\u001B[0m\u001B[0m\n\u001B[0;32m    244\u001B[0m     \u001B[1;32mdef\u001B[0m \u001B[0m_value_or_default\u001B[0m\u001B[1;33m(\u001B[0m\u001B[0mself\u001B[0m\u001B[1;33m,\u001B[0m \u001B[0mobj\u001B[0m\u001B[1;33m,\u001B[0m \u001B[0mkey\u001B[0m\u001B[1;33m,\u001B[0m \u001B[0mdefault\u001B[0m\u001B[1;33m)\u001B[0m\u001B[1;33m:\u001B[0m\u001B[1;33m\u001B[0m\u001B[1;33m\u001B[0m\u001B[0m\n",
      "\u001B[1;31mNoSuchElementException\u001B[0m: Message: no such element: Unable to locate element: {\"method\":\"css selector\",\"selector\":\"#main-content-column > div > div.barchart-content-block.commodity-profile > div.block-content > div > div:nth-child(2) > div:nth-child(4) > div.small-7.column.text-right > span > span\"}\n  (Session info: chrome=111.0.5563.111)\n"
     ]
    }
   ],
   "source": [
    "contract_specs = []\n",
    "for sym in all_syms:\n",
    "    print(sym)\n",
    "    time.sleep(random()*2)\n",
    "    contract_specs.append(get_futures_contract_specs(sym))"
   ],
   "metadata": {
    "collapsed": false
   }
  },
  {
   "cell_type": "code",
   "execution_count": 26,
   "outputs": [],
   "source": [
    "df_contracts = pd.DataFrame([all_syms, contract_specs]).T"
   ],
   "metadata": {
    "collapsed": false
   }
  },
  {
   "cell_type": "code",
   "execution_count": 27,
   "outputs": [],
   "source": [
    "df_contracts.to_csv('future_contract_spec.2.csv')"
   ],
   "metadata": {
    "collapsed": false
   }
  },
  {
   "cell_type": "code",
   "execution_count": 28,
   "outputs": [],
   "source": [
    "driver.quit()"
   ],
   "metadata": {
    "collapsed": false
   }
  }
 ],
 "metadata": {
  "kernelspec": {
   "name": "gamma",
   "language": "python",
   "display_name": "gamma"
  },
  "language_info": {
   "codemirror_mode": {
    "name": "ipython",
    "version": 2
   },
   "file_extension": ".py",
   "mimetype": "text/x-python",
   "name": "python",
   "nbconvert_exporter": "python",
   "pygments_lexer": "ipython2",
   "version": "2.7.6"
  }
 },
 "nbformat": 4,
 "nbformat_minor": 0
}
